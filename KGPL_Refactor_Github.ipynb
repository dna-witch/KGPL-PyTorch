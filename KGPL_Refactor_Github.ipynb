{
  "nbformat": 4,
  "nbformat_minor": 0,
  "metadata": {
    "colab": {
      "provenance": [],
      "machine_shape": "hm"
    },
    "kernelspec": {
      "name": "python3",
      "display_name": "Python 3"
    },
    "language_info": {
      "name": "python"
    }
  },
  "cells": [
    {
      "cell_type": "code",
      "execution_count": null,
      "metadata": {
        "colab": {
          "base_uri": "https://localhost:8080/"
        },
        "id": "cIUwT-4Ottho",
        "outputId": "00dbbefb-0d84-42f0-b17c-a09b13925458"
      },
      "outputs": [
        {
          "output_type": "stream",
          "name": "stdout",
          "text": [
            "Cloning into 'KGPL-PyTorch'...\n",
            "remote: Enumerating objects: 292, done.\u001b[K\n",
            "remote: Counting objects: 100% (123/123), done.\u001b[K\n",
            "remote: Compressing objects: 100% (111/111), done.\u001b[K\n",
            "remote: Total 292 (delta 65), reused 11 (delta 11), pack-reused 169 (from 1)\u001b[K\n",
            "Receiving objects: 100% (292/292), 7.49 MiB | 24.57 MiB/s, done.\n",
            "Resolving deltas: 100% (106/106), done.\n"
          ]
        }
      ],
      "source": [
        "!git clone https://github.com/dna-witch/KGPL-PyTorch/ -b th-dev"
      ]
    },
    {
      "cell_type": "code",
      "source": [
        "!pip install -r KGPL-PyTorch/requirements.txt"
      ],
      "metadata": {
        "colab": {
          "base_uri": "https://localhost:8080/"
        },
        "id": "oZDbEMFNuAt7",
        "outputId": "f277de58-4ec8-475a-c6ae-1397ae0b0b54"
      },
      "execution_count": null,
      "outputs": [
        {
          "output_type": "stream",
          "name": "stdout",
          "text": [
            "Collecting hydra-core==0.11.3 (from -r KGPL-PyTorch/requirements.txt (line 1))\n",
            "  Downloading hydra_core-0.11.3-py3-none-any.whl.metadata (2.2 kB)\n",
            "Collecting omegaconf==1.4.1 (from -r KGPL-PyTorch/requirements.txt (line 2))\n",
            "  Downloading omegaconf-1.4.1-py3-none-any.whl.metadata (2.9 kB)\n",
            "Collecting loguru==0.5.0 (from -r KGPL-PyTorch/requirements.txt (line 3))\n",
            "  Downloading loguru-0.5.0-py3-none-any.whl.metadata (20 kB)\n",
            "Requirement already satisfied: six in /usr/local/lib/python3.11/dist-packages (from omegaconf==1.4.1->-r KGPL-PyTorch/requirements.txt (line 2)) (1.17.0)\n",
            "Requirement already satisfied: PyYAML in /usr/local/lib/python3.11/dist-packages (from omegaconf==1.4.1->-r KGPL-PyTorch/requirements.txt (line 2)) (6.0.2)\n",
            "Downloading hydra_core-0.11.3-py3-none-any.whl (72 kB)\n",
            "\u001b[2K   \u001b[90m━━━━━━━━━━━━━━━━━━━━━━━━━━━━━━━━━━━━━━━━\u001b[0m \u001b[32m72.1/72.1 kB\u001b[0m \u001b[31m2.6 MB/s\u001b[0m eta \u001b[36m0:00:00\u001b[0m\n",
            "\u001b[?25hDownloading omegaconf-1.4.1-py3-none-any.whl (14 kB)\n",
            "Downloading loguru-0.5.0-py3-none-any.whl (56 kB)\n",
            "\u001b[2K   \u001b[90m━━━━━━━━━━━━━━━━━━━━━━━━━━━━━━━━━━━━━━━━\u001b[0m \u001b[32m56.4/56.4 kB\u001b[0m \u001b[31m4.3 MB/s\u001b[0m eta \u001b[36m0:00:00\u001b[0m\n",
            "\u001b[?25hInstalling collected packages: omegaconf, loguru, hydra-core\n",
            "Successfully installed hydra-core-0.11.3 loguru-0.5.0 omegaconf-1.4.1\n"
          ]
        }
      ]
    },
    {
      "cell_type": "code",
      "source": [
        "!cd KGPL-PyTorch &&\\\n",
        "python preprocess/preprocess.py -d \"music\" &&\\\n",
        "python preprocess/make_path_list.py lp_depth=6 dataset=music kg_path=data/music/kg_final.npy rating_path=data/music/ratings_final.npy num_neighbor_samples=32"
      ],
      "metadata": {
        "colab": {
          "base_uri": "https://localhost:8080/"
        },
        "id": "FJ4gHfhnzWHU",
        "outputId": "c7b2df88-613d-4540-d21c-40502ace37f8"
      },
      "execution_count": null,
      "outputs": [
        {
          "output_type": "stream",
          "name": "stdout",
          "text": [
            "reading item index to entity id file: data/music/item_index2entity_id.txt ...\n",
            "reading rating file ...\n",
            "converting rating file ...\n",
            "number of users: 1872\n",
            "number of items: 3846\n",
            "converting kg file ...\n",
            "number of entities (containing items): 9366\n",
            "number of relations: 60\n",
            "done\n",
            "adj_entity_path: data/music/adj_entity_6_32.npy\n",
            "adj_relation_path: data/music/adj_relation_6_32.npy\n",
            "data_path: data/music/fold1.pkl\n",
            "dataset: music\n",
            "kg_path: data/music/kg_final.npy\n",
            "lp_depth: 6\n",
            "num_neighbor_samples: 32\n",
            "pathlist_path: data/music/path_list_6_32.pkl\n",
            "rating_path: data/music/ratings_final.npy\n",
            "reachable_items_path: data/music/reachable_items.pkl\n",
            "\n",
            "[Parallel(n_jobs=32)]: Using backend MultiprocessingBackend with 32 concurrent workers.\n",
            "[Parallel(n_jobs=32)]: Batch computation too fast (0.02620244026184082s.) Setting batch_size=2.\n",
            "[Parallel(n_jobs=32)]: Done   8 tasks      | elapsed:    0.1s\n",
            "[Parallel(n_jobs=32)]: Done  21 tasks      | elapsed:    0.4s\n",
            "[Parallel(n_jobs=32)]: Done  34 tasks      | elapsed:    0.6s\n",
            "[Parallel(n_jobs=32)]: Done  50 tasks      | elapsed:    1.2s\n",
            "[Parallel(n_jobs=32)]: Done  70 tasks      | elapsed:    1.9s\n",
            "[Parallel(n_jobs=32)]: Batch computation too slow (2.088317537586774s.) Setting batch_size=1.\n",
            "[Parallel(n_jobs=32)]: Done 102 tasks      | elapsed:    2.8s\n",
            "[Parallel(n_jobs=32)]: Done 133 tasks      | elapsed:    3.9s\n",
            "[Parallel(n_jobs=32)]: Done 170 tasks      | elapsed:    4.7s\n",
            "[Parallel(n_jobs=32)]: Done 206 tasks      | elapsed:    5.3s\n",
            "[Parallel(n_jobs=32)]: Done 234 tasks      | elapsed:    6.1s\n",
            "[Parallel(n_jobs=32)]: Done 262 tasks      | elapsed:    7.0s\n",
            "[Parallel(n_jobs=32)]: Done 289 tasks      | elapsed:    7.8s\n",
            "[Parallel(n_jobs=32)]: Done 313 tasks      | elapsed:    8.5s\n",
            "[Parallel(n_jobs=32)]: Done 340 tasks      | elapsed:    9.2s\n",
            "[Parallel(n_jobs=32)]: Done 367 tasks      | elapsed:    9.6s\n",
            "[Parallel(n_jobs=32)]: Done 395 tasks      | elapsed:   10.2s\n",
            "[Parallel(n_jobs=32)]: Done 422 tasks      | elapsed:   11.4s\n",
            "[Parallel(n_jobs=32)]: Done 451 tasks      | elapsed:   12.1s\n",
            "[Parallel(n_jobs=32)]: Done 480 tasks      | elapsed:   13.0s\n",
            "[Parallel(n_jobs=32)]: Done 512 tasks      | elapsed:   13.9s\n",
            "[Parallel(n_jobs=32)]: Done 543 tasks      | elapsed:   14.8s\n",
            "[Parallel(n_jobs=32)]: Done 577 tasks      | elapsed:   16.0s\n",
            "[Parallel(n_jobs=32)]: Done 610 tasks      | elapsed:   16.6s\n",
            "[Parallel(n_jobs=32)]: Done 645 tasks      | elapsed:   17.7s\n",
            "[Parallel(n_jobs=32)]: Done 680 tasks      | elapsed:   19.0s\n",
            "[Parallel(n_jobs=32)]: Done 717 tasks      | elapsed:   19.7s\n",
            "[Parallel(n_jobs=32)]: Done 754 tasks      | elapsed:   20.6s\n",
            "[Parallel(n_jobs=32)]: Done 793 tasks      | elapsed:   22.5s\n",
            "[Parallel(n_jobs=32)]: Done 832 tasks      | elapsed:   24.4s\n",
            "[Parallel(n_jobs=32)]: Done 873 tasks      | elapsed:   25.6s\n",
            "[Parallel(n_jobs=32)]: Done 914 tasks      | elapsed:   27.2s\n",
            "[Parallel(n_jobs=32)]: Done 957 tasks      | elapsed:   28.5s\n",
            "[Parallel(n_jobs=32)]: Done 1000 tasks      | elapsed:   29.5s\n",
            "[Parallel(n_jobs=32)]: Done 1045 tasks      | elapsed:   30.4s\n",
            "[Parallel(n_jobs=32)]: Done 1090 tasks      | elapsed:   31.6s\n",
            "[Parallel(n_jobs=32)]: Done 1137 tasks      | elapsed:   33.0s\n",
            "[Parallel(n_jobs=32)]: Done 1184 tasks      | elapsed:   34.5s\n",
            "[Parallel(n_jobs=32)]: Done 1233 tasks      | elapsed:   35.9s\n",
            "[Parallel(n_jobs=32)]: Done 1282 tasks      | elapsed:   37.5s\n",
            "[Parallel(n_jobs=32)]: Done 1333 tasks      | elapsed:   39.8s\n",
            "[Parallel(n_jobs=32)]: Done 1384 tasks      | elapsed:   42.0s\n",
            "[Parallel(n_jobs=32)]: Done 1437 tasks      | elapsed:   43.2s\n",
            "[Parallel(n_jobs=32)]: Done 1490 tasks      | elapsed:   45.2s\n",
            "[Parallel(n_jobs=32)]: Done 1545 tasks      | elapsed:   46.6s\n",
            "[Parallel(n_jobs=32)]: Done 1600 tasks      | elapsed:   49.1s\n",
            "[Parallel(n_jobs=32)]: Done 1657 tasks      | elapsed:   51.5s\n",
            "[Parallel(n_jobs=32)]: Done 1714 tasks      | elapsed:   53.5s\n",
            "[Parallel(n_jobs=32)]: Done 1773 tasks      | elapsed:   54.9s\n",
            "[Parallel(n_jobs=32)]: Done 1832 tasks      | elapsed:   56.6s\n",
            "[Parallel(n_jobs=32)]: Done 1893 tasks      | elapsed:   58.2s\n",
            "[Parallel(n_jobs=32)]: Done 1954 tasks      | elapsed:  1.0min\n",
            "[Parallel(n_jobs=32)]: Done 2017 tasks      | elapsed:  1.0min\n",
            "[Parallel(n_jobs=32)]: Done 2080 tasks      | elapsed:  1.1min\n",
            "[Parallel(n_jobs=32)]: Done 2145 tasks      | elapsed:  1.1min\n",
            "[Parallel(n_jobs=32)]: Done 2210 tasks      | elapsed:  1.1min\n",
            "[Parallel(n_jobs=32)]: Done 2277 tasks      | elapsed:  1.2min\n",
            "[Parallel(n_jobs=32)]: Done 2344 tasks      | elapsed:  1.2min\n",
            "[Parallel(n_jobs=32)]: Done 2413 tasks      | elapsed:  1.2min\n",
            "[Parallel(n_jobs=32)]: Done 2482 tasks      | elapsed:  1.3min\n",
            "[Parallel(n_jobs=32)]: Done 2553 tasks      | elapsed:  1.3min\n",
            "[Parallel(n_jobs=32)]: Done 2624 tasks      | elapsed:  1.4min\n",
            "[Parallel(n_jobs=32)]: Done 2697 tasks      | elapsed:  1.4min\n",
            "[Parallel(n_jobs=32)]: Done 2770 tasks      | elapsed:  1.5min\n",
            "[Parallel(n_jobs=32)]: Done 2845 tasks      | elapsed:  1.5min\n",
            "[Parallel(n_jobs=32)]: Done 2920 tasks      | elapsed:  1.6min\n",
            "[Parallel(n_jobs=32)]: Done 2997 tasks      | elapsed:  1.6min\n",
            "[Parallel(n_jobs=32)]: Done 3074 tasks      | elapsed:  1.7min\n",
            "[Parallel(n_jobs=32)]: Done 3153 tasks      | elapsed:  1.7min\n",
            "[Parallel(n_jobs=32)]: Done 3232 tasks      | elapsed:  1.8min\n",
            "[Parallel(n_jobs=32)]: Done 3313 tasks      | elapsed:  1.8min\n",
            "[Parallel(n_jobs=32)]: Done 3394 tasks      | elapsed:  1.8min\n",
            "[Parallel(n_jobs=32)]: Done 3477 tasks      | elapsed:  1.9min\n",
            "[Parallel(n_jobs=32)]: Done 3560 tasks      | elapsed:  1.9min\n",
            "[Parallel(n_jobs=32)]: Done 3645 tasks      | elapsed:  2.0min\n",
            "[Parallel(n_jobs=32)]: Done 3730 tasks      | elapsed:  2.0min\n",
            "[Parallel(n_jobs=32)]: Done 3846 out of 3846 | elapsed:  2.1min finished\n",
            "average number of paths: 539.0291211648466\n",
            "median number of paths: 242.5\n",
            "min number of paths: 2\n",
            "max number of paths: 7807\n"
          ]
        }
      ]
    },
    {
      "cell_type": "code",
      "source": [
        "import sys\n",
        "sys.path.append('KGPL-PyTorch/')"
      ],
      "metadata": {
        "id": "Bbbx3BBqmx7V"
      },
      "execution_count": null,
      "outputs": []
    },
    {
      "cell_type": "code",
      "source": [
        "from model import *\n",
        "from utils.data_classes import *\n",
        "from utils.functions import *\n",
        "from utils.eval import *\n",
        "\n",
        "import torch\n",
        "from tqdm import tqdm"
      ],
      "metadata": {
        "id": "On-Lgk4FvOOq"
      },
      "execution_count": null,
      "outputs": []
    },
    {
      "cell_type": "code",
      "source": [
        "music = KGPLExperiment(\n",
        "    'music',\n",
        "    {\n",
        "      'plabel_lp_depth': 6,\n",
        "      'plabel_par': 16,\n",
        "      'plabel_chunk_size': 250,\n",
        "      'plabel_neg_pn': 0.1,\n",
        "      'plabel_pl_pn': 1e-3,\n",
        "      'dropout_rate': 0.5,\n",
        "      'emb_dim': 64,\n",
        "      'n_iter': 1,\n",
        "      'plabel': {},\n",
        "      'optimize': {'iter_per_epoch': 100, 'lr': 3e-3, 'batch_size': 3333},\n",
        "      'log': {'show_loss': True},\n",
        "      'evaluate': {'user_num_topk': 1000},\n",
        "      'model': {\n",
        "          'n_iter': 1,\n",
        "          'neighbor_sample_size': 32,\n",
        "          'num_neighbor_samples': 32,\n",
        "          'dropout_rate': 0.5}\n",
        "    })"
      ],
      "metadata": {
        "colab": {
          "base_uri": "https://localhost:8080/"
        },
        "id": "O-QCcpdcnf8F",
        "outputId": "6276bc35-b55b-4062-9312-48dbc8b184a3"
      },
      "execution_count": null,
      "outputs": [
        {
          "output_type": "stream",
          "name": "stdout",
          "text": [
            "Loading Entity Adjacencies...\n",
            "Loading Relation Adjacencies...\n",
            "Loading Ratings...\n",
            "Loading Path List...\n",
            "Loading Distances...\n",
            "Setting up dst dict...\n"
          ]
        },
        {
          "output_type": "stream",
          "name": "stderr",
          "text": [
            "100%|██████████| 3846/3846 [00:00<00:00, 11951.27it/s]"
          ]
        },
        {
          "output_type": "stream",
          "name": "stdout",
          "text": [
            "Start updating path info...\n",
            "Path info updated.\n"
          ]
        },
        {
          "output_type": "stream",
          "name": "stderr",
          "text": [
            "\n"
          ]
        }
      ]
    },
    {
      "cell_type": "code",
      "source": [
        "music.train_val_test_split()"
      ],
      "metadata": {
        "colab": {
          "base_uri": "https://localhost:8080/"
        },
        "id": "87sI4ZnLrFHA",
        "outputId": "2aaa5517-e0cc-4787-bdec-94c5e3cba10f"
      },
      "execution_count": null,
      "outputs": [
        {
          "output_type": "stream",
          "name": "stderr",
          "text": [
            "/content/KGPL-PyTorch/utils/data_classes.py:197: RuntimeWarning: invalid value encountered in divide\n",
            "  F = (F / F.sum()).cumsum()\n"
          ]
        },
        {
          "output_type": "stream",
          "name": "stdout",
          "text": [
            "Neg C Dict User: 1870\n",
            "Neg C Dict Item: 3829\n"
          ]
        },
        {
          "output_type": "stream",
          "name": "stderr",
          "text": [
            "100%|██████████| 27098/27098 [00:00<00:00, 203219.93it/s]\n"
          ]
        },
        {
          "output_type": "stream",
          "name": "stdout",
          "text": [
            "Populating item dist dict...\n"
          ]
        },
        {
          "output_type": "stream",
          "name": "stderr",
          "text": [
            "8it [00:03,  2.51it/s]\n"
          ]
        }
      ]
    },
    {
      "cell_type": "code",
      "source": [
        "music.create_dataloaders()"
      ],
      "metadata": {
        "id": "ZnB_6SNSrE0T"
      },
      "execution_count": null,
      "outputs": []
    },
    {
      "cell_type": "code",
      "source": [
        "model = KGPLCOT(\n",
        "        music.cfg,\n",
        "        int(music.ratings[:, 0].max().item()) + 1,\n",
        "        int(music.ratings[:, 1].max().item()) + 1,\n",
        "        music.n_entity,\n",
        "        music.n_relation,\n",
        "        music.adj_entity,\n",
        "        music.adj_relation,\n",
        "        music.path_list_dict,\n",
        "        music.train_loader,\n",
        "        music.val_loader,\n",
        "        'cpu'\n",
        "    )"
      ],
      "metadata": {
        "id": "EXq7JoV_7P2-"
      },
      "execution_count": null,
      "outputs": []
    },
    {
      "cell_type": "code",
      "source": [
        "def run_cotrain(model, train_loader, val_loader, test_loader, cfg, device, num_epochs=40, k=10):\n",
        "    optimizer_f = torch.optim.Adam(model.model_f.parameters(), lr=cfg['optimize']['lr'])\n",
        "    optimizer_g = torch.optim.Adam(model.model_g.parameters(), lr=cfg['optimize']['lr'])\n",
        "    iter_per_epoch = cfg['optimize']['iter_per_epoch']\n",
        "\n",
        "    for epoch in range(1, num_epochs + 1):\n",
        "        print(f\"\\nEpoch {epoch}\")\n",
        "        model.train()\n",
        "        total_loss_f, total_loss_g = 0.0, 0.0\n",
        "\n",
        "        train_iter = iter(train_loader)  # re-initialize iterator every epoch\n",
        "\n",
        "        for i in tqdm(range(iter_per_epoch)):\n",
        "            try:\n",
        "                batch = next(train_iter)\n",
        "            except StopIteration:\n",
        "                train_iter = iter(train_loader)\n",
        "                batch = next(train_iter)\n",
        "\n",
        "            users, pos, neg, pseudo = [b.to(device) for b in batch]\n",
        "            batch_data = torch.stack([users, pos, neg, pseudo], dim=1)\n",
        "\n",
        "            losses = model.train_step(batch_data, optimizer_f, optimizer_g)\n",
        "            total_loss_f += losses['loss_f']\n",
        "            total_loss_g += losses['loss_g']\n",
        "\n",
        "        avg_loss_f = total_loss_f / iter_per_epoch\n",
        "        avg_loss_g = total_loss_g / iter_per_epoch\n",
        "        print(f\"Train Loss - f: {avg_loss_f:.4f}, g: {avg_loss_g:.4f}\")\n",
        "\n",
        "        print(\"Evaluating model_f:\")\n",
        "\n",
        "        run_topk_eval(\n",
        "          model=model,\n",
        "          cfg = cfg,\n",
        "          train_data=music.train_dataset.ratings.numpy(),\n",
        "          eval_data=music.val_dataset.ratings.numpy(),\n",
        "          test_data=music.test_dataset.ratings.numpy(),\n",
        "          n_items=music.n_item,\n",
        "          device=device,\n",
        "          test_mode=False  # or True for test set\n",
        "        )"
      ],
      "metadata": {
        "id": "3MLx9FurzN5l"
      },
      "execution_count": null,
      "outputs": []
    },
    {
      "cell_type": "code",
      "source": [
        "run_cotrain(\n",
        "    model,\n",
        "    music.train_loader,\n",
        "    music.val_loader,\n",
        "    music.test_loader,\n",
        "    music.cfg,\n",
        "    'cpu'\n",
        ")"
      ],
      "metadata": {
        "id": "B8bQ8AEly4wv",
        "colab": {
          "base_uri": "https://localhost:8080/"
        },
        "outputId": "038c5ff0-0ad2-48c4-834a-ee297818fa01"
      },
      "execution_count": null,
      "outputs": [
        {
          "metadata": {
            "tags": null
          },
          "name": "stdout",
          "output_type": "stream",
          "text": [
            "\n",
            "Epoch 1\n"
          ]
        },
        {
          "metadata": {
            "tags": null
          },
          "name": "stderr",
          "output_type": "stream",
          "text": [
            "100%|██████████| 100/100 [01:13<00:00,  1.35it/s]\n"
          ]
        },
        {
          "metadata": {
            "tags": null
          },
          "name": "stdout",
          "output_type": "stream",
          "text": [
            "Train Loss - f: 5.0054, g: 4.9993\n",
            "Evaluating model_f:\n"
          ]
        },
        {
          "metadata": {
            "tags": null
          },
          "name": "stderr",
          "output_type": "stream",
          "text": [
            "Evaluating: 100%|██████████| 1000/1000 [00:14<00:00, 70.67it/s]\n"
          ]
        },
        {
          "metadata": {
            "tags": null
          },
          "name": "stdout",
          "output_type": "stream",
          "text": [
            "\n",
            "Top-K Evaluation Results\n",
            "K=  1 | Precision: 0.0000 | Recall: 0.0000\n",
            "K=  2 | Precision: 0.0005 | Recall: 0.0005\n",
            "K=  5 | Precision: 0.0006 | Recall: 0.0010\n",
            "K= 10 | Precision: 0.0004 | Recall: 0.0015\n",
            "K= 20 | Precision: 0.0004 | Recall: 0.0042\n",
            "\n",
            "Epoch 2\n"
          ]
        },
        {
          "metadata": {
            "tags": null
          },
          "name": "stderr",
          "output_type": "stream",
          "text": [
            "100%|██████████| 100/100 [01:09<00:00,  1.44it/s]\n"
          ]
        },
        {
          "metadata": {
            "tags": null
          },
          "name": "stdout",
          "output_type": "stream",
          "text": [
            "Train Loss - f: 2.2416, g: 2.2416\n",
            "Evaluating model_f:\n"
          ]
        },
        {
          "metadata": {
            "tags": null
          },
          "name": "stderr",
          "output_type": "stream",
          "text": [
            "Evaluating: 100%|██████████| 1000/1000 [00:13<00:00, 76.84it/s]\n"
          ]
        },
        {
          "metadata": {
            "tags": null
          },
          "name": "stdout",
          "output_type": "stream",
          "text": [
            "\n",
            "Top-K Evaluation Results\n",
            "K=  1 | Precision: 0.0000 | Recall: 0.0000\n",
            "K=  2 | Precision: 0.0000 | Recall: 0.0000\n",
            "K=  5 | Precision: 0.0002 | Recall: 0.0005\n",
            "K= 10 | Precision: 0.0003 | Recall: 0.0018\n",
            "K= 20 | Precision: 0.0003 | Recall: 0.0036\n",
            "\n",
            "Epoch 3\n"
          ]
        },
        {
          "metadata": {
            "tags": null
          },
          "name": "stderr",
          "output_type": "stream",
          "text": [
            "100%|██████████| 100/100 [01:08<00:00,  1.45it/s]\n"
          ]
        },
        {
          "metadata": {
            "tags": null
          },
          "name": "stdout",
          "output_type": "stream",
          "text": [
            "Train Loss - f: 2.2395, g: 2.2320\n",
            "Evaluating model_f:\n"
          ]
        },
        {
          "metadata": {
            "tags": null
          },
          "name": "stderr",
          "output_type": "stream",
          "text": [
            "Evaluating: 100%|██████████| 1000/1000 [00:12<00:00, 82.54it/s]\n"
          ]
        },
        {
          "metadata": {
            "tags": null
          },
          "name": "stdout",
          "output_type": "stream",
          "text": [
            "\n",
            "Top-K Evaluation Results\n",
            "K=  1 | Precision: 0.0000 | Recall: 0.0000\n",
            "K=  2 | Precision: 0.0000 | Recall: 0.0000\n",
            "K=  5 | Precision: 0.0006 | Recall: 0.0014\n",
            "K= 10 | Precision: 0.0005 | Recall: 0.0023\n",
            "K= 20 | Precision: 0.0006 | Recall: 0.0053\n",
            "\n",
            "Epoch 4\n"
          ]
        },
        {
          "metadata": {
            "tags": null
          },
          "name": "stderr",
          "output_type": "stream",
          "text": [
            "100%|██████████| 100/100 [01:08<00:00,  1.46it/s]\n"
          ]
        },
        {
          "metadata": {
            "tags": null
          },
          "name": "stdout",
          "output_type": "stream",
          "text": [
            "Train Loss - f: 2.2350, g: 2.2321\n",
            "Evaluating model_f:\n"
          ]
        },
        {
          "metadata": {
            "tags": null
          },
          "name": "stderr",
          "output_type": "stream",
          "text": [
            "Evaluating: 100%|██████████| 1000/1000 [00:13<00:00, 75.28it/s]\n"
          ]
        },
        {
          "metadata": {
            "tags": null
          },
          "name": "stdout",
          "output_type": "stream",
          "text": [
            "\n",
            "Top-K Evaluation Results\n",
            "K=  1 | Precision: 0.0000 | Recall: 0.0000\n",
            "K=  2 | Precision: 0.0005 | Recall: 0.0002\n",
            "K=  5 | Precision: 0.0006 | Recall: 0.0009\n",
            "K= 10 | Precision: 0.0003 | Recall: 0.0009\n",
            "K= 20 | Precision: 0.0004 | Recall: 0.0034\n",
            "\n",
            "Epoch 5\n"
          ]
        },
        {
          "metadata": {
            "tags": null
          },
          "name": "stderr",
          "output_type": "stream",
          "text": [
            "100%|██████████| 100/100 [01:08<00:00,  1.46it/s]\n"
          ]
        },
        {
          "metadata": {
            "tags": null
          },
          "name": "stdout",
          "output_type": "stream",
          "text": [
            "Train Loss - f: 2.2332, g: 2.2303\n",
            "Evaluating model_f:\n"
          ]
        },
        {
          "metadata": {
            "tags": null
          },
          "name": "stderr",
          "output_type": "stream",
          "text": [
            "Evaluating: 100%|██████████| 1000/1000 [00:12<00:00, 79.50it/s]\n"
          ]
        },
        {
          "metadata": {
            "tags": null
          },
          "name": "stdout",
          "output_type": "stream",
          "text": [
            "\n",
            "Top-K Evaluation Results\n",
            "K=  1 | Precision: 0.0010 | Recall: 0.0003\n",
            "K=  2 | Precision: 0.0010 | Recall: 0.0006\n",
            "K=  5 | Precision: 0.0010 | Recall: 0.0024\n",
            "K= 10 | Precision: 0.0008 | Recall: 0.0042\n",
            "K= 20 | Precision: 0.0005 | Recall: 0.0054\n",
            "\n",
            "Epoch 6\n"
          ]
        },
        {
          "metadata": {
            "tags": null
          },
          "name": "stderr",
          "output_type": "stream",
          "text": [
            "100%|██████████| 100/100 [01:08<00:00,  1.46it/s]\n"
          ]
        },
        {
          "metadata": {
            "tags": null
          },
          "name": "stdout",
          "output_type": "stream",
          "text": [
            "Train Loss - f: 2.2214, g: 2.2204\n",
            "Evaluating model_f:\n"
          ]
        },
        {
          "metadata": {
            "tags": null
          },
          "name": "stderr",
          "output_type": "stream",
          "text": [
            "Evaluating: 100%|██████████| 1000/1000 [00:20<00:00, 49.84it/s]\n"
          ]
        },
        {
          "metadata": {
            "tags": null
          },
          "name": "stdout",
          "output_type": "stream",
          "text": [
            "\n",
            "Top-K Evaluation Results\n",
            "K=  1 | Precision: 0.0010 | Recall: 0.0003\n",
            "K=  2 | Precision: 0.0005 | Recall: 0.0003\n",
            "K=  5 | Precision: 0.0004 | Recall: 0.0007\n",
            "K= 10 | Precision: 0.0006 | Recall: 0.0024\n",
            "K= 20 | Precision: 0.0007 | Recall: 0.0057\n",
            "\n",
            "Epoch 7\n"
          ]
        },
        {
          "metadata": {
            "tags": null
          },
          "name": "stderr",
          "output_type": "stream",
          "text": [
            "100%|██████████| 100/100 [01:08<00:00,  1.46it/s]\n"
          ]
        },
        {
          "metadata": {
            "tags": null
          },
          "name": "stdout",
          "output_type": "stream",
          "text": [
            "Train Loss - f: 2.2184, g: 2.2135\n",
            "Evaluating model_f:\n"
          ]
        },
        {
          "metadata": {
            "tags": null
          },
          "name": "stderr",
          "output_type": "stream",
          "text": [
            "Evaluating: 100%|██████████| 1000/1000 [00:10<00:00, 91.78it/s]\n"
          ]
        },
        {
          "metadata": {
            "tags": null
          },
          "name": "stdout",
          "output_type": "stream",
          "text": [
            "\n",
            "Top-K Evaluation Results\n",
            "K=  1 | Precision: 0.0020 | Recall: 0.0008\n",
            "K=  2 | Precision: 0.0010 | Recall: 0.0008\n",
            "K=  5 | Precision: 0.0008 | Recall: 0.0021\n",
            "K= 10 | Precision: 0.0005 | Recall: 0.0024\n",
            "K= 20 | Precision: 0.0004 | Recall: 0.0041\n",
            "\n",
            "Epoch 8\n"
          ]
        },
        {
          "metadata": {
            "tags": null
          },
          "name": "stderr",
          "output_type": "stream",
          "text": [
            "100%|██████████| 100/100 [01:08<00:00,  1.45it/s]\n"
          ]
        },
        {
          "metadata": {
            "tags": null
          },
          "name": "stdout",
          "output_type": "stream",
          "text": [
            "Train Loss - f: 2.2089, g: 2.2034\n",
            "Evaluating model_f:\n"
          ]
        },
        {
          "metadata": {
            "tags": null
          },
          "name": "stderr",
          "output_type": "stream",
          "text": [
            "Evaluating: 100%|██████████| 1000/1000 [00:11<00:00, 84.96it/s]\n"
          ]
        },
        {
          "metadata": {
            "tags": null
          },
          "name": "stdout",
          "output_type": "stream",
          "text": [
            "\n",
            "Top-K Evaluation Results\n",
            "K=  1 | Precision: 0.0000 | Recall: 0.0000\n",
            "K=  2 | Precision: 0.0010 | Recall: 0.0008\n",
            "K=  5 | Precision: 0.0012 | Recall: 0.0029\n",
            "K= 10 | Precision: 0.0013 | Recall: 0.0061\n",
            "K= 20 | Precision: 0.0011 | Recall: 0.0096\n",
            "\n",
            "Epoch 9\n"
          ]
        },
        {
          "metadata": {
            "tags": null
          },
          "name": "stderr",
          "output_type": "stream",
          "text": [
            "100%|██████████| 100/100 [01:08<00:00,  1.46it/s]\n"
          ]
        },
        {
          "metadata": {
            "tags": null
          },
          "name": "stdout",
          "output_type": "stream",
          "text": [
            "Train Loss - f: 2.1960, g: 2.1878\n",
            "Evaluating model_f:\n"
          ]
        },
        {
          "metadata": {
            "tags": null
          },
          "name": "stderr",
          "output_type": "stream",
          "text": [
            "Evaluating: 100%|██████████| 1000/1000 [00:11<00:00, 88.42it/s]\n"
          ]
        },
        {
          "metadata": {
            "tags": null
          },
          "name": "stdout",
          "output_type": "stream",
          "text": [
            "\n",
            "Top-K Evaluation Results\n",
            "K=  1 | Precision: 0.0000 | Recall: 0.0000\n",
            "K=  2 | Precision: 0.0000 | Recall: 0.0000\n",
            "K=  5 | Precision: 0.0002 | Recall: 0.0003\n",
            "K= 10 | Precision: 0.0008 | Recall: 0.0039\n",
            "K= 20 | Precision: 0.0007 | Recall: 0.0066\n",
            "\n",
            "Epoch 10\n"
          ]
        },
        {
          "metadata": {
            "tags": null
          },
          "name": "stderr",
          "output_type": "stream",
          "text": [
            "100%|██████████| 100/100 [01:08<00:00,  1.46it/s]\n"
          ]
        },
        {
          "metadata": {
            "tags": null
          },
          "name": "stdout",
          "output_type": "stream",
          "text": [
            "Train Loss - f: 2.1794, g: 2.1715\n",
            "Evaluating model_f:\n"
          ]
        },
        {
          "metadata": {
            "tags": null
          },
          "name": "stderr",
          "output_type": "stream",
          "text": [
            "Evaluating: 100%|██████████| 1000/1000 [00:23<00:00, 42.89it/s]\n"
          ]
        },
        {
          "metadata": {
            "tags": null
          },
          "name": "stdout",
          "output_type": "stream",
          "text": [
            "\n",
            "Top-K Evaluation Results\n",
            "K=  1 | Precision: 0.0000 | Recall: 0.0000\n",
            "K=  2 | Precision: 0.0005 | Recall: 0.0005\n",
            "K=  5 | Precision: 0.0004 | Recall: 0.0010\n",
            "K= 10 | Precision: 0.0003 | Recall: 0.0015\n",
            "K= 20 | Precision: 0.0004 | Recall: 0.0028\n",
            "\n",
            "Epoch 11\n"
          ]
        },
        {
          "metadata": {
            "tags": null
          },
          "name": "stderr",
          "output_type": "stream",
          "text": [
            "100%|██████████| 100/100 [01:08<00:00,  1.47it/s]\n"
          ]
        },
        {
          "metadata": {
            "tags": null
          },
          "name": "stdout",
          "output_type": "stream",
          "text": [
            "Train Loss - f: 2.1606, g: 2.1554\n",
            "Evaluating model_f:\n"
          ]
        },
        {
          "metadata": {
            "tags": null
          },
          "name": "stderr",
          "output_type": "stream",
          "text": [
            "Evaluating: 100%|██████████| 1000/1000 [00:16<00:00, 61.82it/s]\n"
          ]
        },
        {
          "metadata": {
            "tags": null
          },
          "name": "stdout",
          "output_type": "stream",
          "text": [
            "\n",
            "Top-K Evaluation Results\n",
            "K=  1 | Precision: 0.0000 | Recall: 0.0000\n",
            "K=  2 | Precision: 0.0000 | Recall: 0.0000\n",
            "K=  5 | Precision: 0.0008 | Recall: 0.0018\n",
            "K= 10 | Precision: 0.0006 | Recall: 0.0026\n",
            "K= 20 | Precision: 0.0004 | Recall: 0.0035\n",
            "\n",
            "Epoch 12\n"
          ]
        },
        {
          "metadata": {
            "tags": null
          },
          "name": "stderr",
          "output_type": "stream",
          "text": [
            "100%|██████████| 100/100 [01:08<00:00,  1.47it/s]\n"
          ]
        },
        {
          "metadata": {
            "tags": null
          },
          "name": "stdout",
          "output_type": "stream",
          "text": [
            "Train Loss - f: 2.1458, g: 2.1334\n",
            "Evaluating model_f:\n"
          ]
        },
        {
          "metadata": {
            "tags": null
          },
          "name": "stderr",
          "output_type": "stream",
          "text": [
            "Evaluating: 100%|██████████| 1000/1000 [00:10<00:00, 91.99it/s]\n"
          ]
        },
        {
          "metadata": {
            "tags": null
          },
          "name": "stdout",
          "output_type": "stream",
          "text": [
            "\n",
            "Top-K Evaluation Results\n",
            "K=  1 | Precision: 0.0010 | Recall: 0.0005\n",
            "K=  2 | Precision: 0.0020 | Recall: 0.0019\n",
            "K=  5 | Precision: 0.0014 | Recall: 0.0034\n",
            "K= 10 | Precision: 0.0009 | Recall: 0.0041\n",
            "K= 20 | Precision: 0.0007 | Recall: 0.0058\n",
            "\n",
            "Epoch 13\n"
          ]
        },
        {
          "metadata": {
            "tags": null
          },
          "name": "stderr",
          "output_type": "stream",
          "text": [
            "100%|██████████| 100/100 [01:08<00:00,  1.47it/s]\n"
          ]
        },
        {
          "metadata": {
            "tags": null
          },
          "name": "stdout",
          "output_type": "stream",
          "text": [
            "Train Loss - f: 2.1218, g: 2.1110\n",
            "Evaluating model_f:\n"
          ]
        },
        {
          "metadata": {
            "tags": null
          },
          "name": "stderr",
          "output_type": "stream",
          "text": [
            "Evaluating: 100%|██████████| 1000/1000 [00:13<00:00, 71.80it/s]\n"
          ]
        },
        {
          "metadata": {
            "tags": null
          },
          "name": "stdout",
          "output_type": "stream",
          "text": [
            "\n",
            "Top-K Evaluation Results\n",
            "K=  1 | Precision: 0.0000 | Recall: 0.0000\n",
            "K=  2 | Precision: 0.0005 | Recall: 0.0003\n",
            "K=  5 | Precision: 0.0006 | Recall: 0.0011\n",
            "K= 10 | Precision: 0.0010 | Recall: 0.0043\n",
            "K= 20 | Precision: 0.0010 | Recall: 0.0101\n",
            "\n",
            "Epoch 14\n"
          ]
        },
        {
          "metadata": {
            "tags": null
          },
          "name": "stderr",
          "output_type": "stream",
          "text": [
            "100%|██████████| 100/100 [01:07<00:00,  1.48it/s]\n"
          ]
        },
        {
          "metadata": {
            "tags": null
          },
          "name": "stdout",
          "output_type": "stream",
          "text": [
            "Train Loss - f: 2.1037, g: 2.0922\n",
            "Evaluating model_f:\n"
          ]
        },
        {
          "metadata": {
            "tags": null
          },
          "name": "stderr",
          "output_type": "stream",
          "text": [
            "Evaluating: 100%|██████████| 1000/1000 [00:10<00:00, 91.34it/s]\n"
          ]
        },
        {
          "metadata": {
            "tags": null
          },
          "name": "stdout",
          "output_type": "stream",
          "text": [
            "\n",
            "Top-K Evaluation Results\n",
            "K=  1 | Precision: 0.0020 | Recall: 0.0013\n",
            "K=  2 | Precision: 0.0015 | Recall: 0.0018\n",
            "K=  5 | Precision: 0.0020 | Recall: 0.0047\n",
            "K= 10 | Precision: 0.0016 | Recall: 0.0077\n",
            "K= 20 | Precision: 0.0014 | Recall: 0.0123\n",
            "\n",
            "Epoch 15\n"
          ]
        },
        {
          "metadata": {
            "tags": null
          },
          "name": "stderr",
          "output_type": "stream",
          "text": [
            "100%|██████████| 100/100 [01:08<00:00,  1.47it/s]\n"
          ]
        },
        {
          "metadata": {
            "tags": null
          },
          "name": "stdout",
          "output_type": "stream",
          "text": [
            "Train Loss - f: 2.0801, g: 2.0681\n",
            "Evaluating model_f:\n"
          ]
        },
        {
          "metadata": {
            "tags": null
          },
          "name": "stderr",
          "output_type": "stream",
          "text": [
            "Evaluating: 100%|██████████| 1000/1000 [00:12<00:00, 81.35it/s]\n"
          ]
        },
        {
          "metadata": {
            "tags": null
          },
          "name": "stdout",
          "output_type": "stream",
          "text": [
            "\n",
            "Top-K Evaluation Results\n",
            "K=  1 | Precision: 0.0020 | Recall: 0.0010\n",
            "K=  2 | Precision: 0.0010 | Recall: 0.0010\n",
            "K=  5 | Precision: 0.0016 | Recall: 0.0038\n",
            "K= 10 | Precision: 0.0020 | Recall: 0.0096\n",
            "K= 20 | Precision: 0.0020 | Recall: 0.0176\n",
            "\n",
            "Epoch 16\n"
          ]
        },
        {
          "metadata": {
            "tags": null
          },
          "name": "stderr",
          "output_type": "stream",
          "text": [
            "100%|██████████| 100/100 [01:07<00:00,  1.47it/s]\n"
          ]
        },
        {
          "metadata": {
            "tags": null
          },
          "name": "stdout",
          "output_type": "stream",
          "text": [
            "Train Loss - f: 2.0610, g: 2.0499\n",
            "Evaluating model_f:\n"
          ]
        },
        {
          "metadata": {
            "tags": null
          },
          "name": "stderr",
          "output_type": "stream",
          "text": [
            "Evaluating: 100%|██████████| 1000/1000 [00:10<00:00, 95.32it/s]\n"
          ]
        },
        {
          "metadata": {
            "tags": null
          },
          "name": "stdout",
          "output_type": "stream",
          "text": [
            "\n",
            "Top-K Evaluation Results\n",
            "K=  1 | Precision: 0.0050 | Recall: 0.0024\n",
            "K=  2 | Precision: 0.0035 | Recall: 0.0029\n",
            "K=  5 | Precision: 0.0034 | Recall: 0.0092\n",
            "K= 10 | Precision: 0.0033 | Recall: 0.0148\n",
            "K= 20 | Precision: 0.0030 | Recall: 0.0273\n",
            "\n",
            "Epoch 17\n"
          ]
        },
        {
          "output_type": "stream",
          "name": "stderr",
          "text": [
            "100%|██████████| 100/100 [01:08<00:00,  1.47it/s]\n"
          ]
        },
        {
          "output_type": "stream",
          "name": "stdout",
          "text": [
            "Train Loss - f: 2.0385, g: 2.0257\n",
            "Evaluating model_f:\n"
          ]
        },
        {
          "output_type": "stream",
          "name": "stderr",
          "text": [
            "Evaluating: 100%|██████████| 1000/1000 [00:24<00:00, 40.78it/s]\n"
          ]
        },
        {
          "output_type": "stream",
          "name": "stdout",
          "text": [
            "\n",
            "Top-K Evaluation Results\n",
            "K=  1 | Precision: 0.0090 | Recall: 0.0041\n",
            "K=  2 | Precision: 0.0080 | Recall: 0.0069\n",
            "K=  5 | Precision: 0.0076 | Recall: 0.0175\n",
            "K= 10 | Precision: 0.0061 | Recall: 0.0291\n",
            "K= 20 | Precision: 0.0047 | Recall: 0.0441\n",
            "\n",
            "Epoch 18\n"
          ]
        },
        {
          "output_type": "stream",
          "name": "stderr",
          "text": [
            "100%|██████████| 100/100 [01:08<00:00,  1.47it/s]\n"
          ]
        },
        {
          "output_type": "stream",
          "name": "stdout",
          "text": [
            "Train Loss - f: 2.0174, g: 2.0035\n",
            "Evaluating model_f:\n"
          ]
        },
        {
          "output_type": "stream",
          "name": "stderr",
          "text": [
            "Evaluating: 100%|██████████| 1000/1000 [00:12<00:00, 82.44it/s]\n"
          ]
        },
        {
          "output_type": "stream",
          "name": "stdout",
          "text": [
            "\n",
            "Top-K Evaluation Results\n",
            "K=  1 | Precision: 0.0120 | Recall: 0.0047\n",
            "K=  2 | Precision: 0.0110 | Recall: 0.0110\n",
            "K=  5 | Precision: 0.0106 | Recall: 0.0249\n",
            "K= 10 | Precision: 0.0080 | Recall: 0.0368\n",
            "K= 20 | Precision: 0.0068 | Recall: 0.0628\n",
            "\n",
            "Epoch 19\n"
          ]
        },
        {
          "output_type": "stream",
          "name": "stderr",
          "text": [
            "100%|██████████| 100/100 [01:08<00:00,  1.46it/s]\n"
          ]
        },
        {
          "output_type": "stream",
          "name": "stdout",
          "text": [
            "Train Loss - f: 1.9951, g: 1.9821\n",
            "Evaluating model_f:\n"
          ]
        },
        {
          "output_type": "stream",
          "name": "stderr",
          "text": [
            "Evaluating: 100%|██████████| 1000/1000 [00:25<00:00, 39.49it/s]\n"
          ]
        },
        {
          "output_type": "stream",
          "name": "stdout",
          "text": [
            "\n",
            "Top-K Evaluation Results\n",
            "K=  1 | Precision: 0.0120 | Recall: 0.0065\n",
            "K=  2 | Precision: 0.0120 | Recall: 0.0108\n",
            "K=  5 | Precision: 0.0100 | Recall: 0.0234\n",
            "K= 10 | Precision: 0.0111 | Recall: 0.0559\n",
            "K= 20 | Precision: 0.0092 | Recall: 0.0908\n",
            "\n",
            "Epoch 20\n"
          ]
        },
        {
          "output_type": "stream",
          "name": "stderr",
          "text": [
            "100%|██████████| 100/100 [01:08<00:00,  1.47it/s]\n"
          ]
        },
        {
          "output_type": "stream",
          "name": "stdout",
          "text": [
            "Train Loss - f: 1.9767, g: 1.9626\n",
            "Evaluating model_f:\n"
          ]
        },
        {
          "output_type": "stream",
          "name": "stderr",
          "text": [
            "Evaluating: 100%|██████████| 1000/1000 [00:13<00:00, 75.35it/s]\n"
          ]
        },
        {
          "output_type": "stream",
          "name": "stdout",
          "text": [
            "\n",
            "Top-K Evaluation Results\n",
            "K=  1 | Precision: 0.0190 | Recall: 0.0086\n",
            "K=  2 | Precision: 0.0190 | Recall: 0.0202\n",
            "K=  5 | Precision: 0.0164 | Recall: 0.0410\n",
            "K= 10 | Precision: 0.0138 | Recall: 0.0674\n",
            "K= 20 | Precision: 0.0107 | Recall: 0.1073\n",
            "\n",
            "Epoch 21\n"
          ]
        },
        {
          "output_type": "stream",
          "name": "stderr",
          "text": [
            "100%|██████████| 100/100 [01:07<00:00,  1.48it/s]\n"
          ]
        },
        {
          "output_type": "stream",
          "name": "stdout",
          "text": [
            "Train Loss - f: 1.9548, g: 1.9488\n",
            "Evaluating model_f:\n"
          ]
        },
        {
          "output_type": "stream",
          "name": "stderr",
          "text": [
            "Evaluating: 100%|██████████| 1000/1000 [00:10<00:00, 91.38it/s]\n"
          ]
        },
        {
          "output_type": "stream",
          "name": "stdout",
          "text": [
            "\n",
            "Top-K Evaluation Results\n",
            "K=  1 | Precision: 0.0250 | Recall: 0.0106\n",
            "K=  2 | Precision: 0.0220 | Recall: 0.0225\n",
            "K=  5 | Precision: 0.0200 | Recall: 0.0496\n",
            "K= 10 | Precision: 0.0171 | Recall: 0.0857\n",
            "K= 20 | Precision: 0.0138 | Recall: 0.1361\n",
            "\n",
            "Epoch 22\n"
          ]
        },
        {
          "output_type": "stream",
          "name": "stderr",
          "text": [
            "100%|██████████| 100/100 [01:07<00:00,  1.48it/s]\n"
          ]
        },
        {
          "output_type": "stream",
          "name": "stdout",
          "text": [
            "Train Loss - f: 1.9417, g: 1.9338\n",
            "Evaluating model_f:\n"
          ]
        },
        {
          "output_type": "stream",
          "name": "stderr",
          "text": [
            "Evaluating: 100%|██████████| 1000/1000 [00:18<00:00, 53.63it/s]\n"
          ]
        },
        {
          "output_type": "stream",
          "name": "stdout",
          "text": [
            "\n",
            "Top-K Evaluation Results\n",
            "K=  1 | Precision: 0.0300 | Recall: 0.0147\n",
            "K=  2 | Precision: 0.0215 | Recall: 0.0217\n",
            "K=  5 | Precision: 0.0192 | Recall: 0.0526\n",
            "K= 10 | Precision: 0.0181 | Recall: 0.0905\n",
            "K= 20 | Precision: 0.0149 | Recall: 0.1453\n",
            "\n",
            "Epoch 23\n"
          ]
        },
        {
          "output_type": "stream",
          "name": "stderr",
          "text": [
            "100%|██████████| 100/100 [01:08<00:00,  1.46it/s]\n"
          ]
        },
        {
          "output_type": "stream",
          "name": "stdout",
          "text": [
            "Train Loss - f: 1.9265, g: 1.9170\n",
            "Evaluating model_f:\n"
          ]
        },
        {
          "output_type": "stream",
          "name": "stderr",
          "text": [
            "Evaluating: 100%|██████████| 1000/1000 [00:21<00:00, 46.55it/s]\n"
          ]
        },
        {
          "output_type": "stream",
          "name": "stdout",
          "text": [
            "\n",
            "Top-K Evaluation Results\n",
            "K=  1 | Precision: 0.0240 | Recall: 0.0126\n",
            "K=  2 | Precision: 0.0215 | Recall: 0.0226\n",
            "K=  5 | Precision: 0.0208 | Recall: 0.0545\n",
            "K= 10 | Precision: 0.0192 | Recall: 0.0973\n",
            "K= 20 | Precision: 0.0154 | Recall: 0.1490\n",
            "\n",
            "Epoch 24\n"
          ]
        },
        {
          "output_type": "stream",
          "name": "stderr",
          "text": [
            "100%|██████████| 100/100 [01:08<00:00,  1.47it/s]\n"
          ]
        },
        {
          "output_type": "stream",
          "name": "stdout",
          "text": [
            "Train Loss - f: 1.9094, g: 1.9081\n",
            "Evaluating model_f:\n"
          ]
        },
        {
          "output_type": "stream",
          "name": "stderr",
          "text": [
            "Evaluating: 100%|██████████| 1000/1000 [00:10<00:00, 95.33it/s]\n"
          ]
        },
        {
          "output_type": "stream",
          "name": "stdout",
          "text": [
            "\n",
            "Top-K Evaluation Results\n",
            "K=  1 | Precision: 0.0320 | Recall: 0.0167\n",
            "K=  2 | Precision: 0.0265 | Recall: 0.0255\n",
            "K=  5 | Precision: 0.0214 | Recall: 0.0520\n",
            "K= 10 | Precision: 0.0193 | Recall: 0.0924\n",
            "K= 20 | Precision: 0.0166 | Recall: 0.1624\n",
            "\n",
            "Epoch 25\n"
          ]
        },
        {
          "output_type": "stream",
          "name": "stderr",
          "text": [
            "100%|██████████| 100/100 [01:08<00:00,  1.46it/s]\n"
          ]
        },
        {
          "output_type": "stream",
          "name": "stdout",
          "text": [
            "Train Loss - f: 1.8966, g: 1.8954\n",
            "Evaluating model_f:\n"
          ]
        },
        {
          "output_type": "stream",
          "name": "stderr",
          "text": [
            "Evaluating: 100%|██████████| 1000/1000 [00:11<00:00, 84.95it/s]\n"
          ]
        },
        {
          "output_type": "stream",
          "name": "stdout",
          "text": [
            "\n",
            "Top-K Evaluation Results\n",
            "K=  1 | Precision: 0.0250 | Recall: 0.0127\n",
            "K=  2 | Precision: 0.0250 | Recall: 0.0245\n",
            "K=  5 | Precision: 0.0226 | Recall: 0.0534\n",
            "K= 10 | Precision: 0.0181 | Recall: 0.0913\n",
            "K= 20 | Precision: 0.0152 | Recall: 0.1511\n",
            "\n",
            "Epoch 26\n"
          ]
        },
        {
          "output_type": "stream",
          "name": "stderr",
          "text": [
            "100%|██████████| 100/100 [01:08<00:00,  1.46it/s]\n"
          ]
        },
        {
          "output_type": "stream",
          "name": "stdout",
          "text": [
            "Train Loss - f: 1.8883, g: 1.8807\n",
            "Evaluating model_f:\n"
          ]
        },
        {
          "output_type": "stream",
          "name": "stderr",
          "text": [
            "Evaluating: 100%|██████████| 1000/1000 [00:15<00:00, 63.27it/s]\n"
          ]
        },
        {
          "output_type": "stream",
          "name": "stdout",
          "text": [
            "\n",
            "Top-K Evaluation Results\n",
            "K=  1 | Precision: 0.0290 | Recall: 0.0176\n",
            "K=  2 | Precision: 0.0240 | Recall: 0.0272\n",
            "K=  5 | Precision: 0.0230 | Recall: 0.0562\n",
            "K= 10 | Precision: 0.0198 | Recall: 0.0993\n",
            "K= 20 | Precision: 0.0156 | Recall: 0.1508\n",
            "\n",
            "Epoch 27\n"
          ]
        },
        {
          "output_type": "stream",
          "name": "stderr",
          "text": [
            "100%|██████████| 100/100 [01:09<00:00,  1.44it/s]\n"
          ]
        },
        {
          "output_type": "stream",
          "name": "stdout",
          "text": [
            "Train Loss - f: 1.8824, g: 1.8816\n",
            "Evaluating model_f:\n"
          ]
        },
        {
          "output_type": "stream",
          "name": "stderr",
          "text": [
            "Evaluating: 100%|██████████| 1000/1000 [00:21<00:00, 46.05it/s]\n"
          ]
        },
        {
          "output_type": "stream",
          "name": "stdout",
          "text": [
            "\n",
            "Top-K Evaluation Results\n",
            "K=  1 | Precision: 0.0290 | Recall: 0.0134\n",
            "K=  2 | Precision: 0.0250 | Recall: 0.0240\n",
            "K=  5 | Precision: 0.0232 | Recall: 0.0526\n",
            "K= 10 | Precision: 0.0202 | Recall: 0.0943\n",
            "K= 20 | Precision: 0.0159 | Recall: 0.1519\n",
            "\n",
            "Epoch 28\n"
          ]
        },
        {
          "output_type": "stream",
          "name": "stderr",
          "text": [
            "100%|██████████| 100/100 [01:10<00:00,  1.42it/s]\n"
          ]
        },
        {
          "output_type": "stream",
          "name": "stdout",
          "text": [
            "Train Loss - f: 1.8722, g: 1.8688\n",
            "Evaluating model_f:\n"
          ]
        },
        {
          "output_type": "stream",
          "name": "stderr",
          "text": [
            "Evaluating: 100%|██████████| 1000/1000 [00:26<00:00, 37.55it/s]\n"
          ]
        },
        {
          "output_type": "stream",
          "name": "stdout",
          "text": [
            "\n",
            "Top-K Evaluation Results\n",
            "K=  1 | Precision: 0.0260 | Recall: 0.0132\n",
            "K=  2 | Precision: 0.0235 | Recall: 0.0235\n",
            "K=  5 | Precision: 0.0210 | Recall: 0.0505\n",
            "K= 10 | Precision: 0.0198 | Recall: 0.0972\n",
            "K= 20 | Precision: 0.0163 | Recall: 0.1535\n",
            "\n",
            "Epoch 29\n"
          ]
        },
        {
          "output_type": "stream",
          "name": "stderr",
          "text": [
            "100%|██████████| 100/100 [01:08<00:00,  1.46it/s]\n"
          ]
        },
        {
          "output_type": "stream",
          "name": "stdout",
          "text": [
            "Train Loss - f: 1.8696, g: 1.8613\n",
            "Evaluating model_f:\n"
          ]
        },
        {
          "output_type": "stream",
          "name": "stderr",
          "text": [
            "Evaluating: 100%|██████████| 1000/1000 [00:19<00:00, 51.36it/s]\n"
          ]
        },
        {
          "output_type": "stream",
          "name": "stdout",
          "text": [
            "\n",
            "Top-K Evaluation Results\n",
            "K=  1 | Precision: 0.0250 | Recall: 0.0105\n",
            "K=  2 | Precision: 0.0270 | Recall: 0.0247\n",
            "K=  5 | Precision: 0.0258 | Recall: 0.0624\n",
            "K= 10 | Precision: 0.0221 | Recall: 0.1061\n",
            "K= 20 | Precision: 0.0171 | Recall: 0.1719\n",
            "\n",
            "Epoch 30\n"
          ]
        },
        {
          "output_type": "stream",
          "name": "stderr",
          "text": [
            " 25%|██▌       | 25/100 [00:17<00:51,  1.45it/s]"
          ]
        }
      ]
    },
    {
      "cell_type": "code",
      "source": [
        "|"
      ],
      "metadata": {
        "id": "61okm1PQ3zvY"
      },
      "execution_count": null,
      "outputs": []
    }
  ]
}