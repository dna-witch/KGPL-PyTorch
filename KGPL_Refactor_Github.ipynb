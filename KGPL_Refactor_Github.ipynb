{
  "cells": [
    {
      "cell_type": "code",
      "execution_count": 4,
      "metadata": {
        "colab": {
          "base_uri": "https://localhost:8080/"
        },
        "id": "cIUwT-4Ottho",
        "outputId": "0394b9c7-e8c9-4bc1-df8c-f3124d6bc5fd"
      },
      "outputs": [
        {
          "name": "stdout",
          "output_type": "stream",
          "text": [
            "Cloning into 'KGPL-PyTorch'...\n",
            "remote: Enumerating objects: 354, done.\u001b[K\n",
            "remote: Counting objects: 100% (185/185), done.\u001b[K\n",
            "remote: Compressing objects: 100% (158/158), done.\u001b[K\n",
            "remote: Total 354 (delta 88), reused 60 (delta 26), pack-reused 169 (from 1)\u001b[K\n",
            "Receiving objects: 100% (354/354), 15.35 MiB | 12.25 MiB/s, done.\n",
            "Resolving deltas: 100% (129/129), done.\n"
          ]
        }
      ],
      "source": [
        "# !git clone https://github.com/dna-witch/KGPL-PyTorch/ -b th-dev\n",
        "!git clone https://github.com/dna-witch/KGPL-PyTorch/ -b sm-test"
      ]
    },
    {
      "cell_type": "code",
      "execution_count": 5,
      "metadata": {
        "colab": {
          "base_uri": "https://localhost:8080/"
        },
        "id": "oZDbEMFNuAt7",
        "outputId": "0ca4dfbb-11e7-4485-f2b3-5bc6528fbeda"
      },
      "outputs": [
        {
          "name": "stdout",
          "output_type": "stream",
          "text": [
            "Requirement already satisfied: hydra-core==0.11.3 in /usr/local/lib/python3.11/dist-packages (from -r KGPL-PyTorch/requirements.txt (line 1)) (0.11.3)\n",
            "Requirement already satisfied: omegaconf==1.4.1 in /usr/local/lib/python3.11/dist-packages (from -r KGPL-PyTorch/requirements.txt (line 2)) (1.4.1)\n",
            "Requirement already satisfied: loguru==0.5.0 in /usr/local/lib/python3.11/dist-packages (from -r KGPL-PyTorch/requirements.txt (line 3)) (0.5.0)\n",
            "Requirement already satisfied: six in /usr/local/lib/python3.11/dist-packages (from omegaconf==1.4.1->-r KGPL-PyTorch/requirements.txt (line 2)) (1.17.0)\n",
            "Requirement already satisfied: PyYAML in /usr/local/lib/python3.11/dist-packages (from omegaconf==1.4.1->-r KGPL-PyTorch/requirements.txt (line 2)) (6.0.2)\n"
          ]
        }
      ],
      "source": [
        "!pip install -r 'KGPL-PyTorch/requirements.txt'"
      ]
    },
    {
      "cell_type": "code",
      "execution_count": 6,
      "metadata": {
        "colab": {
          "base_uri": "https://localhost:8080/"
        },
        "id": "FJ4gHfhnzWHU",
        "outputId": "4f9dc654-aa18-4137-acbd-60bde6e3de2e"
      },
      "outputs": [
        {
          "name": "stdout",
          "output_type": "stream",
          "text": [
            "reading item index to entity id file: data/music/item_index2entity_id.txt ...\n",
            "reading rating file ...\n",
            "converting rating file ...\n",
            "number of users: 1872\n",
            "number of items: 3846\n",
            "converting kg file ...\n",
            "number of entities (containing items): 9366\n",
            "number of relations: 60\n",
            "done\n",
            "adj_entity_path: data/music/adj_entity_6_32.npy\n",
            "adj_relation_path: data/music/adj_relation_6_32.npy\n",
            "data_path: data/music/fold1.pkl\n",
            "dataset: music\n",
            "kg_path: data/music/kg_final.npy\n",
            "lp_depth: 6\n",
            "num_neighbor_samples: 32\n",
            "pathlist_path: data/music/path_list_6_32.pkl\n",
            "rating_path: data/music/ratings_final.npy\n",
            "reachable_items_path: data/music/reachable_items.pkl\n",
            "\n",
            "[Parallel(n_jobs=32)]: Using backend MultiprocessingBackend with 32 concurrent workers.\n",
            "[Parallel(n_jobs=32)]: Batch computation too fast (0.08682990074157715s.) Setting batch_size=2.\n",
            "[Parallel(n_jobs=32)]: Done   8 tasks      | elapsed:    1.2s\n",
            "[Parallel(n_jobs=32)]: Done  21 tasks      | elapsed:    2.4s\n",
            "[Parallel(n_jobs=32)]: Done  34 tasks      | elapsed:    6.1s\n",
            "[Parallel(n_jobs=32)]: Done  49 tasks      | elapsed:   10.6s\n",
            "[Parallel(n_jobs=32)]: Batch computation too slow (9.838130712509155s.) Setting batch_size=1.\n",
            "[Parallel(n_jobs=32)]: Done  70 tasks      | elapsed:   15.9s\n",
            "[Parallel(n_jobs=32)]: Done 101 tasks      | elapsed:   21.9s\n",
            "[Parallel(n_jobs=32)]: Done 133 tasks      | elapsed:   29.7s\n",
            "[Parallel(n_jobs=32)]: Done 159 tasks      | elapsed:   32.8s\n",
            "[Parallel(n_jobs=32)]: Done 186 tasks      | elapsed:   36.4s\n",
            "[Parallel(n_jobs=32)]: Done 212 tasks      | elapsed:   39.5s\n",
            "[Parallel(n_jobs=32)]: Done 233 tasks      | elapsed:   45.4s\n",
            "[Parallel(n_jobs=32)]: Done 258 tasks      | elapsed:   49.5s\n",
            "[Parallel(n_jobs=32)]: Done 282 tasks      | elapsed:   52.4s\n",
            "[Parallel(n_jobs=32)]: Done 309 tasks      | elapsed:  1.0min\n",
            "[Parallel(n_jobs=32)]: Done 334 tasks      | elapsed:  1.1min\n",
            "[Parallel(n_jobs=32)]: Done 362 tasks      | elapsed:  1.2min\n",
            "[Parallel(n_jobs=32)]: Done 389 tasks      | elapsed:  1.2min\n",
            "[Parallel(n_jobs=32)]: Done 419 tasks      | elapsed:  1.4min\n",
            "[Parallel(n_jobs=32)]: Done 448 tasks      | elapsed:  1.5min\n",
            "[Parallel(n_jobs=32)]: Done 480 tasks      | elapsed:  1.6min\n",
            "[Parallel(n_jobs=32)]: Done 512 tasks      | elapsed:  1.7min\n",
            "[Parallel(n_jobs=32)]: Done 545 tasks      | elapsed:  1.8min\n",
            "[Parallel(n_jobs=32)]: Done 578 tasks      | elapsed:  2.0min\n",
            "[Parallel(n_jobs=32)]: Done 613 tasks      | elapsed:  2.1min\n",
            "[Parallel(n_jobs=32)]: Done 648 tasks      | elapsed:  2.2min\n",
            "[Parallel(n_jobs=32)]: Done 685 tasks      | elapsed:  2.3min\n",
            "[Parallel(n_jobs=32)]: Done 722 tasks      | elapsed:  2.4min\n",
            "[Parallel(n_jobs=32)]: Done 761 tasks      | elapsed:  2.5min\n",
            "[Parallel(n_jobs=32)]: Done 800 tasks      | elapsed:  2.7min\n",
            "[Parallel(n_jobs=32)]: Done 841 tasks      | elapsed:  2.9min\n",
            "[Parallel(n_jobs=32)]: Done 882 tasks      | elapsed:  3.0min\n",
            "[Parallel(n_jobs=32)]: Done 925 tasks      | elapsed:  3.1min\n",
            "[Parallel(n_jobs=32)]: Done 968 tasks      | elapsed:  3.3min\n",
            "[Parallel(n_jobs=32)]: Done 1013 tasks      | elapsed:  3.4min\n",
            "[Parallel(n_jobs=32)]: Done 1058 tasks      | elapsed:  3.5min\n",
            "[Parallel(n_jobs=32)]: Done 1105 tasks      | elapsed:  3.6min\n",
            "[Parallel(n_jobs=32)]: Done 1152 tasks      | elapsed:  3.8min\n",
            "[Parallel(n_jobs=32)]: Done 1201 tasks      | elapsed:  4.0min\n",
            "[Parallel(n_jobs=32)]: Done 1250 tasks      | elapsed:  4.2min\n",
            "[Parallel(n_jobs=32)]: Done 1301 tasks      | elapsed:  4.3min\n",
            "[Parallel(n_jobs=32)]: Done 1352 tasks      | elapsed:  4.6min\n",
            "[Parallel(n_jobs=32)]: Done 1405 tasks      | elapsed:  4.8min\n",
            "[Parallel(n_jobs=32)]: Done 1458 tasks      | elapsed:  4.9min\n",
            "[Parallel(n_jobs=32)]: Done 1513 tasks      | elapsed:  5.1min\n",
            "[Parallel(n_jobs=32)]: Done 1568 tasks      | elapsed:  5.3min\n",
            "[Parallel(n_jobs=32)]: Done 1625 tasks      | elapsed:  5.6min\n",
            "[Parallel(n_jobs=32)]: Done 1682 tasks      | elapsed:  5.8min\n",
            "[Parallel(n_jobs=32)]: Done 1741 tasks      | elapsed:  6.0min\n",
            "[Parallel(n_jobs=32)]: Done 1800 tasks      | elapsed:  6.2min\n",
            "[Parallel(n_jobs=32)]: Done 1861 tasks      | elapsed:  6.4min\n",
            "[Parallel(n_jobs=32)]: Done 1922 tasks      | elapsed:  6.6min\n",
            "[Parallel(n_jobs=32)]: Done 1985 tasks      | elapsed:  6.8min\n",
            "[Parallel(n_jobs=32)]: Done 2048 tasks      | elapsed:  6.9min\n",
            "[Parallel(n_jobs=32)]: Done 2113 tasks      | elapsed:  7.1min\n",
            "[Parallel(n_jobs=32)]: Done 2178 tasks      | elapsed:  7.4min\n",
            "[Parallel(n_jobs=32)]: Done 2245 tasks      | elapsed:  7.6min\n",
            "[Parallel(n_jobs=32)]: Done 2312 tasks      | elapsed:  7.9min\n",
            "[Parallel(n_jobs=32)]: Done 2381 tasks      | elapsed:  8.1min\n",
            "[Parallel(n_jobs=32)]: Done 2450 tasks      | elapsed:  8.4min\n",
            "[Parallel(n_jobs=32)]: Done 2521 tasks      | elapsed:  8.6min\n",
            "[Parallel(n_jobs=32)]: Done 2592 tasks      | elapsed:  8.9min\n",
            "[Parallel(n_jobs=32)]: Done 2665 tasks      | elapsed:  9.3min\n",
            "[Parallel(n_jobs=32)]: Done 2738 tasks      | elapsed:  9.6min\n",
            "[Parallel(n_jobs=32)]: Done 2813 tasks      | elapsed: 10.0min\n",
            "[Parallel(n_jobs=32)]: Done 2888 tasks      | elapsed: 10.1min\n",
            "[Parallel(n_jobs=32)]: Done 2965 tasks      | elapsed: 10.4min\n",
            "[Parallel(n_jobs=32)]: Done 3042 tasks      | elapsed: 10.7min\n",
            "[Parallel(n_jobs=32)]: Done 3121 tasks      | elapsed: 11.1min\n",
            "[Parallel(n_jobs=32)]: Done 3200 tasks      | elapsed: 11.3min\n",
            "[Parallel(n_jobs=32)]: Done 3281 tasks      | elapsed: 11.6min\n",
            "[Parallel(n_jobs=32)]: Done 3362 tasks      | elapsed: 11.9min\n",
            "[Parallel(n_jobs=32)]: Done 3445 tasks      | elapsed: 12.1min\n",
            "[Parallel(n_jobs=32)]: Done 3528 tasks      | elapsed: 12.4min\n",
            "[Parallel(n_jobs=32)]: Done 3613 tasks      | elapsed: 12.7min\n",
            "[Parallel(n_jobs=32)]: Done 3698 tasks      | elapsed: 12.9min\n",
            "[Parallel(n_jobs=32)]: Done 3846 out of 3846 | elapsed: 13.4min finished\n",
            "average number of paths: 551.4557982319293\n",
            "median number of paths: 278.5\n",
            "min number of paths: 2\n",
            "max number of paths: 10595\n"
          ]
        }
      ],
      "source": [
        "!cd KGPL-PyTorch &&\\\n",
        "python preprocess/preprocess.py -d \"music\" &&\\\n",
        "python preprocess/make_path_list.py lp_depth=6 dataset=music kg_path=data/music/kg_final.npy rating_path=data/music/ratings_final.npy num_neighbor_samples=32"
      ]
    },
    {
      "cell_type": "code",
      "execution_count": 7,
      "metadata": {
        "id": "Bbbx3BBqmx7V"
      },
      "outputs": [],
      "source": [
        "import sys\n",
        "sys.path.append('KGPL-PyTorch/')"
      ]
    },
    {
      "cell_type": "code",
      "execution_count": 8,
      "metadata": {
        "id": "On-Lgk4FvOOq"
      },
      "outputs": [],
      "source": [
        "from model import *\n",
        "from utils.data_classes import *\n",
        "from utils.functions import *\n",
        "from utils.eval import *\n",
        "\n",
        "import torch\n",
        "from tqdm import tqdm"
      ]
    },
    {
      "cell_type": "code",
      "execution_count": 9,
      "metadata": {
        "colab": {
          "base_uri": "https://localhost:8080/"
        },
        "id": "O-QCcpdcnf8F",
        "outputId": "cb6ec8b4-3e22-476a-c354-1efce23023b3"
      },
      "outputs": [
        {
          "name": "stdout",
          "output_type": "stream",
          "text": [
            "Loading Entity Adjacencies...\n",
            "Loading Relation Adjacencies...\n",
            "Loading Ratings...\n",
            "Loading Path List...\n",
            "Loading Distances...\n",
            "Setting up dst dict...\n"
          ]
        },
        {
          "name": "stderr",
          "output_type": "stream",
          "text": [
            "100%|██████████| 3846/3846 [00:00<00:00, 7814.27it/s]"
          ]
        },
        {
          "name": "stdout",
          "output_type": "stream",
          "text": [
            "Start updating path info...\n",
            "Path info updated.\n"
          ]
        },
        {
          "name": "stderr",
          "output_type": "stream",
          "text": [
            "\n"
          ]
        }
      ],
      "source": [
        "music = KGPLExperiment(\n",
        "    'music',\n",
        "    {\n",
        "      'plabel_lp_depth': 6,\n",
        "      'plabel_par': 16,\n",
        "      'plabel_chunk_size': 250,\n",
        "      'plabel_neg_pn': 0.1,\n",
        "      'plabel_pl_pn': 1e-3,\n",
        "      'dropout_rate': 0.5,\n",
        "      'emb_dim': 64,\n",
        "      'n_iter': 1,\n",
        "      'plabel': {},\n",
        "      'optimize': {'iter_per_epoch': 100, 'lr': 3e-3, 'batch_size': 3333},\n",
        "      'log': {'show_loss': True},\n",
        "      'evaluate': {'user_num_topk': 1000},\n",
        "      'model': {\n",
        "          'n_iter': 1,\n",
        "          'neighbor_sample_size': 32,\n",
        "          'num_neighbor_samples': 32,\n",
        "          'dropout_rate': 0.5}\n",
        "    })"
      ]
    },
    {
      "cell_type": "code",
      "execution_count": 10,
      "metadata": {
        "colab": {
          "base_uri": "https://localhost:8080/"
        },
        "id": "87sI4ZnLrFHA",
        "outputId": "b2138b97-0402-48eb-cb61-f9c6cc665b33"
      },
      "outputs": [
        {
          "name": "stderr",
          "output_type": "stream",
          "text": [
            "/content/KGPL-PyTorch/utils/data_classes.py:197: RuntimeWarning: invalid value encountered in divide\n",
            "  F = (F / F.sum()).cumsum()\n"
          ]
        },
        {
          "name": "stdout",
          "output_type": "stream",
          "text": [
            "Neg C Dict User: 1870\n",
            "Neg C Dict Item: 3827\n"
          ]
        },
        {
          "name": "stderr",
          "output_type": "stream",
          "text": [
            "100%|██████████| 27097/27097 [00:00<00:00, 115766.13it/s]\n"
          ]
        },
        {
          "name": "stdout",
          "output_type": "stream",
          "text": [
            "Populating item dist dict...\n"
          ]
        },
        {
          "name": "stderr",
          "output_type": "stream",
          "text": [
            "8it [00:06,  1.24it/s]\n"
          ]
        }
      ],
      "source": [
        "music.train_val_test_split()"
      ]
    },
    {
      "cell_type": "code",
      "execution_count": 11,
      "metadata": {
        "id": "ZnB_6SNSrE0T"
      },
      "outputs": [],
      "source": [
        "music.create_dataloaders()"
      ]
    },
    {
      "cell_type": "code",
      "execution_count": 12,
      "metadata": {
        "id": "EXq7JoV_7P2-"
      },
      "outputs": [],
      "source": [
        "model = KGPLCOT(\n",
        "        music.cfg,\n",
        "        int(music.ratings[:, 0].max().item()) + 1,\n",
        "        int(music.ratings[:, 1].max().item()) + 1,\n",
        "        music.n_entity,\n",
        "        music.n_relation,\n",
        "        music.adj_entity,\n",
        "        music.adj_relation,\n",
        "        music.path_list_dict,\n",
        "        music.train_loader,\n",
        "        music.val_loader,\n",
        "        'cpu'\n",
        "    )"
      ]
    },
    {
      "cell_type": "code",
      "execution_count": 13,
      "metadata": {
        "id": "3MLx9FurzN5l"
      },
      "outputs": [],
      "source": [
        "def run_cotrain(model, train_loader, val_loader, test_loader, cfg, device, num_epochs=40, k=10):\n",
        "    optimizer_f = torch.optim.Adam(model.model_f.parameters(), lr=cfg['optimize']['lr'])\n",
        "    optimizer_g = torch.optim.Adam(model.model_g.parameters(), lr=cfg['optimize']['lr'])\n",
        "    iter_per_epoch = cfg['optimize']['iter_per_epoch']\n",
        "\n",
        "    for epoch in range(1, num_epochs + 1):\n",
        "        print(f\"\\nEpoch {epoch}\")\n",
        "        model.train()\n",
        "        total_loss_f, total_loss_g = 0.0, 0.0\n",
        "\n",
        "        train_iter = iter(train_loader)  # re-initialize iterator every epoch\n",
        "\n",
        "        for i in tqdm(range(iter_per_epoch)):\n",
        "            try:\n",
        "                batch = next(train_iter)\n",
        "            except StopIteration:\n",
        "                train_iter = iter(train_loader)\n",
        "                batch = next(train_iter)\n",
        "\n",
        "            users, pos, neg, pseudo = [b.to(device) for b in batch]\n",
        "            batch_data = torch.stack([users, pos, neg, pseudo], dim=1)\n",
        "\n",
        "            losses = model.train_step(batch_data, optimizer_f, optimizer_g)\n",
        "            total_loss_f += losses['loss_f']\n",
        "            total_loss_g += losses['loss_g']\n",
        "\n",
        "        avg_loss_f = total_loss_f / iter_per_epoch\n",
        "        avg_loss_g = total_loss_g / iter_per_epoch\n",
        "        print(f\"Train Loss - f: {avg_loss_f:.4f}, g: {avg_loss_g:.4f}\")\n",
        "\n",
        "        print(\"Evaluating model_f:\")\n",
        "\n",
        "        run_topk_eval(\n",
        "          model=model,\n",
        "          cfg = cfg,\n",
        "          train_data=music.train_dataset.ratings.numpy(),\n",
        "          eval_data=music.val_dataset.ratings.numpy(),\n",
        "          test_data=music.test_dataset.ratings.numpy(),\n",
        "          n_items=music.n_item,\n",
        "          device=device,\n",
        "          test_mode=False  # or True for test set\n",
        "        )"
      ]
    },
    {
      "cell_type": "code",
      "execution_count": 14,
      "metadata": {
        "colab": {
          "base_uri": "https://localhost:8080/"
        },
        "id": "B8bQ8AEly4wv",
        "outputId": "588b8abd-188a-434c-d8eb-8fe4665dbf5e"
      },
      "outputs": [
        {
          "name": "stdout",
          "output_type": "stream",
          "text": [
            "\n",
            "Epoch 1\n"
          ]
        },
        {
          "name": "stderr",
          "output_type": "stream",
          "text": [
            "100%|██████████| 100/100 [02:33<00:00,  1.54s/it]\n"
          ]
        },
        {
          "name": "stdout",
          "output_type": "stream",
          "text": [
            "Train Loss - f: 5.0537, g: 5.0519\n",
            "Evaluating model_f:\n"
          ]
        },
        {
          "name": "stderr",
          "output_type": "stream",
          "text": [
            "Evaluating: 100%|██████████| 1000/1000 [01:20<00:00, 12.35it/s]\n"
          ]
        },
        {
          "name": "stdout",
          "output_type": "stream",
          "text": [
            "\n",
            "Top-K Evaluation Results\n",
            "K=  1 | Precision: 0.0000 | Recall: 0.0000\n",
            "K=  2 | Precision: 0.0010 | Recall: 0.0008\n",
            "K=  5 | Precision: 0.0008 | Recall: 0.0021\n",
            "K= 10 | Precision: 0.0006 | Recall: 0.0029\n",
            "K= 20 | Precision: 0.0008 | Recall: 0.0066\n",
            "\n",
            "Epoch 2\n"
          ]
        },
        {
          "name": "stderr",
          "output_type": "stream",
          "text": [
            "100%|██████████| 100/100 [02:25<00:00,  1.46s/it]\n"
          ]
        },
        {
          "name": "stdout",
          "output_type": "stream",
          "text": [
            "Train Loss - f: 2.2428, g: 2.2465\n",
            "Evaluating model_f:\n"
          ]
        },
        {
          "name": "stderr",
          "output_type": "stream",
          "text": [
            "Evaluating: 100%|██████████| 1000/1000 [00:50<00:00, 19.76it/s]\n"
          ]
        },
        {
          "name": "stdout",
          "output_type": "stream",
          "text": [
            "\n",
            "Top-K Evaluation Results\n",
            "K=  1 | Precision: 0.0010 | Recall: 0.0002\n",
            "K=  2 | Precision: 0.0005 | Recall: 0.0002\n",
            "K=  5 | Precision: 0.0006 | Recall: 0.0006\n",
            "K= 10 | Precision: 0.0006 | Recall: 0.0028\n",
            "K= 20 | Precision: 0.0006 | Recall: 0.0046\n",
            "\n",
            "Epoch 3\n"
          ]
        },
        {
          "name": "stderr",
          "output_type": "stream",
          "text": [
            "100%|██████████| 100/100 [02:27<00:00,  1.48s/it]\n"
          ]
        },
        {
          "name": "stdout",
          "output_type": "stream",
          "text": [
            "Train Loss - f: 2.2384, g: 2.2409\n",
            "Evaluating model_f:\n"
          ]
        },
        {
          "name": "stderr",
          "output_type": "stream",
          "text": [
            "Evaluating: 100%|██████████| 1000/1000 [00:53<00:00, 18.70it/s]\n"
          ]
        },
        {
          "name": "stdout",
          "output_type": "stream",
          "text": [
            "\n",
            "Top-K Evaluation Results\n",
            "K=  1 | Precision: 0.0020 | Recall: 0.0008\n",
            "K=  2 | Precision: 0.0010 | Recall: 0.0008\n",
            "K=  5 | Precision: 0.0012 | Recall: 0.0021\n",
            "K= 10 | Precision: 0.0008 | Recall: 0.0027\n",
            "K= 20 | Precision: 0.0005 | Recall: 0.0032\n",
            "\n",
            "Epoch 4\n"
          ]
        },
        {
          "name": "stderr",
          "output_type": "stream",
          "text": [
            "100%|██████████| 100/100 [02:26<00:00,  1.47s/it]\n"
          ]
        },
        {
          "name": "stdout",
          "output_type": "stream",
          "text": [
            "Train Loss - f: 2.2353, g: 2.2377\n",
            "Evaluating model_f:\n"
          ]
        },
        {
          "name": "stderr",
          "output_type": "stream",
          "text": [
            "Evaluating: 100%|██████████| 1000/1000 [00:53<00:00, 18.71it/s]\n"
          ]
        },
        {
          "name": "stdout",
          "output_type": "stream",
          "text": [
            "\n",
            "Top-K Evaluation Results\n",
            "K=  1 | Precision: 0.0000 | Recall: 0.0000\n",
            "K=  2 | Precision: 0.0000 | Recall: 0.0000\n",
            "K=  5 | Precision: 0.0004 | Recall: 0.0015\n",
            "K= 10 | Precision: 0.0002 | Recall: 0.0015\n",
            "K= 20 | Precision: 0.0004 | Recall: 0.0048\n",
            "\n",
            "Epoch 5\n"
          ]
        },
        {
          "name": "stderr",
          "output_type": "stream",
          "text": [
            "100%|██████████| 100/100 [02:26<00:00,  1.47s/it]\n"
          ]
        },
        {
          "name": "stdout",
          "output_type": "stream",
          "text": [
            "Train Loss - f: 2.2304, g: 2.2357\n",
            "Evaluating model_f:\n"
          ]
        },
        {
          "name": "stderr",
          "output_type": "stream",
          "text": [
            "Evaluating: 100%|██████████| 1000/1000 [00:55<00:00, 17.95it/s]\n"
          ]
        },
        {
          "name": "stdout",
          "output_type": "stream",
          "text": [
            "\n",
            "Top-K Evaluation Results\n",
            "K=  1 | Precision: 0.0000 | Recall: 0.0000\n",
            "K=  2 | Precision: 0.0000 | Recall: 0.0000\n",
            "K=  5 | Precision: 0.0002 | Recall: 0.0005\n",
            "K= 10 | Precision: 0.0003 | Recall: 0.0018\n",
            "K= 20 | Precision: 0.0004 | Recall: 0.0040\n",
            "\n",
            "Epoch 6\n"
          ]
        },
        {
          "name": "stderr",
          "output_type": "stream",
          "text": [
            "100%|██████████| 100/100 [02:25<00:00,  1.45s/it]\n"
          ]
        },
        {
          "name": "stdout",
          "output_type": "stream",
          "text": [
            "Train Loss - f: 2.2269, g: 2.2304\n",
            "Evaluating model_f:\n"
          ]
        },
        {
          "name": "stderr",
          "output_type": "stream",
          "text": [
            "Evaluating: 100%|██████████| 1000/1000 [00:57<00:00, 17.25it/s]\n"
          ]
        },
        {
          "name": "stdout",
          "output_type": "stream",
          "text": [
            "\n",
            "Top-K Evaluation Results\n",
            "K=  1 | Precision: 0.0010 | Recall: 0.0003\n",
            "K=  2 | Precision: 0.0010 | Recall: 0.0008\n",
            "K=  5 | Precision: 0.0006 | Recall: 0.0011\n",
            "K= 10 | Precision: 0.0005 | Recall: 0.0018\n",
            "K= 20 | Precision: 0.0006 | Recall: 0.0057\n",
            "\n",
            "Epoch 7\n"
          ]
        },
        {
          "name": "stderr",
          "output_type": "stream",
          "text": [
            "100%|██████████| 100/100 [02:26<00:00,  1.46s/it]\n"
          ]
        },
        {
          "name": "stdout",
          "output_type": "stream",
          "text": [
            "Train Loss - f: 2.2171, g: 2.2174\n",
            "Evaluating model_f:\n"
          ]
        },
        {
          "name": "stderr",
          "output_type": "stream",
          "text": [
            "Evaluating: 100%|██████████| 1000/1000 [00:53<00:00, 18.82it/s]\n"
          ]
        },
        {
          "name": "stdout",
          "output_type": "stream",
          "text": [
            "\n",
            "Top-K Evaluation Results\n",
            "K=  1 | Precision: 0.0000 | Recall: 0.0000\n",
            "K=  2 | Precision: 0.0000 | Recall: 0.0000\n",
            "K=  5 | Precision: 0.0000 | Recall: 0.0000\n",
            "K= 10 | Precision: 0.0000 | Recall: 0.0000\n",
            "K= 20 | Precision: 0.0003 | Recall: 0.0018\n",
            "\n",
            "Epoch 8\n"
          ]
        },
        {
          "name": "stderr",
          "output_type": "stream",
          "text": [
            "100%|██████████| 100/100 [02:28<00:00,  1.49s/it]\n"
          ]
        },
        {
          "name": "stdout",
          "output_type": "stream",
          "text": [
            "Train Loss - f: 2.2077, g: 2.2125\n",
            "Evaluating model_f:\n"
          ]
        },
        {
          "name": "stderr",
          "output_type": "stream",
          "text": [
            "Evaluating: 100%|██████████| 1000/1000 [00:51<00:00, 19.34it/s]\n"
          ]
        },
        {
          "name": "stdout",
          "output_type": "stream",
          "text": [
            "\n",
            "Top-K Evaluation Results\n",
            "K=  1 | Precision: 0.0000 | Recall: 0.0000\n",
            "K=  2 | Precision: 0.0000 | Recall: 0.0000\n",
            "K=  5 | Precision: 0.0002 | Recall: 0.0002\n",
            "K= 10 | Precision: 0.0003 | Recall: 0.0012\n",
            "K= 20 | Precision: 0.0006 | Recall: 0.0044\n",
            "\n",
            "Epoch 9\n"
          ]
        },
        {
          "name": "stderr",
          "output_type": "stream",
          "text": [
            "100%|██████████| 100/100 [02:25<00:00,  1.45s/it]\n"
          ]
        },
        {
          "name": "stdout",
          "output_type": "stream",
          "text": [
            "Train Loss - f: 2.1959, g: 2.1985\n",
            "Evaluating model_f:\n"
          ]
        },
        {
          "name": "stderr",
          "output_type": "stream",
          "text": [
            "Evaluating: 100%|██████████| 1000/1000 [00:51<00:00, 19.42it/s]\n"
          ]
        },
        {
          "name": "stdout",
          "output_type": "stream",
          "text": [
            "\n",
            "Top-K Evaluation Results\n",
            "K=  1 | Precision: 0.0000 | Recall: 0.0000\n",
            "K=  2 | Precision: 0.0000 | Recall: 0.0000\n",
            "K=  5 | Precision: 0.0000 | Recall: 0.0000\n",
            "K= 10 | Precision: 0.0003 | Recall: 0.0020\n",
            "K= 20 | Precision: 0.0005 | Recall: 0.0047\n",
            "\n",
            "Epoch 10\n"
          ]
        },
        {
          "name": "stderr",
          "output_type": "stream",
          "text": [
            "100%|██████████| 100/100 [02:28<00:00,  1.48s/it]\n"
          ]
        },
        {
          "name": "stdout",
          "output_type": "stream",
          "text": [
            "Train Loss - f: 2.1797, g: 2.1852\n",
            "Evaluating model_f:\n"
          ]
        },
        {
          "name": "stderr",
          "output_type": "stream",
          "text": [
            "Evaluating: 100%|██████████| 1000/1000 [01:25<00:00, 11.75it/s]\n"
          ]
        },
        {
          "name": "stdout",
          "output_type": "stream",
          "text": [
            "\n",
            "Top-K Evaluation Results\n",
            "K=  1 | Precision: 0.0000 | Recall: 0.0000\n",
            "K=  2 | Precision: 0.0000 | Recall: 0.0000\n",
            "K=  5 | Precision: 0.0010 | Recall: 0.0029\n",
            "K= 10 | Precision: 0.0006 | Recall: 0.0034\n",
            "K= 20 | Precision: 0.0006 | Recall: 0.0057\n",
            "\n",
            "Epoch 11\n"
          ]
        },
        {
          "name": "stderr",
          "output_type": "stream",
          "text": [
            "100%|██████████| 100/100 [02:27<00:00,  1.48s/it]\n"
          ]
        },
        {
          "name": "stdout",
          "output_type": "stream",
          "text": [
            "Train Loss - f: 2.1614, g: 2.1673\n",
            "Evaluating model_f:\n"
          ]
        },
        {
          "name": "stderr",
          "output_type": "stream",
          "text": [
            "Evaluating: 100%|██████████| 1000/1000 [00:58<00:00, 16.97it/s]\n"
          ]
        },
        {
          "name": "stdout",
          "output_type": "stream",
          "text": [
            "\n",
            "Top-K Evaluation Results\n",
            "K=  1 | Precision: 0.0000 | Recall: 0.0000\n",
            "K=  2 | Precision: 0.0005 | Recall: 0.0003\n",
            "K=  5 | Precision: 0.0004 | Recall: 0.0004\n",
            "K= 10 | Precision: 0.0007 | Recall: 0.0034\n",
            "K= 20 | Precision: 0.0006 | Recall: 0.0050\n",
            "\n",
            "Epoch 12\n"
          ]
        },
        {
          "name": "stderr",
          "output_type": "stream",
          "text": [
            "100%|██████████| 100/100 [02:27<00:00,  1.48s/it]\n"
          ]
        },
        {
          "name": "stdout",
          "output_type": "stream",
          "text": [
            "Train Loss - f: 2.1419, g: 2.1463\n",
            "Evaluating model_f:\n"
          ]
        },
        {
          "name": "stderr",
          "output_type": "stream",
          "text": [
            "Evaluating: 100%|██████████| 1000/1000 [01:01<00:00, 16.28it/s]\n"
          ]
        },
        {
          "name": "stdout",
          "output_type": "stream",
          "text": [
            "\n",
            "Top-K Evaluation Results\n",
            "K=  1 | Precision: 0.0000 | Recall: 0.0000\n",
            "K=  2 | Precision: 0.0005 | Recall: 0.0003\n",
            "K=  5 | Precision: 0.0004 | Recall: 0.0008\n",
            "K= 10 | Precision: 0.0002 | Recall: 0.0008\n",
            "K= 20 | Precision: 0.0006 | Recall: 0.0062\n",
            "\n",
            "Epoch 13\n"
          ]
        },
        {
          "name": "stderr",
          "output_type": "stream",
          "text": [
            "100%|██████████| 100/100 [02:27<00:00,  1.47s/it]\n"
          ]
        },
        {
          "name": "stdout",
          "output_type": "stream",
          "text": [
            "Train Loss - f: 2.1207, g: 2.1247\n",
            "Evaluating model_f:\n"
          ]
        },
        {
          "name": "stderr",
          "output_type": "stream",
          "text": [
            "Evaluating: 100%|██████████| 1000/1000 [01:05<00:00, 15.28it/s]\n"
          ]
        },
        {
          "name": "stdout",
          "output_type": "stream",
          "text": [
            "\n",
            "Top-K Evaluation Results\n",
            "K=  1 | Precision: 0.0000 | Recall: 0.0000\n",
            "K=  2 | Precision: 0.0000 | Recall: 0.0000\n",
            "K=  5 | Precision: 0.0010 | Recall: 0.0032\n",
            "K= 10 | Precision: 0.0011 | Recall: 0.0064\n",
            "K= 20 | Precision: 0.0009 | Recall: 0.0093\n",
            "\n",
            "Epoch 14\n"
          ]
        },
        {
          "name": "stderr",
          "output_type": "stream",
          "text": [
            "100%|██████████| 100/100 [02:29<00:00,  1.50s/it]\n"
          ]
        },
        {
          "name": "stdout",
          "output_type": "stream",
          "text": [
            "Train Loss - f: 2.1025, g: 2.1020\n",
            "Evaluating model_f:\n"
          ]
        },
        {
          "name": "stderr",
          "output_type": "stream",
          "text": [
            "Evaluating: 100%|██████████| 1000/1000 [01:02<00:00, 16.05it/s]\n"
          ]
        },
        {
          "name": "stdout",
          "output_type": "stream",
          "text": [
            "\n",
            "Top-K Evaluation Results\n",
            "K=  1 | Precision: 0.0010 | Recall: 0.0010\n",
            "K=  2 | Precision: 0.0020 | Recall: 0.0032\n",
            "K=  5 | Precision: 0.0008 | Recall: 0.0032\n",
            "K= 10 | Precision: 0.0008 | Recall: 0.0055\n",
            "K= 20 | Precision: 0.0011 | Recall: 0.0121\n",
            "\n",
            "Epoch 15\n"
          ]
        },
        {
          "name": "stderr",
          "output_type": "stream",
          "text": [
            "100%|██████████| 100/100 [02:26<00:00,  1.47s/it]\n"
          ]
        },
        {
          "name": "stdout",
          "output_type": "stream",
          "text": [
            "Train Loss - f: 2.0767, g: 2.0817\n",
            "Evaluating model_f:\n"
          ]
        },
        {
          "name": "stderr",
          "output_type": "stream",
          "text": [
            "Evaluating: 100%|██████████| 1000/1000 [01:01<00:00, 16.21it/s]\n"
          ]
        },
        {
          "name": "stdout",
          "output_type": "stream",
          "text": [
            "\n",
            "Top-K Evaluation Results\n",
            "K=  1 | Precision: 0.0030 | Recall: 0.0020\n",
            "K=  2 | Precision: 0.0035 | Recall: 0.0036\n",
            "K=  5 | Precision: 0.0030 | Recall: 0.0076\n",
            "K= 10 | Precision: 0.0030 | Recall: 0.0149\n",
            "K= 20 | Precision: 0.0027 | Recall: 0.0271\n",
            "\n",
            "Epoch 16\n"
          ]
        },
        {
          "name": "stderr",
          "output_type": "stream",
          "text": [
            "100%|██████████| 100/100 [02:25<00:00,  1.46s/it]\n"
          ]
        },
        {
          "name": "stdout",
          "output_type": "stream",
          "text": [
            "Train Loss - f: 2.0579, g: 2.0591\n",
            "Evaluating model_f:\n"
          ]
        },
        {
          "name": "stderr",
          "output_type": "stream",
          "text": [
            "Evaluating: 100%|██████████| 1000/1000 [01:04<00:00, 15.46it/s]\n"
          ]
        },
        {
          "name": "stdout",
          "output_type": "stream",
          "text": [
            "\n",
            "Top-K Evaluation Results\n",
            "K=  1 | Precision: 0.0060 | Recall: 0.0022\n",
            "K=  2 | Precision: 0.0070 | Recall: 0.0056\n",
            "K=  5 | Precision: 0.0058 | Recall: 0.0132\n",
            "K= 10 | Precision: 0.0040 | Recall: 0.0185\n",
            "K= 20 | Precision: 0.0032 | Recall: 0.0317\n",
            "\n",
            "Epoch 17\n"
          ]
        },
        {
          "name": "stderr",
          "output_type": "stream",
          "text": [
            "100%|██████████| 100/100 [02:24<00:00,  1.45s/it]\n"
          ]
        },
        {
          "name": "stdout",
          "output_type": "stream",
          "text": [
            "Train Loss - f: 2.0370, g: 2.0362\n",
            "Evaluating model_f:\n"
          ]
        },
        {
          "name": "stderr",
          "output_type": "stream",
          "text": [
            "Evaluating: 100%|██████████| 1000/1000 [00:52<00:00, 18.95it/s]\n"
          ]
        },
        {
          "name": "stdout",
          "output_type": "stream",
          "text": [
            "\n",
            "Top-K Evaluation Results\n",
            "K=  1 | Precision: 0.0150 | Recall: 0.0080\n",
            "K=  2 | Precision: 0.0105 | Recall: 0.0106\n",
            "K=  5 | Precision: 0.0070 | Recall: 0.0186\n",
            "K= 10 | Precision: 0.0061 | Recall: 0.0299\n",
            "K= 20 | Precision: 0.0047 | Recall: 0.0451\n",
            "\n",
            "Epoch 18\n"
          ]
        },
        {
          "name": "stderr",
          "output_type": "stream",
          "text": [
            "100%|██████████| 100/100 [02:32<00:00,  1.52s/it]\n"
          ]
        },
        {
          "name": "stdout",
          "output_type": "stream",
          "text": [
            "Train Loss - f: 2.0135, g: 2.0169\n",
            "Evaluating model_f:\n"
          ]
        },
        {
          "name": "stderr",
          "output_type": "stream",
          "text": [
            "Evaluating: 100%|██████████| 1000/1000 [00:52<00:00, 19.14it/s]\n"
          ]
        },
        {
          "name": "stdout",
          "output_type": "stream",
          "text": [
            "\n",
            "Top-K Evaluation Results\n",
            "K=  1 | Precision: 0.0120 | Recall: 0.0057\n",
            "K=  2 | Precision: 0.0140 | Recall: 0.0135\n",
            "K=  5 | Precision: 0.0108 | Recall: 0.0282\n",
            "K= 10 | Precision: 0.0096 | Recall: 0.0498\n",
            "K= 20 | Precision: 0.0077 | Recall: 0.0824\n",
            "\n",
            "Epoch 19\n"
          ]
        },
        {
          "name": "stderr",
          "output_type": "stream",
          "text": [
            "100%|██████████| 100/100 [02:26<00:00,  1.47s/it]\n"
          ]
        },
        {
          "name": "stdout",
          "output_type": "stream",
          "text": [
            "Train Loss - f: 1.9896, g: 1.9939\n",
            "Evaluating model_f:\n"
          ]
        },
        {
          "name": "stderr",
          "output_type": "stream",
          "text": [
            "Evaluating: 100%|██████████| 1000/1000 [01:01<00:00, 16.23it/s]\n"
          ]
        },
        {
          "name": "stdout",
          "output_type": "stream",
          "text": [
            "\n",
            "Top-K Evaluation Results\n",
            "K=  1 | Precision: 0.0210 | Recall: 0.0114\n",
            "K=  2 | Precision: 0.0170 | Recall: 0.0178\n",
            "K=  5 | Precision: 0.0178 | Recall: 0.0479\n",
            "K= 10 | Precision: 0.0138 | Recall: 0.0730\n",
            "K= 20 | Precision: 0.0107 | Recall: 0.1093\n",
            "\n",
            "Epoch 20\n"
          ]
        },
        {
          "name": "stderr",
          "output_type": "stream",
          "text": [
            "100%|██████████| 100/100 [02:28<00:00,  1.49s/it]\n"
          ]
        },
        {
          "name": "stdout",
          "output_type": "stream",
          "text": [
            "Train Loss - f: 1.9733, g: 1.9754\n",
            "Evaluating model_f:\n"
          ]
        },
        {
          "name": "stderr",
          "output_type": "stream",
          "text": [
            "Evaluating: 100%|██████████| 1000/1000 [01:25<00:00, 11.75it/s]\n"
          ]
        },
        {
          "name": "stdout",
          "output_type": "stream",
          "text": [
            "\n",
            "Top-K Evaluation Results\n",
            "K=  1 | Precision: 0.0220 | Recall: 0.0094\n",
            "K=  2 | Precision: 0.0245 | Recall: 0.0254\n",
            "K=  5 | Precision: 0.0182 | Recall: 0.0450\n",
            "K= 10 | Precision: 0.0148 | Recall: 0.0741\n",
            "K= 20 | Precision: 0.0113 | Recall: 0.1120\n",
            "\n",
            "Epoch 21\n"
          ]
        },
        {
          "name": "stderr",
          "output_type": "stream",
          "text": [
            "100%|██████████| 100/100 [02:28<00:00,  1.48s/it]\n"
          ]
        },
        {
          "name": "stdout",
          "output_type": "stream",
          "text": [
            "Train Loss - f: 1.9580, g: 1.9574\n",
            "Evaluating model_f:\n"
          ]
        },
        {
          "name": "stderr",
          "output_type": "stream",
          "text": [
            "Evaluating: 100%|██████████| 1000/1000 [01:05<00:00, 15.37it/s]\n"
          ]
        },
        {
          "name": "stdout",
          "output_type": "stream",
          "text": [
            "\n",
            "Top-K Evaluation Results\n",
            "K=  1 | Precision: 0.0240 | Recall: 0.0121\n",
            "K=  2 | Precision: 0.0260 | Recall: 0.0244\n",
            "K=  5 | Precision: 0.0194 | Recall: 0.0454\n",
            "K= 10 | Precision: 0.0194 | Recall: 0.1012\n",
            "K= 20 | Precision: 0.0140 | Recall: 0.1399\n",
            "\n",
            "Epoch 22\n"
          ]
        },
        {
          "name": "stderr",
          "output_type": "stream",
          "text": [
            "100%|██████████| 100/100 [02:26<00:00,  1.47s/it]\n"
          ]
        },
        {
          "name": "stdout",
          "output_type": "stream",
          "text": [
            "Train Loss - f: 1.9351, g: 1.9367\n",
            "Evaluating model_f:\n"
          ]
        },
        {
          "name": "stderr",
          "output_type": "stream",
          "text": [
            "Evaluating: 100%|██████████| 1000/1000 [01:05<00:00, 15.30it/s]\n"
          ]
        },
        {
          "name": "stdout",
          "output_type": "stream",
          "text": [
            "\n",
            "Top-K Evaluation Results\n",
            "K=  1 | Precision: 0.0280 | Recall: 0.0131\n",
            "K=  2 | Precision: 0.0265 | Recall: 0.0262\n",
            "K=  5 | Precision: 0.0218 | Recall: 0.0586\n",
            "K= 10 | Precision: 0.0199 | Recall: 0.1046\n",
            "K= 20 | Precision: 0.0159 | Recall: 0.1623\n",
            "\n",
            "Epoch 23\n"
          ]
        },
        {
          "name": "stderr",
          "output_type": "stream",
          "text": [
            "100%|██████████| 100/100 [02:28<00:00,  1.48s/it]\n"
          ]
        },
        {
          "name": "stdout",
          "output_type": "stream",
          "text": [
            "Train Loss - f: 1.9261, g: 1.9234\n",
            "Evaluating model_f:\n"
          ]
        },
        {
          "name": "stderr",
          "output_type": "stream",
          "text": [
            "Evaluating: 100%|██████████| 1000/1000 [01:14<00:00, 13.51it/s]\n"
          ]
        },
        {
          "name": "stdout",
          "output_type": "stream",
          "text": [
            "\n",
            "Top-K Evaluation Results\n",
            "K=  1 | Precision: 0.0250 | Recall: 0.0128\n",
            "K=  2 | Precision: 0.0225 | Recall: 0.0222\n",
            "K=  5 | Precision: 0.0234 | Recall: 0.0547\n",
            "K= 10 | Precision: 0.0214 | Recall: 0.1090\n",
            "K= 20 | Precision: 0.0163 | Recall: 0.1629\n",
            "\n",
            "Epoch 24\n"
          ]
        },
        {
          "name": "stderr",
          "output_type": "stream",
          "text": [
            "100%|██████████| 100/100 [02:29<00:00,  1.49s/it]\n"
          ]
        },
        {
          "name": "stdout",
          "output_type": "stream",
          "text": [
            "Train Loss - f: 1.9090, g: 1.9096\n",
            "Evaluating model_f:\n"
          ]
        },
        {
          "name": "stderr",
          "output_type": "stream",
          "text": [
            "Evaluating: 100%|██████████| 1000/1000 [01:11<00:00, 14.02it/s]\n"
          ]
        },
        {
          "name": "stdout",
          "output_type": "stream",
          "text": [
            "\n",
            "Top-K Evaluation Results\n",
            "K=  1 | Precision: 0.0230 | Recall: 0.0127\n",
            "K=  2 | Precision: 0.0255 | Recall: 0.0256\n",
            "K=  5 | Precision: 0.0242 | Recall: 0.0620\n",
            "K= 10 | Precision: 0.0212 | Recall: 0.1061\n",
            "K= 20 | Precision: 0.0166 | Recall: 0.1654\n",
            "\n",
            "Epoch 25\n"
          ]
        },
        {
          "name": "stderr",
          "output_type": "stream",
          "text": [
            "100%|██████████| 100/100 [02:28<00:00,  1.49s/it]\n"
          ]
        },
        {
          "name": "stdout",
          "output_type": "stream",
          "text": [
            "Train Loss - f: 1.9017, g: 1.8989\n",
            "Evaluating model_f:\n"
          ]
        },
        {
          "name": "stderr",
          "output_type": "stream",
          "text": [
            "Evaluating: 100%|██████████| 1000/1000 [01:05<00:00, 15.23it/s]\n"
          ]
        },
        {
          "name": "stdout",
          "output_type": "stream",
          "text": [
            "\n",
            "Top-K Evaluation Results\n",
            "K=  1 | Precision: 0.0210 | Recall: 0.0101\n",
            "K=  2 | Precision: 0.0225 | Recall: 0.0242\n",
            "K=  5 | Precision: 0.0214 | Recall: 0.0523\n",
            "K= 10 | Precision: 0.0193 | Recall: 0.0995\n",
            "K= 20 | Precision: 0.0161 | Recall: 0.1626\n",
            "\n",
            "Epoch 26\n"
          ]
        },
        {
          "name": "stderr",
          "output_type": "stream",
          "text": [
            "100%|██████████| 100/100 [02:28<00:00,  1.48s/it]\n"
          ]
        },
        {
          "name": "stdout",
          "output_type": "stream",
          "text": [
            "Train Loss - f: 1.8843, g: 1.8898\n",
            "Evaluating model_f:\n"
          ]
        },
        {
          "name": "stderr",
          "output_type": "stream",
          "text": [
            "Evaluating: 100%|██████████| 1000/1000 [01:03<00:00, 15.68it/s]\n"
          ]
        },
        {
          "name": "stdout",
          "output_type": "stream",
          "text": [
            "\n",
            "Top-K Evaluation Results\n",
            "K=  1 | Precision: 0.0230 | Recall: 0.0131\n",
            "K=  2 | Precision: 0.0255 | Recall: 0.0288\n",
            "K=  5 | Precision: 0.0254 | Recall: 0.0691\n",
            "K= 10 | Precision: 0.0205 | Recall: 0.1047\n",
            "K= 20 | Precision: 0.0161 | Recall: 0.1609\n",
            "\n",
            "Epoch 27\n"
          ]
        },
        {
          "name": "stderr",
          "output_type": "stream",
          "text": [
            "100%|██████████| 100/100 [02:27<00:00,  1.47s/it]\n"
          ]
        },
        {
          "name": "stdout",
          "output_type": "stream",
          "text": [
            "Train Loss - f: 1.8810, g: 1.8801\n",
            "Evaluating model_f:\n"
          ]
        },
        {
          "name": "stderr",
          "output_type": "stream",
          "text": [
            "Evaluating: 100%|██████████| 1000/1000 [01:48<00:00,  9.21it/s]\n"
          ]
        },
        {
          "name": "stdout",
          "output_type": "stream",
          "text": [
            "\n",
            "Top-K Evaluation Results\n",
            "K=  1 | Precision: 0.0230 | Recall: 0.0126\n",
            "K=  2 | Precision: 0.0270 | Recall: 0.0276\n",
            "K=  5 | Precision: 0.0248 | Recall: 0.0611\n",
            "K= 10 | Precision: 0.0215 | Recall: 0.1072\n",
            "K= 20 | Precision: 0.0166 | Recall: 0.1619\n",
            "\n",
            "Epoch 28\n"
          ]
        },
        {
          "name": "stderr",
          "output_type": "stream",
          "text": [
            "100%|██████████| 100/100 [02:30<00:00,  1.50s/it]\n"
          ]
        },
        {
          "name": "stdout",
          "output_type": "stream",
          "text": [
            "Train Loss - f: 1.8705, g: 1.8713\n",
            "Evaluating model_f:\n"
          ]
        },
        {
          "name": "stderr",
          "output_type": "stream",
          "text": [
            "Evaluating: 100%|██████████| 1000/1000 [01:30<00:00, 11.10it/s]\n"
          ]
        },
        {
          "name": "stdout",
          "output_type": "stream",
          "text": [
            "\n",
            "Top-K Evaluation Results\n",
            "K=  1 | Precision: 0.0360 | Recall: 0.0168\n",
            "K=  2 | Precision: 0.0260 | Recall: 0.0266\n",
            "K=  5 | Precision: 0.0232 | Recall: 0.0601\n",
            "K= 10 | Precision: 0.0200 | Recall: 0.0988\n",
            "K= 20 | Precision: 0.0166 | Recall: 0.1608\n",
            "\n",
            "Epoch 29\n"
          ]
        },
        {
          "name": "stderr",
          "output_type": "stream",
          "text": [
            "100%|██████████| 100/100 [02:27<00:00,  1.48s/it]\n"
          ]
        },
        {
          "name": "stdout",
          "output_type": "stream",
          "text": [
            "Train Loss - f: 1.8669, g: 1.8621\n",
            "Evaluating model_f:\n"
          ]
        },
        {
          "name": "stderr",
          "output_type": "stream",
          "text": [
            "Evaluating: 100%|██████████| 1000/1000 [01:05<00:00, 15.18it/s]\n"
          ]
        },
        {
          "name": "stdout",
          "output_type": "stream",
          "text": [
            "\n",
            "Top-K Evaluation Results\n",
            "K=  1 | Precision: 0.0370 | Recall: 0.0193\n",
            "K=  2 | Precision: 0.0295 | Recall: 0.0302\n",
            "K=  5 | Precision: 0.0264 | Recall: 0.0678\n",
            "K= 10 | Precision: 0.0209 | Recall: 0.1039\n",
            "K= 20 | Precision: 0.0174 | Recall: 0.1712\n",
            "\n",
            "Epoch 30\n"
          ]
        },
        {
          "name": "stderr",
          "output_type": "stream",
          "text": [
            "100%|██████████| 100/100 [02:28<00:00,  1.48s/it]\n"
          ]
        },
        {
          "name": "stdout",
          "output_type": "stream",
          "text": [
            "Train Loss - f: 1.8581, g: 1.8615\n",
            "Evaluating model_f:\n"
          ]
        },
        {
          "name": "stderr",
          "output_type": "stream",
          "text": [
            "Evaluating: 100%|██████████| 1000/1000 [01:20<00:00, 12.48it/s]\n"
          ]
        },
        {
          "name": "stdout",
          "output_type": "stream",
          "text": [
            "\n",
            "Top-K Evaluation Results\n",
            "K=  1 | Precision: 0.0210 | Recall: 0.0096\n",
            "K=  2 | Precision: 0.0220 | Recall: 0.0215\n",
            "K=  5 | Precision: 0.0218 | Recall: 0.0551\n",
            "K= 10 | Precision: 0.0211 | Recall: 0.1137\n",
            "K= 20 | Precision: 0.0172 | Recall: 0.1742\n",
            "\n",
            "Epoch 31\n"
          ]
        },
        {
          "name": "stderr",
          "output_type": "stream",
          "text": [
            "100%|██████████| 100/100 [02:27<00:00,  1.48s/it]\n"
          ]
        },
        {
          "name": "stdout",
          "output_type": "stream",
          "text": [
            "Train Loss - f: 1.8548, g: 1.8553\n",
            "Evaluating model_f:\n"
          ]
        },
        {
          "name": "stderr",
          "output_type": "stream",
          "text": [
            "Evaluating: 100%|██████████| 1000/1000 [01:01<00:00, 16.31it/s]\n"
          ]
        },
        {
          "name": "stdout",
          "output_type": "stream",
          "text": [
            "\n",
            "Top-K Evaluation Results\n",
            "K=  1 | Precision: 0.0280 | Recall: 0.0136\n",
            "K=  2 | Precision: 0.0305 | Recall: 0.0314\n",
            "K=  5 | Precision: 0.0258 | Recall: 0.0669\n",
            "K= 10 | Precision: 0.0224 | Recall: 0.1137\n",
            "K= 20 | Precision: 0.0174 | Recall: 0.1703\n",
            "\n",
            "Epoch 32\n"
          ]
        },
        {
          "name": "stderr",
          "output_type": "stream",
          "text": [
            "100%|██████████| 100/100 [02:28<00:00,  1.49s/it]\n"
          ]
        },
        {
          "name": "stdout",
          "output_type": "stream",
          "text": [
            "Train Loss - f: 1.8463, g: 1.8437\n",
            "Evaluating model_f:\n"
          ]
        },
        {
          "name": "stderr",
          "output_type": "stream",
          "text": [
            "Evaluating: 100%|██████████| 1000/1000 [00:53<00:00, 18.54it/s]\n"
          ]
        },
        {
          "name": "stdout",
          "output_type": "stream",
          "text": [
            "\n",
            "Top-K Evaluation Results\n",
            "K=  1 | Precision: 0.0230 | Recall: 0.0116\n",
            "K=  2 | Precision: 0.0225 | Recall: 0.0228\n",
            "K=  5 | Precision: 0.0256 | Recall: 0.0665\n",
            "K= 10 | Precision: 0.0227 | Recall: 0.1159\n",
            "K= 20 | Precision: 0.0181 | Recall: 0.1800\n",
            "\n",
            "Epoch 33\n"
          ]
        },
        {
          "name": "stderr",
          "output_type": "stream",
          "text": [
            "100%|██████████| 100/100 [02:28<00:00,  1.48s/it]\n"
          ]
        },
        {
          "name": "stdout",
          "output_type": "stream",
          "text": [
            "Train Loss - f: 1.8382, g: 1.8387\n",
            "Evaluating model_f:\n"
          ]
        },
        {
          "name": "stderr",
          "output_type": "stream",
          "text": [
            "Evaluating: 100%|██████████| 1000/1000 [01:39<00:00, 10.05it/s]\n"
          ]
        },
        {
          "name": "stdout",
          "output_type": "stream",
          "text": [
            "\n",
            "Top-K Evaluation Results\n",
            "K=  1 | Precision: 0.0220 | Recall: 0.0110\n",
            "K=  2 | Precision: 0.0210 | Recall: 0.0215\n",
            "K=  5 | Precision: 0.0228 | Recall: 0.0621\n",
            "K= 10 | Precision: 0.0215 | Recall: 0.1144\n",
            "K= 20 | Precision: 0.0169 | Recall: 0.1732\n",
            "\n",
            "Epoch 34\n"
          ]
        },
        {
          "name": "stderr",
          "output_type": "stream",
          "text": [
            "100%|██████████| 100/100 [02:28<00:00,  1.49s/it]\n"
          ]
        },
        {
          "name": "stdout",
          "output_type": "stream",
          "text": [
            "Train Loss - f: 1.8311, g: 1.8338\n",
            "Evaluating model_f:\n"
          ]
        },
        {
          "name": "stderr",
          "output_type": "stream",
          "text": [
            "Evaluating: 100%|██████████| 1000/1000 [01:09<00:00, 14.33it/s]\n"
          ]
        },
        {
          "name": "stdout",
          "output_type": "stream",
          "text": [
            "\n",
            "Top-K Evaluation Results\n",
            "K=  1 | Precision: 0.0270 | Recall: 0.0129\n",
            "K=  2 | Precision: 0.0275 | Recall: 0.0308\n",
            "K=  5 | Precision: 0.0242 | Recall: 0.0662\n",
            "K= 10 | Precision: 0.0205 | Recall: 0.1069\n",
            "K= 20 | Precision: 0.0167 | Recall: 0.1711\n",
            "\n",
            "Epoch 35\n"
          ]
        },
        {
          "name": "stderr",
          "output_type": "stream",
          "text": [
            "100%|██████████| 100/100 [02:31<00:00,  1.52s/it]\n"
          ]
        },
        {
          "name": "stdout",
          "output_type": "stream",
          "text": [
            "Train Loss - f: 1.8244, g: 1.8298\n",
            "Evaluating model_f:\n"
          ]
        },
        {
          "name": "stderr",
          "output_type": "stream",
          "text": [
            "Evaluating: 100%|██████████| 1000/1000 [01:23<00:00, 11.97it/s]\n"
          ]
        },
        {
          "name": "stdout",
          "output_type": "stream",
          "text": [
            "\n",
            "Top-K Evaluation Results\n",
            "K=  1 | Precision: 0.0280 | Recall: 0.0143\n",
            "K=  2 | Precision: 0.0300 | Recall: 0.0308\n",
            "K=  5 | Precision: 0.0246 | Recall: 0.0639\n",
            "K= 10 | Precision: 0.0225 | Recall: 0.1139\n",
            "K= 20 | Precision: 0.0180 | Recall: 0.1820\n",
            "\n",
            "Epoch 36\n"
          ]
        },
        {
          "name": "stderr",
          "output_type": "stream",
          "text": [
            "100%|██████████| 100/100 [02:30<00:00,  1.50s/it]\n"
          ]
        },
        {
          "name": "stdout",
          "output_type": "stream",
          "text": [
            "Train Loss - f: 1.8200, g: 1.8235\n",
            "Evaluating model_f:\n"
          ]
        },
        {
          "name": "stderr",
          "output_type": "stream",
          "text": [
            "Evaluating: 100%|██████████| 1000/1000 [01:13<00:00, 13.67it/s]\n"
          ]
        },
        {
          "name": "stdout",
          "output_type": "stream",
          "text": [
            "\n",
            "Top-K Evaluation Results\n",
            "K=  1 | Precision: 0.0260 | Recall: 0.0124\n",
            "K=  2 | Precision: 0.0220 | Recall: 0.0223\n",
            "K=  5 | Precision: 0.0248 | Recall: 0.0627\n",
            "K= 10 | Precision: 0.0205 | Recall: 0.1028\n",
            "K= 20 | Precision: 0.0173 | Recall: 0.1709\n",
            "\n",
            "Epoch 37\n"
          ]
        },
        {
          "name": "stderr",
          "output_type": "stream",
          "text": [
            "100%|██████████| 100/100 [02:30<00:00,  1.51s/it]\n"
          ]
        },
        {
          "name": "stdout",
          "output_type": "stream",
          "text": [
            "Train Loss - f: 1.8187, g: 1.8160\n",
            "Evaluating model_f:\n"
          ]
        },
        {
          "name": "stderr",
          "output_type": "stream",
          "text": [
            "Evaluating: 100%|██████████| 1000/1000 [00:54<00:00, 18.35it/s]\n"
          ]
        },
        {
          "name": "stdout",
          "output_type": "stream",
          "text": [
            "\n",
            "Top-K Evaluation Results\n",
            "K=  1 | Precision: 0.0240 | Recall: 0.0119\n",
            "K=  2 | Precision: 0.0245 | Recall: 0.0249\n",
            "K=  5 | Precision: 0.0248 | Recall: 0.0621\n",
            "K= 10 | Precision: 0.0201 | Recall: 0.1012\n",
            "K= 20 | Precision: 0.0168 | Recall: 0.1648\n",
            "\n",
            "Epoch 38\n"
          ]
        },
        {
          "name": "stderr",
          "output_type": "stream",
          "text": [
            "100%|██████████| 100/100 [02:31<00:00,  1.52s/it]\n"
          ]
        },
        {
          "name": "stdout",
          "output_type": "stream",
          "text": [
            "Train Loss - f: 1.8142, g: 1.8135\n",
            "Evaluating model_f:\n"
          ]
        },
        {
          "name": "stderr",
          "output_type": "stream",
          "text": [
            "Evaluating: 100%|██████████| 1000/1000 [01:37<00:00, 10.21it/s]\n"
          ]
        },
        {
          "name": "stdout",
          "output_type": "stream",
          "text": [
            "\n",
            "Top-K Evaluation Results\n",
            "K=  1 | Precision: 0.0190 | Recall: 0.0071\n",
            "K=  2 | Precision: 0.0270 | Recall: 0.0243\n",
            "K=  5 | Precision: 0.0244 | Recall: 0.0628\n",
            "K= 10 | Precision: 0.0219 | Recall: 0.1101\n",
            "K= 20 | Precision: 0.0165 | Recall: 0.1649\n",
            "\n",
            "Epoch 39\n"
          ]
        },
        {
          "name": "stderr",
          "output_type": "stream",
          "text": [
            "100%|██████████| 100/100 [02:31<00:00,  1.52s/it]\n"
          ]
        },
        {
          "name": "stdout",
          "output_type": "stream",
          "text": [
            "Train Loss - f: 1.8039, g: 1.8068\n",
            "Evaluating model_f:\n"
          ]
        },
        {
          "name": "stderr",
          "output_type": "stream",
          "text": [
            "Evaluating: 100%|██████████| 1000/1000 [01:29<00:00, 11.11it/s]\n"
          ]
        },
        {
          "name": "stdout",
          "output_type": "stream",
          "text": [
            "\n",
            "Top-K Evaluation Results\n",
            "K=  1 | Precision: 0.0350 | Recall: 0.0185\n",
            "K=  2 | Precision: 0.0305 | Recall: 0.0302\n",
            "K=  5 | Precision: 0.0258 | Recall: 0.0697\n",
            "K= 10 | Precision: 0.0220 | Recall: 0.1089\n",
            "K= 20 | Precision: 0.0181 | Recall: 0.1820\n",
            "\n",
            "Epoch 40\n"
          ]
        },
        {
          "name": "stderr",
          "output_type": "stream",
          "text": [
            "100%|██████████| 100/100 [02:31<00:00,  1.51s/it]\n"
          ]
        },
        {
          "name": "stdout",
          "output_type": "stream",
          "text": [
            "Train Loss - f: 1.8002, g: 1.8079\n",
            "Evaluating model_f:\n"
          ]
        },
        {
          "name": "stderr",
          "output_type": "stream",
          "text": [
            "Evaluating: 100%|██████████| 1000/1000 [01:13<00:00, 13.62it/s]"
          ]
        },
        {
          "name": "stdout",
          "output_type": "stream",
          "text": [
            "\n",
            "Top-K Evaluation Results\n",
            "K=  1 | Precision: 0.0280 | Recall: 0.0163\n",
            "K=  2 | Precision: 0.0225 | Recall: 0.0226\n",
            "K=  5 | Precision: 0.0258 | Recall: 0.0645\n",
            "K= 10 | Precision: 0.0218 | Recall: 0.1105\n",
            "K= 20 | Precision: 0.0181 | Recall: 0.1812\n"
          ]
        },
        {
          "name": "stderr",
          "output_type": "stream",
          "text": [
            "\n"
          ]
        }
      ],
      "source": [
        "run_cotrain(\n",
        "    model,\n",
        "    music.train_loader,\n",
        "    music.val_loader,\n",
        "    music.test_loader,\n",
        "    music.cfg,\n",
        "    'cpu'\n",
        ")"
      ]
    }
  ],
  "metadata": {
    "colab": {
      "machine_shape": "hm",
      "provenance": []
    },
    "kernelspec": {
      "display_name": "kgpl",
      "language": "python",
      "name": "python3"
    },
    "language_info": {
      "codemirror_mode": {
        "name": "ipython",
        "version": 3
      },
      "file_extension": ".py",
      "mimetype": "text/x-python",
      "name": "python",
      "nbconvert_exporter": "python",
      "pygments_lexer": "ipython3",
      "version": "3.10.16"
    }
  },
  "nbformat": 4,
  "nbformat_minor": 0
}
