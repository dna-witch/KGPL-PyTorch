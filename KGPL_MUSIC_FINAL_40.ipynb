{
  "cells": [
    {
      "cell_type": "code",
      "execution_count": 1,
      "metadata": {
        "colab": {
          "base_uri": "https://localhost:8080/"
        },
        "id": "cIUwT-4Ottho",
        "outputId": "81515932-f4b3-435c-cef5-109ac9a243c8"
      },
      "outputs": [
        {
          "output_type": "stream",
          "name": "stdout",
          "text": [
            "Cloning into 'KGPL-PyTorch'...\n",
            "remote: Enumerating objects: 459, done.\u001b[K\n",
            "remote: Counting objects: 100% (59/59), done.\u001b[K\n",
            "remote: Compressing objects: 100% (42/42), done.\u001b[K\n",
            "remote: Total 459 (delta 35), reused 17 (delta 17), pack-reused 400 (from 1)\u001b[K\n",
            "Receiving objects: 100% (459/459), 15.46 MiB | 19.21 MiB/s, done.\n",
            "Resolving deltas: 100% (195/195), done.\n"
          ]
        }
      ],
      "source": [
        "!git clone https://github.com/dna-witch/KGPL-PyTorch/ -b th-dev"
      ]
    },
    {
      "cell_type": "code",
      "execution_count": 2,
      "metadata": {
        "id": "oZDbEMFNuAt7",
        "colab": {
          "base_uri": "https://localhost:8080/"
        },
        "outputId": "c3a2fbbc-7c82-47d4-aeb6-d1480d5108d8"
      },
      "outputs": [
        {
          "output_type": "stream",
          "name": "stdout",
          "text": [
            "Collecting hydra-core==0.11.3 (from -r KGPL-PyTorch/requirements.txt (line 1))\n",
            "  Downloading hydra_core-0.11.3-py3-none-any.whl.metadata (2.2 kB)\n",
            "Collecting omegaconf==1.4.1 (from -r KGPL-PyTorch/requirements.txt (line 2))\n",
            "  Downloading omegaconf-1.4.1-py3-none-any.whl.metadata (2.9 kB)\n",
            "Collecting loguru==0.5.0 (from -r KGPL-PyTorch/requirements.txt (line 3))\n",
            "  Downloading loguru-0.5.0-py3-none-any.whl.metadata (20 kB)\n",
            "Requirement already satisfied: matplotlib==3.10.0 in /usr/local/lib/python3.11/dist-packages (from -r KGPL-PyTorch/requirements.txt (line 4)) (3.10.0)\n",
            "Requirement already satisfied: seaborn==0.13.2 in /usr/local/lib/python3.11/dist-packages (from -r KGPL-PyTorch/requirements.txt (line 5)) (0.13.2)\n",
            "Requirement already satisfied: torch==2.6.0 in /usr/local/lib/python3.11/dist-packages (from -r KGPL-PyTorch/requirements.txt (line 6)) (2.6.0+cu124)\n",
            "Requirement already satisfied: numpy==2.0.2 in /usr/local/lib/python3.11/dist-packages (from -r KGPL-PyTorch/requirements.txt (line 7)) (2.0.2)\n",
            "Requirement already satisfied: pandas==2.2.2 in /usr/local/lib/python3.11/dist-packages (from -r KGPL-PyTorch/requirements.txt (line 8)) (2.2.2)\n",
            "Requirement already satisfied: six in /usr/local/lib/python3.11/dist-packages (from omegaconf==1.4.1->-r KGPL-PyTorch/requirements.txt (line 2)) (1.17.0)\n",
            "Requirement already satisfied: PyYAML in /usr/local/lib/python3.11/dist-packages (from omegaconf==1.4.1->-r KGPL-PyTorch/requirements.txt (line 2)) (6.0.2)\n",
            "Requirement already satisfied: contourpy>=1.0.1 in /usr/local/lib/python3.11/dist-packages (from matplotlib==3.10.0->-r KGPL-PyTorch/requirements.txt (line 4)) (1.3.2)\n",
            "Requirement already satisfied: cycler>=0.10 in /usr/local/lib/python3.11/dist-packages (from matplotlib==3.10.0->-r KGPL-PyTorch/requirements.txt (line 4)) (0.12.1)\n",
            "Requirement already satisfied: fonttools>=4.22.0 in /usr/local/lib/python3.11/dist-packages (from matplotlib==3.10.0->-r KGPL-PyTorch/requirements.txt (line 4)) (4.57.0)\n",
            "Requirement already satisfied: kiwisolver>=1.3.1 in /usr/local/lib/python3.11/dist-packages (from matplotlib==3.10.0->-r KGPL-PyTorch/requirements.txt (line 4)) (1.4.8)\n",
            "Requirement already satisfied: packaging>=20.0 in /usr/local/lib/python3.11/dist-packages (from matplotlib==3.10.0->-r KGPL-PyTorch/requirements.txt (line 4)) (24.2)\n",
            "Requirement already satisfied: pillow>=8 in /usr/local/lib/python3.11/dist-packages (from matplotlib==3.10.0->-r KGPL-PyTorch/requirements.txt (line 4)) (11.2.1)\n",
            "Requirement already satisfied: pyparsing>=2.3.1 in /usr/local/lib/python3.11/dist-packages (from matplotlib==3.10.0->-r KGPL-PyTorch/requirements.txt (line 4)) (3.2.3)\n",
            "Requirement already satisfied: python-dateutil>=2.7 in /usr/local/lib/python3.11/dist-packages (from matplotlib==3.10.0->-r KGPL-PyTorch/requirements.txt (line 4)) (2.9.0.post0)\n",
            "Requirement already satisfied: filelock in /usr/local/lib/python3.11/dist-packages (from torch==2.6.0->-r KGPL-PyTorch/requirements.txt (line 6)) (3.18.0)\n",
            "Requirement already satisfied: typing-extensions>=4.10.0 in /usr/local/lib/python3.11/dist-packages (from torch==2.6.0->-r KGPL-PyTorch/requirements.txt (line 6)) (4.13.2)\n",
            "Requirement already satisfied: networkx in /usr/local/lib/python3.11/dist-packages (from torch==2.6.0->-r KGPL-PyTorch/requirements.txt (line 6)) (3.4.2)\n",
            "Requirement already satisfied: jinja2 in /usr/local/lib/python3.11/dist-packages (from torch==2.6.0->-r KGPL-PyTorch/requirements.txt (line 6)) (3.1.6)\n",
            "Requirement already satisfied: fsspec in /usr/local/lib/python3.11/dist-packages (from torch==2.6.0->-r KGPL-PyTorch/requirements.txt (line 6)) (2025.3.2)\n",
            "Collecting nvidia-cuda-nvrtc-cu12==12.4.127 (from torch==2.6.0->-r KGPL-PyTorch/requirements.txt (line 6))\n",
            "  Downloading nvidia_cuda_nvrtc_cu12-12.4.127-py3-none-manylinux2014_x86_64.whl.metadata (1.5 kB)\n",
            "Collecting nvidia-cuda-runtime-cu12==12.4.127 (from torch==2.6.0->-r KGPL-PyTorch/requirements.txt (line 6))\n",
            "  Downloading nvidia_cuda_runtime_cu12-12.4.127-py3-none-manylinux2014_x86_64.whl.metadata (1.5 kB)\n",
            "Collecting nvidia-cuda-cupti-cu12==12.4.127 (from torch==2.6.0->-r KGPL-PyTorch/requirements.txt (line 6))\n",
            "  Downloading nvidia_cuda_cupti_cu12-12.4.127-py3-none-manylinux2014_x86_64.whl.metadata (1.6 kB)\n",
            "Collecting nvidia-cudnn-cu12==9.1.0.70 (from torch==2.6.0->-r KGPL-PyTorch/requirements.txt (line 6))\n",
            "  Downloading nvidia_cudnn_cu12-9.1.0.70-py3-none-manylinux2014_x86_64.whl.metadata (1.6 kB)\n",
            "Collecting nvidia-cublas-cu12==12.4.5.8 (from torch==2.6.0->-r KGPL-PyTorch/requirements.txt (line 6))\n",
            "  Downloading nvidia_cublas_cu12-12.4.5.8-py3-none-manylinux2014_x86_64.whl.metadata (1.5 kB)\n",
            "Collecting nvidia-cufft-cu12==11.2.1.3 (from torch==2.6.0->-r KGPL-PyTorch/requirements.txt (line 6))\n",
            "  Downloading nvidia_cufft_cu12-11.2.1.3-py3-none-manylinux2014_x86_64.whl.metadata (1.5 kB)\n",
            "Collecting nvidia-curand-cu12==10.3.5.147 (from torch==2.6.0->-r KGPL-PyTorch/requirements.txt (line 6))\n",
            "  Downloading nvidia_curand_cu12-10.3.5.147-py3-none-manylinux2014_x86_64.whl.metadata (1.5 kB)\n",
            "Collecting nvidia-cusolver-cu12==11.6.1.9 (from torch==2.6.0->-r KGPL-PyTorch/requirements.txt (line 6))\n",
            "  Downloading nvidia_cusolver_cu12-11.6.1.9-py3-none-manylinux2014_x86_64.whl.metadata (1.6 kB)\n",
            "Collecting nvidia-cusparse-cu12==12.3.1.170 (from torch==2.6.0->-r KGPL-PyTorch/requirements.txt (line 6))\n",
            "  Downloading nvidia_cusparse_cu12-12.3.1.170-py3-none-manylinux2014_x86_64.whl.metadata (1.6 kB)\n",
            "Requirement already satisfied: nvidia-cusparselt-cu12==0.6.2 in /usr/local/lib/python3.11/dist-packages (from torch==2.6.0->-r KGPL-PyTorch/requirements.txt (line 6)) (0.6.2)\n",
            "Requirement already satisfied: nvidia-nccl-cu12==2.21.5 in /usr/local/lib/python3.11/dist-packages (from torch==2.6.0->-r KGPL-PyTorch/requirements.txt (line 6)) (2.21.5)\n",
            "Requirement already satisfied: nvidia-nvtx-cu12==12.4.127 in /usr/local/lib/python3.11/dist-packages (from torch==2.6.0->-r KGPL-PyTorch/requirements.txt (line 6)) (12.4.127)\n",
            "Collecting nvidia-nvjitlink-cu12==12.4.127 (from torch==2.6.0->-r KGPL-PyTorch/requirements.txt (line 6))\n",
            "  Downloading nvidia_nvjitlink_cu12-12.4.127-py3-none-manylinux2014_x86_64.whl.metadata (1.5 kB)\n",
            "Requirement already satisfied: triton==3.2.0 in /usr/local/lib/python3.11/dist-packages (from torch==2.6.0->-r KGPL-PyTorch/requirements.txt (line 6)) (3.2.0)\n",
            "Requirement already satisfied: sympy==1.13.1 in /usr/local/lib/python3.11/dist-packages (from torch==2.6.0->-r KGPL-PyTorch/requirements.txt (line 6)) (1.13.1)\n",
            "Requirement already satisfied: pytz>=2020.1 in /usr/local/lib/python3.11/dist-packages (from pandas==2.2.2->-r KGPL-PyTorch/requirements.txt (line 8)) (2025.2)\n",
            "Requirement already satisfied: tzdata>=2022.7 in /usr/local/lib/python3.11/dist-packages (from pandas==2.2.2->-r KGPL-PyTorch/requirements.txt (line 8)) (2025.2)\n",
            "Requirement already satisfied: mpmath<1.4,>=1.1.0 in /usr/local/lib/python3.11/dist-packages (from sympy==1.13.1->torch==2.6.0->-r KGPL-PyTorch/requirements.txt (line 6)) (1.3.0)\n",
            "Requirement already satisfied: MarkupSafe>=2.0 in /usr/local/lib/python3.11/dist-packages (from jinja2->torch==2.6.0->-r KGPL-PyTorch/requirements.txt (line 6)) (3.0.2)\n",
            "Downloading hydra_core-0.11.3-py3-none-any.whl (72 kB)\n",
            "\u001b[2K   \u001b[90m━━━━━━━━━━━━━━━━━━━━━━━━━━━━━━━━━━━━━━━━\u001b[0m \u001b[32m72.1/72.1 kB\u001b[0m \u001b[31m2.9 MB/s\u001b[0m eta \u001b[36m0:00:00\u001b[0m\n",
            "\u001b[?25hDownloading omegaconf-1.4.1-py3-none-any.whl (14 kB)\n",
            "Downloading loguru-0.5.0-py3-none-any.whl (56 kB)\n",
            "\u001b[2K   \u001b[90m━━━━━━━━━━━━━━━━━━━━━━━━━━━━━━━━━━━━━━━━\u001b[0m \u001b[32m56.4/56.4 kB\u001b[0m \u001b[31m4.7 MB/s\u001b[0m eta \u001b[36m0:00:00\u001b[0m\n",
            "\u001b[?25hDownloading nvidia_cublas_cu12-12.4.5.8-py3-none-manylinux2014_x86_64.whl (363.4 MB)\n",
            "\u001b[2K   \u001b[90m━━━━━━━━━━━━━━━━━━━━━━━━━━━━━━━━━━━━━━━━\u001b[0m \u001b[32m363.4/363.4 MB\u001b[0m \u001b[31m3.0 MB/s\u001b[0m eta \u001b[36m0:00:00\u001b[0m\n",
            "\u001b[?25hDownloading nvidia_cuda_cupti_cu12-12.4.127-py3-none-manylinux2014_x86_64.whl (13.8 MB)\n",
            "\u001b[2K   \u001b[90m━━━━━━━━━━━━━━━━━━━━━━━━━━━━━━━━━━━━━━━━\u001b[0m \u001b[32m13.8/13.8 MB\u001b[0m \u001b[31m102.4 MB/s\u001b[0m eta \u001b[36m0:00:00\u001b[0m\n",
            "\u001b[?25hDownloading nvidia_cuda_nvrtc_cu12-12.4.127-py3-none-manylinux2014_x86_64.whl (24.6 MB)\n",
            "\u001b[2K   \u001b[90m━━━━━━━━━━━━━━━━━━━━━━━━━━━━━━━━━━━━━━━━\u001b[0m \u001b[32m24.6/24.6 MB\u001b[0m \u001b[31m87.8 MB/s\u001b[0m eta \u001b[36m0:00:00\u001b[0m\n",
            "\u001b[?25hDownloading nvidia_cuda_runtime_cu12-12.4.127-py3-none-manylinux2014_x86_64.whl (883 kB)\n",
            "\u001b[2K   \u001b[90m━━━━━━━━━━━━━━━━━━━━━━━━━━━━━━━━━━━━━━━━\u001b[0m \u001b[32m883.7/883.7 kB\u001b[0m \u001b[31m51.4 MB/s\u001b[0m eta \u001b[36m0:00:00\u001b[0m\n",
            "\u001b[?25hDownloading nvidia_cudnn_cu12-9.1.0.70-py3-none-manylinux2014_x86_64.whl (664.8 MB)\n",
            "\u001b[2K   \u001b[90m━━━━━━━━━━━━━━━━━━━━━━━━━━━━━━━━━━━━━━━━\u001b[0m \u001b[32m664.8/664.8 MB\u001b[0m \u001b[31m2.1 MB/s\u001b[0m eta \u001b[36m0:00:00\u001b[0m\n",
            "\u001b[?25hDownloading nvidia_cufft_cu12-11.2.1.3-py3-none-manylinux2014_x86_64.whl (211.5 MB)\n",
            "\u001b[2K   \u001b[90m━━━━━━━━━━━━━━━━━━━━━━━━━━━━━━━━━━━━━━━━\u001b[0m \u001b[32m211.5/211.5 MB\u001b[0m \u001b[31m4.9 MB/s\u001b[0m eta \u001b[36m0:00:00\u001b[0m\n",
            "\u001b[?25hDownloading nvidia_curand_cu12-10.3.5.147-py3-none-manylinux2014_x86_64.whl (56.3 MB)\n",
            "\u001b[2K   \u001b[90m━━━━━━━━━━━━━━━━━━━━━━━━━━━━━━━━━━━━━━━━\u001b[0m \u001b[32m56.3/56.3 MB\u001b[0m \u001b[31m42.3 MB/s\u001b[0m eta \u001b[36m0:00:00\u001b[0m\n",
            "\u001b[?25hDownloading nvidia_cusolver_cu12-11.6.1.9-py3-none-manylinux2014_x86_64.whl (127.9 MB)\n",
            "\u001b[2K   \u001b[90m━━━━━━━━━━━━━━━━━━━━━━━━━━━━━━━━━━━━━━━━\u001b[0m \u001b[32m127.9/127.9 MB\u001b[0m \u001b[31m19.6 MB/s\u001b[0m eta \u001b[36m0:00:00\u001b[0m\n",
            "\u001b[?25hDownloading nvidia_cusparse_cu12-12.3.1.170-py3-none-manylinux2014_x86_64.whl (207.5 MB)\n",
            "\u001b[2K   \u001b[90m━━━━━━━━━━━━━━━━━━━━━━━━━━━━━━━━━━━━━━━━\u001b[0m \u001b[32m207.5/207.5 MB\u001b[0m \u001b[31m4.3 MB/s\u001b[0m eta \u001b[36m0:00:00\u001b[0m\n",
            "\u001b[?25hDownloading nvidia_nvjitlink_cu12-12.4.127-py3-none-manylinux2014_x86_64.whl (21.1 MB)\n",
            "\u001b[2K   \u001b[90m━━━━━━━━━━━━━━━━━━━━━━━━━━━━━━━━━━━━━━━━\u001b[0m \u001b[32m21.1/21.1 MB\u001b[0m \u001b[31m106.0 MB/s\u001b[0m eta \u001b[36m0:00:00\u001b[0m\n",
            "\u001b[?25hInstalling collected packages: omegaconf, nvidia-nvjitlink-cu12, nvidia-curand-cu12, nvidia-cufft-cu12, nvidia-cuda-runtime-cu12, nvidia-cuda-nvrtc-cu12, nvidia-cuda-cupti-cu12, nvidia-cublas-cu12, loguru, nvidia-cusparse-cu12, nvidia-cudnn-cu12, hydra-core, nvidia-cusolver-cu12\n",
            "  Attempting uninstall: nvidia-nvjitlink-cu12\n",
            "    Found existing installation: nvidia-nvjitlink-cu12 12.5.82\n",
            "    Uninstalling nvidia-nvjitlink-cu12-12.5.82:\n",
            "      Successfully uninstalled nvidia-nvjitlink-cu12-12.5.82\n",
            "  Attempting uninstall: nvidia-curand-cu12\n",
            "    Found existing installation: nvidia-curand-cu12 10.3.6.82\n",
            "    Uninstalling nvidia-curand-cu12-10.3.6.82:\n",
            "      Successfully uninstalled nvidia-curand-cu12-10.3.6.82\n",
            "  Attempting uninstall: nvidia-cufft-cu12\n",
            "    Found existing installation: nvidia-cufft-cu12 11.2.3.61\n",
            "    Uninstalling nvidia-cufft-cu12-11.2.3.61:\n",
            "      Successfully uninstalled nvidia-cufft-cu12-11.2.3.61\n",
            "  Attempting uninstall: nvidia-cuda-runtime-cu12\n",
            "    Found existing installation: nvidia-cuda-runtime-cu12 12.5.82\n",
            "    Uninstalling nvidia-cuda-runtime-cu12-12.5.82:\n",
            "      Successfully uninstalled nvidia-cuda-runtime-cu12-12.5.82\n",
            "  Attempting uninstall: nvidia-cuda-nvrtc-cu12\n",
            "    Found existing installation: nvidia-cuda-nvrtc-cu12 12.5.82\n",
            "    Uninstalling nvidia-cuda-nvrtc-cu12-12.5.82:\n",
            "      Successfully uninstalled nvidia-cuda-nvrtc-cu12-12.5.82\n",
            "  Attempting uninstall: nvidia-cuda-cupti-cu12\n",
            "    Found existing installation: nvidia-cuda-cupti-cu12 12.5.82\n",
            "    Uninstalling nvidia-cuda-cupti-cu12-12.5.82:\n",
            "      Successfully uninstalled nvidia-cuda-cupti-cu12-12.5.82\n",
            "  Attempting uninstall: nvidia-cublas-cu12\n",
            "    Found existing installation: nvidia-cublas-cu12 12.5.3.2\n",
            "    Uninstalling nvidia-cublas-cu12-12.5.3.2:\n",
            "      Successfully uninstalled nvidia-cublas-cu12-12.5.3.2\n",
            "  Attempting uninstall: nvidia-cusparse-cu12\n",
            "    Found existing installation: nvidia-cusparse-cu12 12.5.1.3\n",
            "    Uninstalling nvidia-cusparse-cu12-12.5.1.3:\n",
            "      Successfully uninstalled nvidia-cusparse-cu12-12.5.1.3\n",
            "  Attempting uninstall: nvidia-cudnn-cu12\n",
            "    Found existing installation: nvidia-cudnn-cu12 9.3.0.75\n",
            "    Uninstalling nvidia-cudnn-cu12-9.3.0.75:\n",
            "      Successfully uninstalled nvidia-cudnn-cu12-9.3.0.75\n",
            "  Attempting uninstall: nvidia-cusolver-cu12\n",
            "    Found existing installation: nvidia-cusolver-cu12 11.6.3.83\n",
            "    Uninstalling nvidia-cusolver-cu12-11.6.3.83:\n",
            "      Successfully uninstalled nvidia-cusolver-cu12-11.6.3.83\n",
            "Successfully installed hydra-core-0.11.3 loguru-0.5.0 nvidia-cublas-cu12-12.4.5.8 nvidia-cuda-cupti-cu12-12.4.127 nvidia-cuda-nvrtc-cu12-12.4.127 nvidia-cuda-runtime-cu12-12.4.127 nvidia-cudnn-cu12-9.1.0.70 nvidia-cufft-cu12-11.2.1.3 nvidia-curand-cu12-10.3.5.147 nvidia-cusolver-cu12-11.6.1.9 nvidia-cusparse-cu12-12.3.1.170 nvidia-nvjitlink-cu12-12.4.127 omegaconf-1.4.1\n"
          ]
        }
      ],
      "source": [
        "!pip install -r KGPL-PyTorch/requirements.txt"
      ]
    },
    {
      "cell_type": "code",
      "execution_count": null,
      "metadata": {
        "id": "FJ4gHfhnzWHU",
        "colab": {
          "base_uri": "https://localhost:8080/"
        },
        "outputId": "270b3ee7-2b29-4c92-cd91-e437d82d1084"
      },
      "outputs": [
        {
          "output_type": "stream",
          "name": "stdout",
          "text": [
            "reading item index to entity id file: data/music/item_index2entity_id.txt ...\n",
            "reading rating file ...\n",
            "converting rating file ...\n",
            "number of users: 1872\n",
            "number of items: 3846\n",
            "converting kg file ...\n",
            "number of entities (containing items): 9366\n",
            "number of relations: 60\n",
            "done\n",
            "adj_entity_path: data/music/adj_entity_6_32.npy\n",
            "adj_relation_path: data/music/adj_relation_6_32.npy\n",
            "data_path: data/music/fold1.pkl\n",
            "dataset: music\n",
            "kg_path: data/music/kg_final.npy\n",
            "lp_depth: 6\n",
            "num_neighbor_samples: 32\n",
            "pathlist_path: data/music/path_list_6_32.pkl\n",
            "rating_path: data/music/ratings_final.npy\n",
            "reachable_items_path: data/music/reachable_items.pkl\n",
            "\n",
            "[Parallel(n_jobs=32)]: Using backend MultiprocessingBackend with 32 concurrent workers.\n",
            "[Parallel(n_jobs=32)]: Batch computation too fast (0.016800403594970703s.) Setting batch_size=2.\n",
            "[Parallel(n_jobs=32)]: Done   8 tasks      | elapsed:    0.2s\n",
            "[Parallel(n_jobs=32)]: Done  21 tasks      | elapsed:    0.5s\n",
            "[Parallel(n_jobs=32)]: Done  34 tasks      | elapsed:    1.0s\n",
            "[Parallel(n_jobs=32)]: Done  51 tasks      | elapsed:    1.8s\n",
            "[Parallel(n_jobs=32)]: Done  70 tasks      | elapsed:    2.8s\n",
            "[Parallel(n_jobs=32)]: Batch computation too slow (2.0648455917968755s.) Setting batch_size=1.\n",
            "[Parallel(n_jobs=32)]: Done 102 tasks      | elapsed:    3.9s\n",
            "[Parallel(n_jobs=32)]: Done 134 tasks      | elapsed:    5.4s\n",
            "[Parallel(n_jobs=32)]: Done 160 tasks      | elapsed:    6.1s\n",
            "[Parallel(n_jobs=32)]: Done 184 tasks      | elapsed:    7.0s\n",
            "[Parallel(n_jobs=32)]: Done 211 tasks      | elapsed:    7.9s\n",
            "[Parallel(n_jobs=32)]: Done 233 tasks      | elapsed:    8.9s\n",
            "[Parallel(n_jobs=32)]: Done 258 tasks      | elapsed:    9.8s\n",
            "[Parallel(n_jobs=32)]: Done 282 tasks      | elapsed:   10.6s\n",
            "[Parallel(n_jobs=32)]: Done 309 tasks      | elapsed:   11.9s\n",
            "[Parallel(n_jobs=32)]: Done 334 tasks      | elapsed:   13.2s\n",
            "[Parallel(n_jobs=32)]: Done 362 tasks      | elapsed:   14.1s\n",
            "[Parallel(n_jobs=32)]: Done 389 tasks      | elapsed:   15.0s\n",
            "[Parallel(n_jobs=32)]: Done 419 tasks      | elapsed:   16.8s\n",
            "[Parallel(n_jobs=32)]: Done 449 tasks      | elapsed:   17.8s\n",
            "[Parallel(n_jobs=32)]: Done 480 tasks      | elapsed:   19.3s\n",
            "[Parallel(n_jobs=32)]: Done 511 tasks      | elapsed:   20.5s\n",
            "[Parallel(n_jobs=32)]: Done 544 tasks      | elapsed:   22.1s\n",
            "[Parallel(n_jobs=32)]: Done 577 tasks      | elapsed:   23.4s\n",
            "[Parallel(n_jobs=32)]: Done 612 tasks      | elapsed:   25.1s\n",
            "[Parallel(n_jobs=32)]: Done 648 tasks      | elapsed:   26.4s\n",
            "[Parallel(n_jobs=32)]: Done 685 tasks      | elapsed:   27.9s\n",
            "[Parallel(n_jobs=32)]: Done 722 tasks      | elapsed:   29.0s\n",
            "[Parallel(n_jobs=32)]: Done 761 tasks      | elapsed:   30.5s\n",
            "[Parallel(n_jobs=32)]: Done 800 tasks      | elapsed:   32.9s\n",
            "[Parallel(n_jobs=32)]: Done 841 tasks      | elapsed:   34.7s\n",
            "[Parallel(n_jobs=32)]: Done 882 tasks      | elapsed:   36.2s\n",
            "[Parallel(n_jobs=32)]: Done 925 tasks      | elapsed:   37.8s\n",
            "[Parallel(n_jobs=32)]: Done 968 tasks      | elapsed:   39.2s\n",
            "[Parallel(n_jobs=32)]: Done 1013 tasks      | elapsed:   40.4s\n",
            "[Parallel(n_jobs=32)]: Done 1058 tasks      | elapsed:   41.8s\n",
            "[Parallel(n_jobs=32)]: Done 1105 tasks      | elapsed:   43.3s\n",
            "[Parallel(n_jobs=32)]: Done 1152 tasks      | elapsed:   45.1s\n",
            "[Parallel(n_jobs=32)]: Done 1201 tasks      | elapsed:   46.9s\n",
            "[Parallel(n_jobs=32)]: Done 1250 tasks      | elapsed:   48.8s\n",
            "[Parallel(n_jobs=32)]: Done 1301 tasks      | elapsed:   50.7s\n",
            "[Parallel(n_jobs=32)]: Done 1352 tasks      | elapsed:   53.4s\n",
            "[Parallel(n_jobs=32)]: Done 1405 tasks      | elapsed:   55.1s\n",
            "[Parallel(n_jobs=32)]: Done 1458 tasks      | elapsed:   57.3s\n",
            "[Parallel(n_jobs=32)]: Done 1513 tasks      | elapsed:   59.5s\n",
            "[Parallel(n_jobs=32)]: Done 1568 tasks      | elapsed:  1.0min\n",
            "[Parallel(n_jobs=32)]: Done 1625 tasks      | elapsed:  1.1min\n",
            "[Parallel(n_jobs=32)]: Done 1682 tasks      | elapsed:  1.1min\n",
            "[Parallel(n_jobs=32)]: Done 1741 tasks      | elapsed:  1.2min\n",
            "[Parallel(n_jobs=32)]: Done 1800 tasks      | elapsed:  1.2min\n",
            "[Parallel(n_jobs=32)]: Done 1861 tasks      | elapsed:  1.2min\n",
            "[Parallel(n_jobs=32)]: Done 1922 tasks      | elapsed:  1.3min\n",
            "[Parallel(n_jobs=32)]: Done 1985 tasks      | elapsed:  1.3min\n",
            "[Parallel(n_jobs=32)]: Done 2048 tasks      | elapsed:  1.3min\n",
            "[Parallel(n_jobs=32)]: Done 2113 tasks      | elapsed:  1.4min\n",
            "[Parallel(n_jobs=32)]: Done 2178 tasks      | elapsed:  1.4min\n",
            "[Parallel(n_jobs=32)]: Done 2245 tasks      | elapsed:  1.5min\n",
            "[Parallel(n_jobs=32)]: Done 2312 tasks      | elapsed:  1.5min\n",
            "[Parallel(n_jobs=32)]: Done 2381 tasks      | elapsed:  1.6min\n",
            "[Parallel(n_jobs=32)]: Done 2450 tasks      | elapsed:  1.6min\n"
          ]
        }
      ],
      "source": [
        "!cd KGPL-PyTorch &&\\\n",
        "python preprocess/preprocess.py -d \"music\" &&\\\n",
        "python preprocess/make_path_list.py lp_depth=6 dataset=music kg_path=data/music/kg_final.npy rating_path=data/music/ratings_final.npy num_neighbor_samples=32"
      ]
    },
    {
      "cell_type": "code",
      "execution_count": null,
      "metadata": {
        "id": "Bbbx3BBqmx7V"
      },
      "outputs": [],
      "source": [
        "import sys\n",
        "sys.path.append('KGPL-PyTorch/')"
      ]
    },
    {
      "cell_type": "code",
      "execution_count": null,
      "metadata": {
        "id": "On-Lgk4FvOOq"
      },
      "outputs": [],
      "source": [
        "# from code\n",
        "from model import *\n",
        "from utils.data_classes import *\n",
        "from utils.functions import *\n",
        "from utils.eval import *\n",
        "\n",
        "# libraries\n",
        "import torch\n",
        "import pandas as pd\n",
        "from tqdm import tqdm\n",
        "import seaborn as sns\n",
        "import matplotlib.pyplot as plt"
      ]
    },
    {
      "cell_type": "code",
      "execution_count": null,
      "metadata": {
        "id": "O-QCcpdcnf8F"
      },
      "outputs": [],
      "source": [
        "music = KGPLExperiment(\n",
        "    'music',\n",
        "    {\n",
        "      'plabel_lp_depth': 6,\n",
        "      'plabel_par': 16,\n",
        "      'plabel_chunk_size': 250,\n",
        "      'plabel_neg_pn': 0.1,\n",
        "      'plabel_pl_pn': 1e-3,\n",
        "      'dropout_rate': 0.5,\n",
        "      'emb_dim': 64,\n",
        "      'n_iter': 1,\n",
        "      'plabel': {},\n",
        "      'optimize': {'iter_per_epoch': 100, 'lr': 3e-3, 'batch_size': 3333},\n",
        "      'log': {'show_loss': True},\n",
        "      'evaluate': {'user_num_topk': 1000},\n",
        "      'model': {\n",
        "          'n_iter': 1,\n",
        "          'neighbor_sample_size': 32,\n",
        "          'num_neighbor_samples': 32,\n",
        "          'dropout_rate': 0.5}\n",
        "    })"
      ]
    },
    {
      "cell_type": "code",
      "execution_count": null,
      "metadata": {
        "id": "87sI4ZnLrFHA"
      },
      "outputs": [],
      "source": [
        "music.train_val_test_split()"
      ]
    },
    {
      "cell_type": "code",
      "execution_count": null,
      "metadata": {
        "id": "ZnB_6SNSrE0T"
      },
      "outputs": [],
      "source": [
        "music.create_dataloaders()"
      ]
    },
    {
      "cell_type": "code",
      "execution_count": null,
      "metadata": {
        "id": "EXq7JoV_7P2-"
      },
      "outputs": [],
      "source": [
        "model = KGPLCOT(\n",
        "        music.cfg,\n",
        "        int(music.ratings[:, 0].max().item()) + 1,\n",
        "        int(music.ratings[:, 1].max().item()) + 1,\n",
        "        music.n_entity,\n",
        "        music.n_relation,\n",
        "        music.adj_entity,\n",
        "        music.adj_relation,\n",
        "        music.path_list_dict,\n",
        "        music.train_loader,\n",
        "        music.val_loader,\n",
        "        'cuda'\n",
        "    )"
      ]
    },
    {
      "cell_type": "code",
      "execution_count": null,
      "metadata": {
        "id": "3MLx9FurzN5l"
      },
      "outputs": [],
      "source": [
        "def run_cotrain(model, train_loader, val_loader, test_loader, cfg, device, num_epochs=100):\n",
        "    '''\n",
        "    Run the CoTrain algorithm with the given model, data loaders, configuration, and device, using the \"music\" experiment.\n",
        "    Optimizers are defined here with epsilon = 1e-7 to match tensorflow default.\n",
        "\n",
        "    Inputs:\n",
        "    - model: The CoTrain model to be trained.\n",
        "    - train_loader: The data loader for the training set.\n",
        "    - val_loader: The data loader for the validation set.\n",
        "    - test_loader: The data loader for the test set.\n",
        "    - cfg: The configuration dictionary.\n",
        "    - device: PyTorch device\n",
        "    - num_epochs: Training epochs\n",
        "\n",
        "    Returns:\n",
        "    - pd.DataFrame: A DataFrame containing the training loss and validation metrics for each epoch.\n",
        "    '''\n",
        "    optimizer_f = torch.optim.Adam(\n",
        "        model.model_f.parameters(),\n",
        "        lr=cfg['optimize']['lr'],\n",
        "        eps=1e-7,\n",
        "      )\n",
        "    optimizer_g = torch.optim.Adam(\n",
        "        model.model_g.parameters(),\n",
        "        lr=cfg['optimize']['lr'],\n",
        "        eps=1e-7,\n",
        "      )\n",
        "    iter_per_epoch = cfg['optimize']['iter_per_epoch']\n",
        "\n",
        "    dataframe_rows = []\n",
        "\n",
        "    for epoch in range(1, num_epochs + 1):\n",
        "        print(f\"\\nEpoch {epoch}\")\n",
        "        model.train()\n",
        "        total_loss_f, total_loss_g = 0.0, 0.0\n",
        "\n",
        "        train_iter = iter(train_loader)  # re-initialize iterator every epoch\n",
        "\n",
        "        for i in tqdm(range(iter_per_epoch)):\n",
        "            try:\n",
        "                batch = next(train_iter)\n",
        "            except StopIteration:\n",
        "                train_iter = iter(train_loader)\n",
        "                batch = next(train_iter)\n",
        "\n",
        "            users, pos, neg, pseudo = [b.to(device) for b in batch]\n",
        "            batch_data = torch.stack([users, pos, neg, pseudo], dim=1)\n",
        "\n",
        "            losses = model.train_step(batch_data, optimizer_f, optimizer_g)\n",
        "            total_loss_f += losses['loss_f']\n",
        "            total_loss_g += losses['loss_g']\n",
        "\n",
        "        avg_loss_f = total_loss_f / iter_per_epoch\n",
        "        avg_loss_g = total_loss_g / iter_per_epoch\n",
        "        print(f\"Train Loss - f: {avg_loss_f:.4f}, g: {avg_loss_g:.4f}\")\n",
        "\n",
        "        print(\"Evaluating model_f:\")\n",
        "\n",
        "        row = pd.DataFrame(\n",
        "            {\"Epoch\": epoch,\n",
        "             \"Train Loss F\": avg_loss_f,\n",
        "             \"Train Loss G\": avg_loss_g\n",
        "             }, index=[0])\n",
        "\n",
        "        model.eval()\n",
        "\n",
        "        print(\"Validation:\")\n",
        "        val_row = run_topk_eval(\n",
        "          model=model,\n",
        "          cfg = cfg,\n",
        "          train_data=music.train_dataset.ratings.numpy(),\n",
        "          eval_data=music.val_dataset.ratings.numpy(),\n",
        "          test_data=music.test_dataset.ratings.numpy(),\n",
        "          n_items=music.n_item,\n",
        "          device=device,\n",
        "          test_mode=False  # or True for test set\n",
        "        ).add_prefix(\"Validation \")\n",
        "\n",
        "        row = row.join(val_row)\n",
        "\n",
        "        dataframe_rows.append(row)\n",
        "    return pd.concat(dataframe_rows, ignore_index=True)"
      ]
    },
    {
      "cell_type": "code",
      "execution_count": null,
      "metadata": {
        "id": "B8bQ8AEly4wv"
      },
      "outputs": [],
      "source": [
        "results = run_cotrain(\n",
        "    model,\n",
        "    music.train_loader,\n",
        "    music.val_loader,\n",
        "    music.test_loader,\n",
        "    music.cfg,\n",
        "    'cuda',\n",
        "    num_epochs=40\n",
        ")"
      ]
    },
    {
      "cell_type": "code",
      "execution_count": null,
      "metadata": {
        "id": "UBl_GhrYuC6_"
      },
      "outputs": [],
      "source": [
        "sns.lineplot(results, x='Epoch', y='Validation Recall@5', label='Recall@5')\n",
        "sns.lineplot(results, x='Epoch', y='Validation Recall@10', label='Recall@10')\n",
        "sns.lineplot(results, x='Epoch', y='Validation Recall@20', label='Recall@20')\n",
        "plt.title('Validation Recall of Model F')"
      ]
    },
    {
      "cell_type": "code",
      "execution_count": null,
      "metadata": {
        "id": "HgkAAop0fB_m"
      },
      "outputs": [],
      "source": [
        "sns.lineplot(results, x='Epoch', y='Train Loss F')\n",
        "plt.title('Train Loss of Model F')"
      ]
    },
    {
      "cell_type": "code",
      "execution_count": null,
      "metadata": {
        "id": "8aJ8qZ8-Nauf"
      },
      "outputs": [],
      "source": [
        "# Get unique values and their counts\n",
        "unique_users, counts = torch.unique(music.train_dataset.ratings[:,0], return_counts=True)"
      ]
    },
    {
      "cell_type": "code",
      "execution_count": null,
      "metadata": {
        "id": "G7w1kmx7G6cq"
      },
      "outputs": [],
      "source": [
        "print('All Users:', len(unique_users), '\\n')\n",
        "\n",
        "cold_starts = pd.Series(range(1,11), name='Cold Start Values')\n",
        "\n",
        "cold_start_rows = []\n",
        "\n",
        "for i in cold_starts:\n",
        "  # Select values with count <= i\n",
        "  cold_start_rows.append(cold_start_eval(model, music, i, 'cuda'))\n",
        "  print('\\n')"
      ]
    },
    {
      "cell_type": "code",
      "execution_count": null,
      "metadata": {
        "id": "lRt46pB-lYvN"
      },
      "outputs": [],
      "source": [
        "# Cold Start Test Set\n",
        "cold_starts.to_frame().join(pd.concat(cold_start_rows, ignore_index=True))"
      ]
    },
    {
      "cell_type": "code",
      "execution_count": null,
      "metadata": {
        "id": "AoWdmBMoGNIG"
      },
      "outputs": [],
      "source": [
        "# Overall Test Set Evaluation\n",
        "run_topk_eval(\n",
        "          model=model,\n",
        "          cfg = music.cfg,\n",
        "          train_data=music.train_dataset.ratings.numpy(),\n",
        "          eval_data=music.val_dataset.ratings.numpy(),\n",
        "          test_data=music.test_dataset.ratings.numpy(),\n",
        "          n_items=music.n_item,\n",
        "          device='cuda',\n",
        "          test_mode=True  # or True for test set\n",
        "        )"
      ]
    }
  ],
  "metadata": {
    "accelerator": "GPU",
    "colab": {
      "gpuType": "T4",
      "machine_shape": "hm",
      "provenance": []
    },
    "kernelspec": {
      "display_name": "Python 3",
      "name": "python3"
    },
    "language_info": {
      "name": "python"
    }
  },
  "nbformat": 4,
  "nbformat_minor": 0
}