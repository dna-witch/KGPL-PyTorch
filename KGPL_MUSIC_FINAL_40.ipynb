{
  "cells": [
    {
      "cell_type": "code",
      "execution_count": null,
      "metadata": {
        "colab": {
          "base_uri": "https://localhost:8080/"
        },
        "id": "cIUwT-4Ottho",
        "outputId": "81515932-f4b3-435c-cef5-109ac9a243c8"
      },
      "outputs": [
        {
          "name": "stdout",
          "output_type": "stream",
          "text": [
            "Cloning into 'KGPL-PyTorch'...\n",
            "remote: Enumerating objects: 459, done.\u001b[K\n",
            "remote: Counting objects: 100% (59/59), done.\u001b[K\n",
            "remote: Compressing objects: 100% (42/42), done.\u001b[K\n",
            "remote: Total 459 (delta 35), reused 17 (delta 17), pack-reused 400 (from 1)\u001b[K\n",
            "Receiving objects: 100% (459/459), 15.46 MiB | 19.21 MiB/s, done.\n",
            "Resolving deltas: 100% (195/195), done.\n"
          ]
        }
      ],
      "source": [
        "!git clone https://github.com/dna-witch/KGPL-PyTorch/ -b th-dev"
      ]
    },
    {
      "cell_type": "code",
      "execution_count": null,
      "metadata": {
        "colab": {
          "background_save": true,
          "base_uri": "https://localhost:8080/"
        },
        "id": "oZDbEMFNuAt7",
        "outputId": "3b9fd0e3-09bb-4458-fe74-64bfbb45c690"
      },
      "outputs": [
        {
          "name": "stdout",
          "output_type": "stream",
          "text": [
            "Collecting hydra-core==0.11.3 (from -r KGPL-PyTorch/requirements.txt (line 1))\n",
            "  Downloading hydra_core-0.11.3-py3-none-any.whl.metadata (2.2 kB)\n",
            "Collecting omegaconf==1.4.1 (from -r KGPL-PyTorch/requirements.txt (line 2))\n",
            "  Downloading omegaconf-1.4.1-py3-none-any.whl.metadata (2.9 kB)\n",
            "Collecting loguru==0.5.0 (from -r KGPL-PyTorch/requirements.txt (line 3))\n",
            "  Downloading loguru-0.5.0-py3-none-any.whl.metadata (20 kB)\n",
            "Requirement already satisfied: matplotlib==3.10.0 in /usr/local/lib/python3.11/dist-packages (from -r KGPL-PyTorch/requirements.txt (line 4)) (3.10.0)\n",
            "Requirement already satisfied: seaborn==0.13.2 in /usr/local/lib/python3.11/dist-packages (from -r KGPL-PyTorch/requirements.txt (line 5)) (0.13.2)\n",
            "Requirement already satisfied: torch==2.6.0 in /usr/local/lib/python3.11/dist-packages (from -r KGPL-PyTorch/requirements.txt (line 6)) (2.6.0+cu124)\n",
            "Requirement already satisfied: numpy==2.0.2 in /usr/local/lib/python3.11/dist-packages (from -r KGPL-PyTorch/requirements.txt (line 7)) (2.0.2)\n",
            "Requirement already satisfied: pandas==2.2.2 in /usr/local/lib/python3.11/dist-packages (from -r KGPL-PyTorch/requirements.txt (line 8)) (2.2.2)\n",
            "Requirement already satisfied: six in /usr/local/lib/python3.11/dist-packages (from omegaconf==1.4.1->-r KGPL-PyTorch/requirements.txt (line 2)) (1.17.0)\n",
            "Requirement already satisfied: PyYAML in /usr/local/lib/python3.11/dist-packages (from omegaconf==1.4.1->-r KGPL-PyTorch/requirements.txt (line 2)) (6.0.2)\n",
            "Requirement already satisfied: contourpy>=1.0.1 in /usr/local/lib/python3.11/dist-packages (from matplotlib==3.10.0->-r KGPL-PyTorch/requirements.txt (line 4)) (1.3.2)\n",
            "Requirement already satisfied: cycler>=0.10 in /usr/local/lib/python3.11/dist-packages (from matplotlib==3.10.0->-r KGPL-PyTorch/requirements.txt (line 4)) (0.12.1)\n",
            "Requirement already satisfied: fonttools>=4.22.0 in /usr/local/lib/python3.11/dist-packages (from matplotlib==3.10.0->-r KGPL-PyTorch/requirements.txt (line 4)) (4.57.0)\n",
            "Requirement already satisfied: kiwisolver>=1.3.1 in /usr/local/lib/python3.11/dist-packages (from matplotlib==3.10.0->-r KGPL-PyTorch/requirements.txt (line 4)) (1.4.8)\n",
            "Requirement already satisfied: packaging>=20.0 in /usr/local/lib/python3.11/dist-packages (from matplotlib==3.10.0->-r KGPL-PyTorch/requirements.txt (line 4)) (24.2)\n",
            "Requirement already satisfied: pillow>=8 in /usr/local/lib/python3.11/dist-packages (from matplotlib==3.10.0->-r KGPL-PyTorch/requirements.txt (line 4)) (11.2.1)\n",
            "Requirement already satisfied: pyparsing>=2.3.1 in /usr/local/lib/python3.11/dist-packages (from matplotlib==3.10.0->-r KGPL-PyTorch/requirements.txt (line 4)) (3.2.3)\n",
            "Requirement already satisfied: python-dateutil>=2.7 in /usr/local/lib/python3.11/dist-packages (from matplotlib==3.10.0->-r KGPL-PyTorch/requirements.txt (line 4)) (2.9.0.post0)\n",
            "Requirement already satisfied: filelock in /usr/local/lib/python3.11/dist-packages (from torch==2.6.0->-r KGPL-PyTorch/requirements.txt (line 6)) (3.18.0)\n",
            "Requirement already satisfied: typing-extensions>=4.10.0 in /usr/local/lib/python3.11/dist-packages (from torch==2.6.0->-r KGPL-PyTorch/requirements.txt (line 6)) (4.13.2)\n",
            "Requirement already satisfied: networkx in /usr/local/lib/python3.11/dist-packages (from torch==2.6.0->-r KGPL-PyTorch/requirements.txt (line 6)) (3.4.2)\n",
            "Requirement already satisfied: jinja2 in /usr/local/lib/python3.11/dist-packages (from torch==2.6.0->-r KGPL-PyTorch/requirements.txt (line 6)) (3.1.6)\n",
            "Requirement already satisfied: fsspec in /usr/local/lib/python3.11/dist-packages (from torch==2.6.0->-r KGPL-PyTorch/requirements.txt (line 6)) (2025.3.2)\n",
            "Collecting nvidia-cuda-nvrtc-cu12==12.4.127 (from torch==2.6.0->-r KGPL-PyTorch/requirements.txt (line 6))\n",
            "  Downloading nvidia_cuda_nvrtc_cu12-12.4.127-py3-none-manylinux2014_x86_64.whl.metadata (1.5 kB)\n",
            "Collecting nvidia-cuda-runtime-cu12==12.4.127 (from torch==2.6.0->-r KGPL-PyTorch/requirements.txt (line 6))\n",
            "  Downloading nvidia_cuda_runtime_cu12-12.4.127-py3-none-manylinux2014_x86_64.whl.metadata (1.5 kB)\n",
            "Collecting nvidia-cuda-cupti-cu12==12.4.127 (from torch==2.6.0->-r KGPL-PyTorch/requirements.txt (line 6))\n",
            "  Downloading nvidia_cuda_cupti_cu12-12.4.127-py3-none-manylinux2014_x86_64.whl.metadata (1.6 kB)\n",
            "Collecting nvidia-cudnn-cu12==9.1.0.70 (from torch==2.6.0->-r KGPL-PyTorch/requirements.txt (line 6))\n",
            "  Downloading nvidia_cudnn_cu12-9.1.0.70-py3-none-manylinux2014_x86_64.whl.metadata (1.6 kB)\n",
            "Collecting nvidia-cublas-cu12==12.4.5.8 (from torch==2.6.0->-r KGPL-PyTorch/requirements.txt (line 6))\n",
            "  Downloading nvidia_cublas_cu12-12.4.5.8-py3-none-manylinux2014_x86_64.whl.metadata (1.5 kB)\n",
            "Collecting nvidia-cufft-cu12==11.2.1.3 (from torch==2.6.0->-r KGPL-PyTorch/requirements.txt (line 6))\n",
            "  Downloading nvidia_cufft_cu12-11.2.1.3-py3-none-manylinux2014_x86_64.whl.metadata (1.5 kB)\n",
            "Collecting nvidia-curand-cu12==10.3.5.147 (from torch==2.6.0->-r KGPL-PyTorch/requirements.txt (line 6))\n",
            "  Downloading nvidia_curand_cu12-10.3.5.147-py3-none-manylinux2014_x86_64.whl.metadata (1.5 kB)\n",
            "Collecting nvidia-cusolver-cu12==11.6.1.9 (from torch==2.6.0->-r KGPL-PyTorch/requirements.txt (line 6))\n",
            "  Downloading nvidia_cusolver_cu12-11.6.1.9-py3-none-manylinux2014_x86_64.whl.metadata (1.6 kB)\n",
            "Collecting nvidia-cusparse-cu12==12.3.1.170 (from torch==2.6.0->-r KGPL-PyTorch/requirements.txt (line 6))\n",
            "  Downloading nvidia_cusparse_cu12-12.3.1.170-py3-none-manylinux2014_x86_64.whl.metadata (1.6 kB)\n",
            "Requirement already satisfied: nvidia-cusparselt-cu12==0.6.2 in /usr/local/lib/python3.11/dist-packages (from torch==2.6.0->-r KGPL-PyTorch/requirements.txt (line 6)) (0.6.2)\n",
            "Requirement already satisfied: nvidia-nccl-cu12==2.21.5 in /usr/local/lib/python3.11/dist-packages (from torch==2.6.0->-r KGPL-PyTorch/requirements.txt (line 6)) (2.21.5)\n",
            "Requirement already satisfied: nvidia-nvtx-cu12==12.4.127 in /usr/local/lib/python3.11/dist-packages (from torch==2.6.0->-r KGPL-PyTorch/requirements.txt (line 6)) (12.4.127)\n",
            "Collecting nvidia-nvjitlink-cu12==12.4.127 (from torch==2.6.0->-r KGPL-PyTorch/requirements.txt (line 6))\n",
            "  Downloading nvidia_nvjitlink_cu12-12.4.127-py3-none-manylinux2014_x86_64.whl.metadata (1.5 kB)\n",
            "Requirement already satisfied: triton==3.2.0 in /usr/local/lib/python3.11/dist-packages (from torch==2.6.0->-r KGPL-PyTorch/requirements.txt (line 6)) (3.2.0)\n",
            "Requirement already satisfied: sympy==1.13.1 in /usr/local/lib/python3.11/dist-packages (from torch==2.6.0->-r KGPL-PyTorch/requirements.txt (line 6)) (1.13.1)\n",
            "Requirement already satisfied: pytz>=2020.1 in /usr/local/lib/python3.11/dist-packages (from pandas==2.2.2->-r KGPL-PyTorch/requirements.txt (line 8)) (2025.2)\n",
            "Requirement already satisfied: tzdata>=2022.7 in /usr/local/lib/python3.11/dist-packages (from pandas==2.2.2->-r KGPL-PyTorch/requirements.txt (line 8)) (2025.2)\n",
            "Requirement already satisfied: mpmath<1.4,>=1.1.0 in /usr/local/lib/python3.11/dist-packages (from sympy==1.13.1->torch==2.6.0->-r KGPL-PyTorch/requirements.txt (line 6)) (1.3.0)\n",
            "Requirement already satisfied: MarkupSafe>=2.0 in /usr/local/lib/python3.11/dist-packages (from jinja2->torch==2.6.0->-r KGPL-PyTorch/requirements.txt (line 6)) (3.0.2)\n",
            "Downloading hydra_core-0.11.3-py3-none-any.whl (72 kB)\n",
            "\u001b[2K   \u001b[90m━━━━━━━━━━━━━━━━━━━━━━━━━━━━━━━━━━━━━━━━\u001b[0m \u001b[32m72.1/72.1 kB\u001b[0m \u001b[31m2.8 MB/s\u001b[0m eta \u001b[36m0:00:00\u001b[0m\n",
            "\u001b[?25hDownloading omegaconf-1.4.1-py3-none-any.whl (14 kB)\n",
            "Downloading loguru-0.5.0-py3-none-any.whl (56 kB)\n",
            "\u001b[2K   \u001b[90m━━━━━━━━━━━━━━━━━━━━━━━━━━━━━━━━━━━━━━━━\u001b[0m \u001b[32m56.4/56.4 kB\u001b[0m \u001b[31m4.4 MB/s\u001b[0m eta \u001b[36m0:00:00\u001b[0m\n",
            "\u001b[?25hDownloading nvidia_cublas_cu12-12.4.5.8-py3-none-manylinux2014_x86_64.whl (363.4 MB)\n",
            "\u001b[2K   \u001b[90m━━━━━━━━━━━━━━━━━━━━━━━━━━━━━━━━━━━━━━━━\u001b[0m \u001b[32m363.4/363.4 MB\u001b[0m \u001b[31m3.2 MB/s\u001b[0m eta \u001b[36m0:00:00\u001b[0m\n",
            "\u001b[?25hDownloading nvidia_cuda_cupti_cu12-12.4.127-py3-none-manylinux2014_x86_64.whl (13.8 MB)\n",
            "\u001b[2K   \u001b[90m━━━━━━━━━━━━━━━━━━━━━━━━━━━━━━━━━━━━━━━━\u001b[0m \u001b[32m13.8/13.8 MB\u001b[0m \u001b[31m105.1 MB/s\u001b[0m eta \u001b[36m0:00:00\u001b[0m\n",
            "\u001b[?25hDownloading nvidia_cuda_nvrtc_cu12-12.4.127-py3-none-manylinux2014_x86_64.whl (24.6 MB)\n",
            "\u001b[2K   \u001b[90m━━━━━━━━━━━━━━━━━━━━━━━━━━━━━━━━━━━━━━━━\u001b[0m \u001b[32m24.6/24.6 MB\u001b[0m \u001b[31m88.3 MB/s\u001b[0m eta \u001b[36m0:00:00\u001b[0m\n",
            "\u001b[?25hDownloading nvidia_cuda_runtime_cu12-12.4.127-py3-none-manylinux2014_x86_64.whl (883 kB)\n",
            "\u001b[2K   \u001b[90m━━━━━━━━━━━━━━━━━━━━━━━━━━━━━━━━━━━━━━━━\u001b[0m \u001b[32m883.7/883.7 kB\u001b[0m \u001b[31m48.8 MB/s\u001b[0m eta \u001b[36m0:00:00\u001b[0m\n",
            "\u001b[?25hDownloading nvidia_cudnn_cu12-9.1.0.70-py3-none-manylinux2014_x86_64.whl (664.8 MB)\n",
            "\u001b[2K   \u001b[90m━━━━━━━━━━━━━━━━━━━━━━━━━━━━━━━━━━━━━━━━\u001b[0m \u001b[32m664.8/664.8 MB\u001b[0m \u001b[31m2.3 MB/s\u001b[0m eta \u001b[36m0:00:00\u001b[0m\n",
            "\u001b[?25hDownloading nvidia_cufft_cu12-11.2.1.3-py3-none-manylinux2014_x86_64.whl (211.5 MB)\n",
            "\u001b[2K   \u001b[90m━━━━━━━━━━━━━━━━━━━━━━━━━━━━━━━━━━━━━━━━\u001b[0m \u001b[32m211.5/211.5 MB\u001b[0m \u001b[31m5.1 MB/s\u001b[0m eta \u001b[36m0:00:00\u001b[0m\n",
            "\u001b[?25hDownloading nvidia_curand_cu12-10.3.5.147-py3-none-manylinux2014_x86_64.whl (56.3 MB)\n",
            "\u001b[2K   \u001b[90m━━━━━━━━━━━━━━━━━━━━━━━━━━━━━━━━━━━━━━━━\u001b[0m \u001b[32m56.3/56.3 MB\u001b[0m \u001b[31m43.5 MB/s\u001b[0m eta \u001b[36m0:00:00\u001b[0m\n",
            "\u001b[?25hDownloading nvidia_cusolver_cu12-11.6.1.9-py3-none-manylinux2014_x86_64.whl (127.9 MB)\n",
            "\u001b[2K   \u001b[90m━━━━━━━━━━━━━━━━━━━━━━━━━━━━━━━━━━━━━━━━\u001b[0m \u001b[32m127.9/127.9 MB\u001b[0m \u001b[31m20.1 MB/s\u001b[0m eta \u001b[36m0:00:00\u001b[0m\n",
            "\u001b[?25hDownloading nvidia_cusparse_cu12-12.3.1.170-py3-none-manylinux2014_x86_64.whl (207.5 MB)\n",
            "\u001b[2K   \u001b[90m━━━━━━━━━━━━━━━━━━━━━━━━━━━━━━━━━━━━━━━━\u001b[0m \u001b[32m207.5/207.5 MB\u001b[0m \u001b[31m5.1 MB/s\u001b[0m eta \u001b[36m0:00:00\u001b[0m\n",
            "\u001b[?25hDownloading nvidia_nvjitlink_cu12-12.4.127-py3-none-manylinux2014_x86_64.whl (21.1 MB)\n",
            "\u001b[2K   \u001b[90m━━━━━━━━━━━━━━━━━━━━━━━━━━━━━━━━━━━━━━━━\u001b[0m \u001b[32m21.1/21.1 MB\u001b[0m \u001b[31m108.9 MB/s\u001b[0m eta \u001b[36m0:00:00\u001b[0m\n",
            "\u001b[?25hInstalling collected packages: omegaconf, nvidia-nvjitlink-cu12, nvidia-curand-cu12, nvidia-cufft-cu12, nvidia-cuda-runtime-cu12, nvidia-cuda-nvrtc-cu12, nvidia-cuda-cupti-cu12, nvidia-cublas-cu12, loguru, nvidia-cusparse-cu12, nvidia-cudnn-cu12, hydra-core, nvidia-cusolver-cu12\n",
            "  Attempting uninstall: nvidia-nvjitlink-cu12\n",
            "    Found existing installation: nvidia-nvjitlink-cu12 12.5.82\n",
            "    Uninstalling nvidia-nvjitlink-cu12-12.5.82:\n",
            "      Successfully uninstalled nvidia-nvjitlink-cu12-12.5.82\n",
            "  Attempting uninstall: nvidia-curand-cu12\n",
            "    Found existing installation: nvidia-curand-cu12 10.3.6.82\n",
            "    Uninstalling nvidia-curand-cu12-10.3.6.82:\n",
            "      Successfully uninstalled nvidia-curand-cu12-10.3.6.82\n",
            "  Attempting uninstall: nvidia-cufft-cu12\n",
            "    Found existing installation: nvidia-cufft-cu12 11.2.3.61\n",
            "    Uninstalling nvidia-cufft-cu12-11.2.3.61:\n",
            "      Successfully uninstalled nvidia-cufft-cu12-11.2.3.61\n",
            "  Attempting uninstall: nvidia-cuda-runtime-cu12\n",
            "    Found existing installation: nvidia-cuda-runtime-cu12 12.5.82\n",
            "    Uninstalling nvidia-cuda-runtime-cu12-12.5.82:\n",
            "      Successfully uninstalled nvidia-cuda-runtime-cu12-12.5.82\n",
            "  Attempting uninstall: nvidia-cuda-nvrtc-cu12\n",
            "    Found existing installation: nvidia-cuda-nvrtc-cu12 12.5.82\n",
            "    Uninstalling nvidia-cuda-nvrtc-cu12-12.5.82:\n",
            "      Successfully uninstalled nvidia-cuda-nvrtc-cu12-12.5.82\n",
            "  Attempting uninstall: nvidia-cuda-cupti-cu12\n",
            "    Found existing installation: nvidia-cuda-cupti-cu12 12.5.82\n",
            "    Uninstalling nvidia-cuda-cupti-cu12-12.5.82:\n",
            "      Successfully uninstalled nvidia-cuda-cupti-cu12-12.5.82\n",
            "  Attempting uninstall: nvidia-cublas-cu12\n",
            "    Found existing installation: nvidia-cublas-cu12 12.5.3.2\n",
            "    Uninstalling nvidia-cublas-cu12-12.5.3.2:\n",
            "      Successfully uninstalled nvidia-cublas-cu12-12.5.3.2\n",
            "  Attempting uninstall: nvidia-cusparse-cu12\n",
            "    Found existing installation: nvidia-cusparse-cu12 12.5.1.3\n",
            "    Uninstalling nvidia-cusparse-cu12-12.5.1.3:\n",
            "      Successfully uninstalled nvidia-cusparse-cu12-12.5.1.3\n",
            "  Attempting uninstall: nvidia-cudnn-cu12\n",
            "    Found existing installation: nvidia-cudnn-cu12 9.3.0.75\n",
            "    Uninstalling nvidia-cudnn-cu12-9.3.0.75:\n",
            "      Successfully uninstalled nvidia-cudnn-cu12-9.3.0.75\n",
            "  Attempting uninstall: nvidia-cusolver-cu12\n",
            "    Found existing installation: nvidia-cusolver-cu12 11.6.3.83\n",
            "    Uninstalling nvidia-cusolver-cu12-11.6.3.83:\n",
            "      Successfully uninstalled nvidia-cusolver-cu12-11.6.3.83\n",
            "Successfully installed hydra-core-0.11.3 loguru-0.5.0 nvidia-cublas-cu12-12.4.5.8 nvidia-cuda-cupti-cu12-12.4.127 nvidia-cuda-nvrtc-cu12-12.4.127 nvidia-cuda-runtime-cu12-12.4.127 nvidia-cudnn-cu12-9.1.0.70 nvidia-cufft-cu12-11.2.1.3 nvidia-curand-cu12-10.3.5.147 nvidia-cusolver-cu12-11.6.1.9 nvidia-cusparse-cu12-12.3.1.170 nvidia-nvjitlink-cu12-12.4.127 omegaconf-1.4.1\n"
          ]
        }
      ],
      "source": [
        "!pip install -r KGPL-PyTorch/requirements.txt"
      ]
    },
    {
      "cell_type": "code",
      "execution_count": null,
      "metadata": {
        "colab": {
          "background_save": true,
          "base_uri": "https://localhost:8080/"
        },
        "id": "FJ4gHfhnzWHU",
        "outputId": "edbcf1df-df81-48d5-a817-0e426569721f"
      },
      "outputs": [
        {
          "name": "stdout",
          "output_type": "stream",
          "text": [
            "reading item index to entity id file: data/music/item_index2entity_id.txt ...\n",
            "reading rating file ...\n",
            "converting rating file ...\n",
            "number of users: 1872\n",
            "number of items: 3846\n",
            "converting kg file ...\n",
            "number of entities (containing items): 9366\n",
            "number of relations: 60\n",
            "done\n",
            "adj_entity_path: data/music/adj_entity_6_32.npy\n",
            "adj_relation_path: data/music/adj_relation_6_32.npy\n",
            "data_path: data/music/fold1.pkl\n",
            "dataset: music\n",
            "kg_path: data/music/kg_final.npy\n",
            "lp_depth: 6\n",
            "num_neighbor_samples: 32\n",
            "pathlist_path: data/music/path_list_6_32.pkl\n",
            "rating_path: data/music/ratings_final.npy\n",
            "reachable_items_path: data/music/reachable_items.pkl\n",
            "\n",
            "[Parallel(n_jobs=32)]: Using backend MultiprocessingBackend with 32 concurrent workers.\n",
            "[Parallel(n_jobs=32)]: Batch computation too fast (0.00519251823425293s.) Setting batch_size=2.\n",
            "[Parallel(n_jobs=32)]: Done   8 tasks      | elapsed:    0.2s\n",
            "[Parallel(n_jobs=32)]: Done  21 tasks      | elapsed:    0.5s\n",
            "[Parallel(n_jobs=32)]: Done  34 tasks      | elapsed:    0.9s\n",
            "[Parallel(n_jobs=32)]: Done  50 tasks      | elapsed:    1.7s\n",
            "[Parallel(n_jobs=32)]: Done  71 tasks      | elapsed:    2.5s\n",
            "[Parallel(n_jobs=32)]: Batch computation too slow (2.0181589338385013s.) Setting batch_size=1.\n",
            "[Parallel(n_jobs=32)]: Done 101 tasks      | elapsed:    3.8s\n",
            "[Parallel(n_jobs=32)]: Done 134 tasks      | elapsed:    5.3s\n",
            "[Parallel(n_jobs=32)]: Done 170 tasks      | elapsed:    6.7s\n",
            "[Parallel(n_jobs=32)]: Done 206 tasks      | elapsed:    7.4s\n",
            "[Parallel(n_jobs=32)]: Done 235 tasks      | elapsed:    8.4s\n",
            "[Parallel(n_jobs=32)]: Done 261 tasks      | elapsed:    9.1s\n",
            "[Parallel(n_jobs=32)]: Done 288 tasks      | elapsed:   10.1s\n",
            "[Parallel(n_jobs=32)]: Done 314 tasks      | elapsed:   11.0s\n",
            "[Parallel(n_jobs=32)]: Done 340 tasks      | elapsed:   11.8s\n",
            "[Parallel(n_jobs=32)]: Done 366 tasks      | elapsed:   12.7s\n",
            "[Parallel(n_jobs=32)]: Done 393 tasks      | elapsed:   13.5s\n",
            "[Parallel(n_jobs=32)]: Done 421 tasks      | elapsed:   15.3s\n",
            "[Parallel(n_jobs=32)]: Done 451 tasks      | elapsed:   16.1s\n",
            "[Parallel(n_jobs=32)]: Done 481 tasks      | elapsed:   17.5s\n",
            "[Parallel(n_jobs=32)]: Done 513 tasks      | elapsed:   18.4s\n",
            "[Parallel(n_jobs=32)]: Done 544 tasks      | elapsed:   19.8s\n",
            "[Parallel(n_jobs=32)]: Done 577 tasks      | elapsed:   21.4s\n",
            "[Parallel(n_jobs=32)]: Done 610 tasks      | elapsed:   22.6s\n",
            "[Parallel(n_jobs=32)]: Done 645 tasks      | elapsed:   23.9s\n",
            "[Parallel(n_jobs=32)]: Done 680 tasks      | elapsed:   25.5s\n",
            "[Parallel(n_jobs=32)]: Done 717 tasks      | elapsed:   26.3s\n",
            "[Parallel(n_jobs=32)]: Done 754 tasks      | elapsed:   27.5s\n",
            "[Parallel(n_jobs=32)]: Done 793 tasks      | elapsed:   29.8s\n",
            "[Parallel(n_jobs=32)]: Done 832 tasks      | elapsed:   31.4s\n",
            "[Parallel(n_jobs=32)]: Done 873 tasks      | elapsed:   33.0s\n",
            "[Parallel(n_jobs=32)]: Done 914 tasks      | elapsed:   34.4s\n",
            "[Parallel(n_jobs=32)]: Done 957 tasks      | elapsed:   35.8s\n",
            "[Parallel(n_jobs=32)]: Done 1000 tasks      | elapsed:   37.1s\n",
            "[Parallel(n_jobs=32)]: Done 1045 tasks      | elapsed:   38.3s\n",
            "[Parallel(n_jobs=32)]: Done 1090 tasks      | elapsed:   39.6s\n",
            "[Parallel(n_jobs=32)]: Done 1137 tasks      | elapsed:   41.3s\n",
            "[Parallel(n_jobs=32)]: Done 1184 tasks      | elapsed:   43.1s\n",
            "[Parallel(n_jobs=32)]: Done 1233 tasks      | elapsed:   44.5s\n",
            "[Parallel(n_jobs=32)]: Done 1282 tasks      | elapsed:   46.5s\n",
            "[Parallel(n_jobs=32)]: Done 1333 tasks      | elapsed:   49.2s\n",
            "[Parallel(n_jobs=32)]: Done 1384 tasks      | elapsed:   51.2s\n",
            "[Parallel(n_jobs=32)]: Done 1437 tasks      | elapsed:   52.8s\n",
            "[Parallel(n_jobs=32)]: Done 1490 tasks      | elapsed:   55.0s\n",
            "[Parallel(n_jobs=32)]: Done 1545 tasks      | elapsed:   56.8s\n",
            "[Parallel(n_jobs=32)]: Done 1600 tasks      | elapsed:   59.2s\n",
            "[Parallel(n_jobs=32)]: Done 1657 tasks      | elapsed:  1.0min\n",
            "[Parallel(n_jobs=32)]: Done 1714 tasks      | elapsed:  1.1min\n",
            "[Parallel(n_jobs=32)]: Done 1773 tasks      | elapsed:  1.1min\n",
            "[Parallel(n_jobs=32)]: Done 1832 tasks      | elapsed:  1.1min\n",
            "[Parallel(n_jobs=32)]: Done 1893 tasks      | elapsed:  1.2min\n",
            "[Parallel(n_jobs=32)]: Done 1954 tasks      | elapsed:  1.2min\n",
            "[Parallel(n_jobs=32)]: Done 2017 tasks      | elapsed:  1.2min\n",
            "[Parallel(n_jobs=32)]: Done 2080 tasks      | elapsed:  1.3min\n",
            "[Parallel(n_jobs=32)]: Done 2145 tasks      | elapsed:  1.3min\n",
            "[Parallel(n_jobs=32)]: Done 2210 tasks      | elapsed:  1.4min\n",
            "[Parallel(n_jobs=32)]: Done 2277 tasks      | elapsed:  1.4min\n",
            "[Parallel(n_jobs=32)]: Done 2344 tasks      | elapsed:  1.4min\n",
            "[Parallel(n_jobs=32)]: Done 2413 tasks      | elapsed:  1.5min\n",
            "[Parallel(n_jobs=32)]: Done 2482 tasks      | elapsed:  1.5min\n",
            "[Parallel(n_jobs=32)]: Done 2553 tasks      | elapsed:  1.6min\n",
            "[Parallel(n_jobs=32)]: Done 2624 tasks      | elapsed:  1.6min\n",
            "[Parallel(n_jobs=32)]: Done 2697 tasks      | elapsed:  1.7min\n",
            "[Parallel(n_jobs=32)]: Done 2770 tasks      | elapsed:  1.8min\n",
            "[Parallel(n_jobs=32)]: Done 2845 tasks      | elapsed:  1.8min\n",
            "[Parallel(n_jobs=32)]: Done 2920 tasks      | elapsed:  1.9min\n",
            "[Parallel(n_jobs=32)]: Done 2997 tasks      | elapsed:  1.9min\n",
            "[Parallel(n_jobs=32)]: Done 3074 tasks      | elapsed:  2.0min\n",
            "[Parallel(n_jobs=32)]: Done 3153 tasks      | elapsed:  2.0min\n",
            "[Parallel(n_jobs=32)]: Done 3232 tasks      | elapsed:  2.1min\n",
            "[Parallel(n_jobs=32)]: Done 3313 tasks      | elapsed:  2.1min\n",
            "[Parallel(n_jobs=32)]: Done 3394 tasks      | elapsed:  2.2min\n",
            "[Parallel(n_jobs=32)]: Done 3477 tasks      | elapsed:  2.2min\n",
            "[Parallel(n_jobs=32)]: Done 3560 tasks      | elapsed:  2.3min\n",
            "[Parallel(n_jobs=32)]: Done 3645 tasks      | elapsed:  2.3min\n",
            "[Parallel(n_jobs=32)]: Done 3730 tasks      | elapsed:  2.3min\n",
            "[Parallel(n_jobs=32)]: Done 3846 out of 3846 | elapsed:  2.4min finished\n",
            "average number of paths: 551.4557982319293\n",
            "median number of paths: 278.5\n",
            "min number of paths: 2\n",
            "max number of paths: 10595\n"
          ]
        }
      ],
      "source": [
        "!cd KGPL-PyTorch &&\\\n",
        "python preprocess/preprocess.py -d \"music\" &&\\\n",
        "python preprocess/make_path_list.py lp_depth=6 dataset=music kg_path=data/music/kg_final.npy rating_path=data/music/ratings_final.npy num_neighbor_samples=32"
      ]
    },
    {
      "cell_type": "code",
      "execution_count": null,
      "metadata": {
        "colab": {
          "background_save": true
        },
        "id": "Bbbx3BBqmx7V"
      },
      "outputs": [],
      "source": [
        "import sys\n",
        "sys.path.append('KGPL-PyTorch/')"
      ]
    },
    {
      "cell_type": "code",
      "execution_count": null,
      "metadata": {
        "colab": {
          "background_save": true
        },
        "id": "On-Lgk4FvOOq"
      },
      "outputs": [],
      "source": [
        "# from code\n",
        "from model import *\n",
        "from utils.data_classes import *\n",
        "from utils.functions import *\n",
        "from utils.eval import *\n",
        "\n",
        "# libraries\n",
        "import torch\n",
        "import pandas as pd\n",
        "from tqdm import tqdm\n",
        "import seaborn as sns\n",
        "import matplotlib.pyplot as plt"
      ]
    },
    {
      "cell_type": "code",
      "execution_count": null,
      "metadata": {
        "colab": {
          "background_save": true,
          "base_uri": "https://localhost:8080/"
        },
        "id": "O-QCcpdcnf8F",
        "outputId": "db2f6651-f359-4c37-b3a1-bb88190b20d1"
      },
      "outputs": [
        {
          "name": "stdout",
          "output_type": "stream",
          "text": [
            "Loading Entity Adjacencies...\n",
            "Loading Relation Adjacencies...\n",
            "Loading Ratings...\n",
            "Loading Path List...\n",
            "Loading Distances...\n",
            "Setting up dst dict...\n"
          ]
        },
        {
          "name": "stderr",
          "output_type": "stream",
          "text": [
            "100%|██████████| 3846/3846 [00:00<00:00, 10382.84it/s]"
          ]
        },
        {
          "name": "stdout",
          "output_type": "stream",
          "text": [
            "Start updating path info...\n",
            "Path info updated.\n"
          ]
        },
        {
          "name": "stderr",
          "output_type": "stream",
          "text": [
            "\n"
          ]
        }
      ],
      "source": [
        "music = KGPLExperiment(\n",
        "    'music',\n",
        "    {\n",
        "      'plabel_lp_depth': 6,\n",
        "      'plabel_par': 16,\n",
        "      'plabel_chunk_size': 250,\n",
        "      'plabel_neg_pn': 0.1,\n",
        "      'plabel_pl_pn': 1e-3,\n",
        "      'dropout_rate': 0.5,\n",
        "      'emb_dim': 64,\n",
        "      'n_iter': 1,\n",
        "      'plabel': {},\n",
        "      'optimize': {'iter_per_epoch': 100, 'lr': 3e-3, 'batch_size': 3333},\n",
        "      'log': {'show_loss': True},\n",
        "      'evaluate': {'user_num_topk': 1000},\n",
        "      'model': {\n",
        "          'n_iter': 1,\n",
        "          'neighbor_sample_size': 32,\n",
        "          'num_neighbor_samples': 32,\n",
        "          'dropout_rate': 0.5}\n",
        "    })"
      ]
    },
    {
      "cell_type": "code",
      "execution_count": null,
      "metadata": {
        "colab": {
          "background_save": true,
          "base_uri": "https://localhost:8080/"
        },
        "id": "87sI4ZnLrFHA",
        "outputId": "3f1118c1-2604-4e62-fb6e-ba0c472f7650"
      },
      "outputs": [
        {
          "name": "stderr",
          "output_type": "stream",
          "text": [
            "/content/KGPL-PyTorch/utils/data_classes.py:302: RuntimeWarning: invalid value encountered in divide\n",
            "  F = (F / F.sum()).cumsum()\n"
          ]
        },
        {
          "name": "stdout",
          "output_type": "stream",
          "text": [
            "Neg C Dict User: 1868\n",
            "Neg C Dict Item: 3097\n"
          ]
        },
        {
          "name": "stderr",
          "output_type": "stream",
          "text": [
            "100%|██████████| 13554/13554 [00:00<00:00, 133938.35it/s]\n"
          ]
        },
        {
          "name": "stdout",
          "output_type": "stream",
          "text": [
            "Populating item dist dict...\n"
          ]
        },
        {
          "name": "stderr",
          "output_type": "stream",
          "text": [
            "8it [00:02,  2.94it/s]\n"
          ]
        }
      ],
      "source": [
        "music.train_val_test_split()"
      ]
    },
    {
      "cell_type": "code",
      "execution_count": null,
      "metadata": {
        "colab": {
          "background_save": true
        },
        "id": "ZnB_6SNSrE0T"
      },
      "outputs": [],
      "source": [
        "music.create_dataloaders()"
      ]
    },
    {
      "cell_type": "code",
      "execution_count": null,
      "metadata": {
        "colab": {
          "background_save": true
        },
        "id": "EXq7JoV_7P2-"
      },
      "outputs": [],
      "source": [
        "model = KGPLCOT(\n",
        "        music.cfg,\n",
        "        int(music.ratings[:, 0].max().item()) + 1,\n",
        "        int(music.ratings[:, 1].max().item()) + 1,\n",
        "        music.n_entity,\n",
        "        music.n_relation,\n",
        "        music.adj_entity,\n",
        "        music.adj_relation,\n",
        "        music.path_list_dict,\n",
        "        music.train_loader,\n",
        "        music.val_loader,\n",
        "        'cuda'\n",
        "    )"
      ]
    },
    {
      "cell_type": "code",
      "execution_count": null,
      "metadata": {
        "colab": {
          "background_save": true
        },
        "id": "3MLx9FurzN5l"
      },
      "outputs": [],
      "source": [
        "def run_cotrain(model, train_loader, val_loader, test_loader, cfg, device, num_epochs=100):\n",
        "    '''\n",
        "    Run the CoTrain algorithm with the given model, data loaders, configuration, and device, using the \"music\" experiment.\n",
        "    Optimizers are defined here with epsilon = 1e-7 to match tensorflow default.\n",
        "\n",
        "    Inputs:\n",
        "    - model: The CoTrain model to be trained.\n",
        "    - train_loader: The data loader for the training set.\n",
        "    - val_loader: The data loader for the validation set.\n",
        "    - test_loader: The data loader for the test set.\n",
        "    - cfg: The configuration dictionary.\n",
        "    - device: PyTorch device\n",
        "    - num_epochs: Training epochs\n",
        "\n",
        "    Returns:\n",
        "    - pd.DataFrame: A DataFrame containing the training loss and validation metrics for each epoch.\n",
        "    '''\n",
        "    optimizer_f = torch.optim.Adam(\n",
        "        model.model_f.parameters(),\n",
        "        lr=cfg['optimize']['lr'],\n",
        "        eps=1e-7,\n",
        "      )\n",
        "    optimizer_g = torch.optim.Adam(\n",
        "        model.model_g.parameters(),\n",
        "        lr=cfg['optimize']['lr'],\n",
        "        eps=1e-7,\n",
        "      )\n",
        "    iter_per_epoch = cfg['optimize']['iter_per_epoch']\n",
        "\n",
        "    dataframe_rows = []\n",
        "\n",
        "    for epoch in range(1, num_epochs + 1):\n",
        "        print(f\"\\nEpoch {epoch}\")\n",
        "        model.train()\n",
        "        total_loss_f, total_loss_g = 0.0, 0.0\n",
        "\n",
        "        train_iter = iter(train_loader)  # re-initialize iterator every epoch\n",
        "\n",
        "        for i in tqdm(range(iter_per_epoch)):\n",
        "            try:\n",
        "                batch = next(train_iter)\n",
        "            except StopIteration:\n",
        "                train_iter = iter(train_loader)\n",
        "                batch = next(train_iter)\n",
        "\n",
        "            users, pos, neg, pseudo = [b.to(device) for b in batch]\n",
        "            batch_data = torch.stack([users, pos, neg, pseudo], dim=1)\n",
        "\n",
        "            losses = model.train_step(batch_data, optimizer_f, optimizer_g)\n",
        "            total_loss_f += losses['loss_f']\n",
        "            total_loss_g += losses['loss_g']\n",
        "\n",
        "        avg_loss_f = total_loss_f / iter_per_epoch\n",
        "        avg_loss_g = total_loss_g / iter_per_epoch\n",
        "        print(f\"Train Loss - f: {avg_loss_f:.4f}, g: {avg_loss_g:.4f}\")\n",
        "\n",
        "        print(\"Evaluating model_f:\")\n",
        "\n",
        "        row = pd.DataFrame(\n",
        "            {\"Epoch\": epoch,\n",
        "             \"Train Loss F\": avg_loss_f,\n",
        "             \"Train Loss G\": avg_loss_g\n",
        "             }, index=[0])\n",
        "\n",
        "        model.eval()\n",
        "\n",
        "        print(\"Validation:\")\n",
        "        val_row = run_topk_eval(\n",
        "          model=model,\n",
        "          cfg = cfg,\n",
        "          train_data=music.train_dataset.ratings.numpy(),\n",
        "          eval_data=music.val_dataset.ratings.numpy(),\n",
        "          test_data=music.test_dataset.ratings.numpy(),\n",
        "          n_items=music.n_item,\n",
        "          device=device,\n",
        "          test_mode=False  # or True for test set\n",
        "        ).add_prefix(\"Validation \")\n",
        "\n",
        "        row = row.join(val_row)\n",
        "\n",
        "        dataframe_rows.append(row)\n",
        "    return pd.concat(dataframe_rows, ignore_index=True)"
      ]
    },
    {
      "cell_type": "code",
      "execution_count": null,
      "metadata": {
        "colab": {
          "background_save": true,
          "base_uri": "https://localhost:8080/"
        },
        "id": "B8bQ8AEly4wv",
        "outputId": "4a5b5abe-5963-4925-fb7e-b5aa81d2597c"
      },
      "outputs": [
        {
          "name": "stdout",
          "output_type": "stream",
          "text": [
            "\n",
            "Epoch 1\n"
          ]
        },
        {
          "name": "stderr",
          "output_type": "stream",
          "text": [
            "100%|██████████| 100/100 [01:01<00:00,  1.62it/s]\n"
          ]
        },
        {
          "name": "stdout",
          "output_type": "stream",
          "text": [
            "Train Loss - f: 5.0375, g: 5.1084\n",
            "Evaluating model_f:\n",
            "Validation:\n"
          ]
        },
        {
          "name": "stderr",
          "output_type": "stream",
          "text": [
            "Evaluating: 100%|██████████| 1000/1000 [00:03<00:00, 277.39it/s]\n"
          ]
        },
        {
          "name": "stdout",
          "output_type": "stream",
          "text": [
            "\n",
            "Top-K Evaluation Results\n",
            "K=  1 | Precision: 0.0020 | Recall: 0.0015\n",
            "K=  2 | Precision: 0.0010 | Recall: 0.0015\n",
            "K=  5 | Precision: 0.0008 | Recall: 0.0019\n",
            "K= 10 | Precision: 0.0006 | Recall: 0.0027\n",
            "K= 20 | Precision: 0.0007 | Recall: 0.0067\n",
            "\n",
            "Epoch 2\n"
          ]
        },
        {
          "name": "stderr",
          "output_type": "stream",
          "text": [
            "100%|██████████| 100/100 [01:00<00:00,  1.64it/s]\n"
          ]
        },
        {
          "name": "stdout",
          "output_type": "stream",
          "text": [
            "Train Loss - f: 2.2421, g: 2.2418\n",
            "Evaluating model_f:\n",
            "Validation:\n"
          ]
        },
        {
          "name": "stderr",
          "output_type": "stream",
          "text": [
            "Evaluating: 100%|██████████| 1000/1000 [00:03<00:00, 280.79it/s]\n"
          ]
        },
        {
          "name": "stdout",
          "output_type": "stream",
          "text": [
            "\n",
            "Top-K Evaluation Results\n",
            "K=  1 | Precision: 0.0020 | Recall: 0.0015\n",
            "K=  2 | Precision: 0.0015 | Recall: 0.0020\n",
            "K=  5 | Precision: 0.0008 | Recall: 0.0022\n",
            "K= 10 | Precision: 0.0004 | Recall: 0.0022\n",
            "K= 20 | Precision: 0.0006 | Recall: 0.0081\n",
            "\n",
            "Epoch 3\n"
          ]
        },
        {
          "name": "stderr",
          "output_type": "stream",
          "text": [
            "100%|██████████| 100/100 [01:01<00:00,  1.63it/s]\n"
          ]
        },
        {
          "name": "stdout",
          "output_type": "stream",
          "text": [
            "Train Loss - f: 2.2337, g: 2.2371\n",
            "Evaluating model_f:\n",
            "Validation:\n"
          ]
        },
        {
          "name": "stderr",
          "output_type": "stream",
          "text": [
            "Evaluating: 100%|██████████| 1000/1000 [00:03<00:00, 278.44it/s]\n"
          ]
        },
        {
          "name": "stdout",
          "output_type": "stream",
          "text": [
            "\n",
            "Top-K Evaluation Results\n",
            "K=  1 | Precision: 0.0010 | Recall: 0.0003\n",
            "K=  2 | Precision: 0.0015 | Recall: 0.0016\n",
            "K=  5 | Precision: 0.0010 | Recall: 0.0026\n",
            "K= 10 | Precision: 0.0010 | Recall: 0.0051\n",
            "K= 20 | Precision: 0.0009 | Recall: 0.0101\n",
            "\n",
            "Epoch 4\n"
          ]
        },
        {
          "name": "stderr",
          "output_type": "stream",
          "text": [
            "100%|██████████| 100/100 [01:01<00:00,  1.63it/s]\n"
          ]
        },
        {
          "name": "stdout",
          "output_type": "stream",
          "text": [
            "Train Loss - f: 2.2308, g: 2.2298\n",
            "Evaluating model_f:\n",
            "Validation:\n"
          ]
        },
        {
          "name": "stderr",
          "output_type": "stream",
          "text": [
            "Evaluating: 100%|██████████| 1000/1000 [00:03<00:00, 275.88it/s]\n"
          ]
        },
        {
          "name": "stdout",
          "output_type": "stream",
          "text": [
            "\n",
            "Top-K Evaluation Results\n",
            "K=  1 | Precision: 0.0010 | Recall: 0.0003\n",
            "K=  2 | Precision: 0.0005 | Recall: 0.0003\n",
            "K=  5 | Precision: 0.0004 | Recall: 0.0008\n",
            "K= 10 | Precision: 0.0006 | Recall: 0.0022\n",
            "K= 20 | Precision: 0.0006 | Recall: 0.0054\n",
            "\n",
            "Epoch 5\n"
          ]
        },
        {
          "name": "stderr",
          "output_type": "stream",
          "text": [
            "100%|██████████| 100/100 [01:01<00:00,  1.63it/s]\n"
          ]
        },
        {
          "name": "stdout",
          "output_type": "stream",
          "text": [
            "Train Loss - f: 2.2288, g: 2.2302\n",
            "Evaluating model_f:\n",
            "Validation:\n"
          ]
        },
        {
          "name": "stderr",
          "output_type": "stream",
          "text": [
            "Evaluating: 100%|██████████| 1000/1000 [00:03<00:00, 277.93it/s]\n"
          ]
        },
        {
          "name": "stdout",
          "output_type": "stream",
          "text": [
            "\n",
            "Top-K Evaluation Results\n",
            "K=  1 | Precision: 0.0000 | Recall: 0.0000\n",
            "K=  2 | Precision: 0.0000 | Recall: 0.0000\n",
            "K=  5 | Precision: 0.0002 | Recall: 0.0003\n",
            "K= 10 | Precision: 0.0003 | Recall: 0.0010\n",
            "K= 20 | Precision: 0.0004 | Recall: 0.0043\n",
            "\n",
            "Epoch 6\n"
          ]
        },
        {
          "name": "stderr",
          "output_type": "stream",
          "text": [
            "100%|██████████| 100/100 [01:01<00:00,  1.64it/s]\n"
          ]
        },
        {
          "name": "stdout",
          "output_type": "stream",
          "text": [
            "Train Loss - f: 2.2204, g: 2.2191\n",
            "Evaluating model_f:\n",
            "Validation:\n"
          ]
        },
        {
          "name": "stderr",
          "output_type": "stream",
          "text": [
            "Evaluating: 100%|██████████| 1000/1000 [00:03<00:00, 281.77it/s]\n"
          ]
        },
        {
          "name": "stdout",
          "output_type": "stream",
          "text": [
            "\n",
            "Top-K Evaluation Results\n",
            "K=  1 | Precision: 0.0010 | Recall: 0.0010\n",
            "K=  2 | Precision: 0.0015 | Recall: 0.0018\n",
            "K=  5 | Precision: 0.0008 | Recall: 0.0022\n",
            "K= 10 | Precision: 0.0009 | Recall: 0.0053\n",
            "K= 20 | Precision: 0.0008 | Recall: 0.0083\n",
            "\n",
            "Epoch 7\n"
          ]
        },
        {
          "name": "stderr",
          "output_type": "stream",
          "text": [
            "100%|██████████| 100/100 [01:01<00:00,  1.63it/s]\n"
          ]
        },
        {
          "name": "stdout",
          "output_type": "stream",
          "text": [
            "Train Loss - f: 2.2144, g: 2.2104\n",
            "Evaluating model_f:\n",
            "Validation:\n"
          ]
        },
        {
          "name": "stderr",
          "output_type": "stream",
          "text": [
            "Evaluating: 100%|██████████| 1000/1000 [00:03<00:00, 276.01it/s]\n"
          ]
        },
        {
          "name": "stdout",
          "output_type": "stream",
          "text": [
            "\n",
            "Top-K Evaluation Results\n",
            "K=  1 | Precision: 0.0010 | Recall: 0.0010\n",
            "K=  2 | Precision: 0.0010 | Recall: 0.0020\n",
            "K=  5 | Precision: 0.0006 | Recall: 0.0025\n",
            "K= 10 | Precision: 0.0005 | Recall: 0.0032\n",
            "K= 20 | Precision: 0.0006 | Recall: 0.0067\n",
            "\n",
            "Epoch 8\n"
          ]
        },
        {
          "name": "stderr",
          "output_type": "stream",
          "text": [
            "100%|██████████| 100/100 [01:01<00:00,  1.62it/s]\n"
          ]
        },
        {
          "name": "stdout",
          "output_type": "stream",
          "text": [
            "Train Loss - f: 2.1991, g: 2.2006\n",
            "Evaluating model_f:\n",
            "Validation:\n"
          ]
        },
        {
          "name": "stderr",
          "output_type": "stream",
          "text": [
            "Evaluating: 100%|██████████| 1000/1000 [00:03<00:00, 278.03it/s]\n"
          ]
        },
        {
          "name": "stdout",
          "output_type": "stream",
          "text": [
            "\n",
            "Top-K Evaluation Results\n",
            "K=  1 | Precision: 0.0000 | Recall: 0.0000\n",
            "K=  2 | Precision: 0.0005 | Recall: 0.0005\n",
            "K=  5 | Precision: 0.0008 | Recall: 0.0022\n",
            "K= 10 | Precision: 0.0007 | Recall: 0.0035\n",
            "K= 20 | Precision: 0.0007 | Recall: 0.0065\n",
            "\n",
            "Epoch 9\n"
          ]
        },
        {
          "name": "stderr",
          "output_type": "stream",
          "text": [
            "100%|██████████| 100/100 [01:01<00:00,  1.63it/s]\n"
          ]
        },
        {
          "name": "stdout",
          "output_type": "stream",
          "text": [
            "Train Loss - f: 2.1859, g: 2.1890\n",
            "Evaluating model_f:\n",
            "Validation:\n"
          ]
        },
        {
          "name": "stderr",
          "output_type": "stream",
          "text": [
            "Evaluating: 100%|██████████| 1000/1000 [00:03<00:00, 276.55it/s]\n"
          ]
        },
        {
          "name": "stdout",
          "output_type": "stream",
          "text": [
            "\n",
            "Top-K Evaluation Results\n",
            "K=  1 | Precision: 0.0000 | Recall: 0.0000\n",
            "K=  2 | Precision: 0.0015 | Recall: 0.0020\n",
            "K=  5 | Precision: 0.0010 | Recall: 0.0035\n",
            "K= 10 | Precision: 0.0006 | Recall: 0.0038\n",
            "K= 20 | Precision: 0.0006 | Recall: 0.0056\n",
            "\n",
            "Epoch 10\n"
          ]
        },
        {
          "name": "stderr",
          "output_type": "stream",
          "text": [
            "100%|██████████| 100/100 [01:01<00:00,  1.63it/s]\n"
          ]
        },
        {
          "name": "stdout",
          "output_type": "stream",
          "text": [
            "Train Loss - f: 2.1723, g: 2.1730\n",
            "Evaluating model_f:\n",
            "Validation:\n"
          ]
        },
        {
          "name": "stderr",
          "output_type": "stream",
          "text": [
            "Evaluating: 100%|██████████| 1000/1000 [00:03<00:00, 271.77it/s]\n"
          ]
        },
        {
          "name": "stdout",
          "output_type": "stream",
          "text": [
            "\n",
            "Top-K Evaluation Results\n",
            "K=  1 | Precision: 0.0010 | Recall: 0.0003\n",
            "K=  2 | Precision: 0.0005 | Recall: 0.0003\n",
            "K=  5 | Precision: 0.0004 | Recall: 0.0008\n",
            "K= 10 | Precision: 0.0006 | Recall: 0.0024\n",
            "K= 20 | Precision: 0.0007 | Recall: 0.0055\n",
            "\n",
            "Epoch 11\n"
          ]
        },
        {
          "name": "stderr",
          "output_type": "stream",
          "text": [
            "100%|██████████| 100/100 [01:01<00:00,  1.63it/s]\n"
          ]
        },
        {
          "name": "stdout",
          "output_type": "stream",
          "text": [
            "Train Loss - f: 2.1552, g: 2.1525\n",
            "Evaluating model_f:\n",
            "Validation:\n"
          ]
        },
        {
          "name": "stderr",
          "output_type": "stream",
          "text": [
            "Evaluating: 100%|██████████| 1000/1000 [00:03<00:00, 277.42it/s]\n"
          ]
        },
        {
          "name": "stdout",
          "output_type": "stream",
          "text": [
            "\n",
            "Top-K Evaluation Results\n",
            "K=  1 | Precision: 0.0000 | Recall: 0.0000\n",
            "K=  2 | Precision: 0.0000 | Recall: 0.0000\n",
            "K=  5 | Precision: 0.0002 | Recall: 0.0010\n",
            "K= 10 | Precision: 0.0008 | Recall: 0.0046\n",
            "K= 20 | Precision: 0.0008 | Recall: 0.0077\n",
            "\n",
            "Epoch 12\n"
          ]
        },
        {
          "name": "stderr",
          "output_type": "stream",
          "text": [
            "100%|██████████| 100/100 [01:01<00:00,  1.63it/s]\n"
          ]
        },
        {
          "name": "stdout",
          "output_type": "stream",
          "text": [
            "Train Loss - f: 2.1327, g: 2.1307\n",
            "Evaluating model_f:\n",
            "Validation:\n"
          ]
        },
        {
          "name": "stderr",
          "output_type": "stream",
          "text": [
            "Evaluating: 100%|██████████| 1000/1000 [00:03<00:00, 274.35it/s]\n"
          ]
        },
        {
          "name": "stdout",
          "output_type": "stream",
          "text": [
            "\n",
            "Top-K Evaluation Results\n",
            "K=  1 | Precision: 0.0000 | Recall: 0.0000\n",
            "K=  2 | Precision: 0.0005 | Recall: 0.0003\n",
            "K=  5 | Precision: 0.0004 | Recall: 0.0005\n",
            "K= 10 | Precision: 0.0007 | Recall: 0.0026\n",
            "K= 20 | Precision: 0.0007 | Recall: 0.0054\n",
            "\n",
            "Epoch 13\n"
          ]
        },
        {
          "name": "stderr",
          "output_type": "stream",
          "text": [
            "100%|██████████| 100/100 [01:02<00:00,  1.61it/s]\n"
          ]
        },
        {
          "name": "stdout",
          "output_type": "stream",
          "text": [
            "Train Loss - f: 2.1168, g: 2.1091\n",
            "Evaluating model_f:\n",
            "Validation:\n"
          ]
        },
        {
          "name": "stderr",
          "output_type": "stream",
          "text": [
            "Evaluating: 100%|██████████| 1000/1000 [00:03<00:00, 277.55it/s]\n"
          ]
        },
        {
          "name": "stdout",
          "output_type": "stream",
          "text": [
            "\n",
            "Top-K Evaluation Results\n",
            "K=  1 | Precision: 0.0000 | Recall: 0.0000\n",
            "K=  2 | Precision: 0.0000 | Recall: 0.0000\n",
            "K=  5 | Precision: 0.0006 | Recall: 0.0013\n",
            "K= 10 | Precision: 0.0005 | Recall: 0.0018\n",
            "K= 20 | Precision: 0.0009 | Recall: 0.0066\n",
            "\n",
            "Epoch 14\n"
          ]
        },
        {
          "name": "stderr",
          "output_type": "stream",
          "text": [
            "100%|██████████| 100/100 [01:01<00:00,  1.62it/s]\n"
          ]
        },
        {
          "name": "stdout",
          "output_type": "stream",
          "text": [
            "Train Loss - f: 2.0975, g: 2.0920\n",
            "Evaluating model_f:\n",
            "Validation:\n"
          ]
        },
        {
          "name": "stderr",
          "output_type": "stream",
          "text": [
            "Evaluating: 100%|██████████| 1000/1000 [00:03<00:00, 274.58it/s]\n"
          ]
        },
        {
          "name": "stdout",
          "output_type": "stream",
          "text": [
            "\n",
            "Top-K Evaluation Results\n",
            "K=  1 | Precision: 0.0040 | Recall: 0.0018\n",
            "K=  2 | Precision: 0.0030 | Recall: 0.0038\n",
            "K=  5 | Precision: 0.0026 | Recall: 0.0071\n",
            "K= 10 | Precision: 0.0022 | Recall: 0.0108\n",
            "K= 20 | Precision: 0.0019 | Recall: 0.0193\n",
            "\n",
            "Epoch 15\n"
          ]
        },
        {
          "name": "stderr",
          "output_type": "stream",
          "text": [
            "100%|██████████| 100/100 [01:02<00:00,  1.61it/s]\n"
          ]
        },
        {
          "name": "stdout",
          "output_type": "stream",
          "text": [
            "Train Loss - f: 2.0794, g: 2.0680\n",
            "Evaluating model_f:\n",
            "Validation:\n"
          ]
        },
        {
          "name": "stderr",
          "output_type": "stream",
          "text": [
            "Evaluating: 100%|██████████| 1000/1000 [00:03<00:00, 274.49it/s]\n"
          ]
        },
        {
          "name": "stdout",
          "output_type": "stream",
          "text": [
            "\n",
            "Top-K Evaluation Results\n",
            "K=  1 | Precision: 0.0020 | Recall: 0.0010\n",
            "K=  2 | Precision: 0.0035 | Recall: 0.0048\n",
            "K=  5 | Precision: 0.0028 | Recall: 0.0076\n",
            "K= 10 | Precision: 0.0025 | Recall: 0.0138\n",
            "K= 20 | Precision: 0.0020 | Recall: 0.0206\n",
            "\n",
            "Epoch 16\n"
          ]
        },
        {
          "name": "stderr",
          "output_type": "stream",
          "text": [
            "100%|██████████| 100/100 [01:01<00:00,  1.62it/s]\n"
          ]
        },
        {
          "name": "stdout",
          "output_type": "stream",
          "text": [
            "Train Loss - f: 2.0596, g: 2.0517\n",
            "Evaluating model_f:\n",
            "Validation:\n"
          ]
        },
        {
          "name": "stderr",
          "output_type": "stream",
          "text": [
            "Evaluating: 100%|██████████| 1000/1000 [00:03<00:00, 275.28it/s]\n"
          ]
        },
        {
          "name": "stdout",
          "output_type": "stream",
          "text": [
            "\n",
            "Top-K Evaluation Results\n",
            "K=  1 | Precision: 0.0030 | Recall: 0.0012\n",
            "K=  2 | Precision: 0.0035 | Recall: 0.0037\n",
            "K=  5 | Precision: 0.0034 | Recall: 0.0086\n",
            "K= 10 | Precision: 0.0028 | Recall: 0.0145\n",
            "K= 20 | Precision: 0.0030 | Recall: 0.0271\n",
            "\n",
            "Epoch 17\n"
          ]
        },
        {
          "name": "stderr",
          "output_type": "stream",
          "text": [
            "100%|██████████| 100/100 [01:02<00:00,  1.61it/s]\n"
          ]
        },
        {
          "name": "stdout",
          "output_type": "stream",
          "text": [
            "Train Loss - f: 2.0421, g: 2.0352\n",
            "Evaluating model_f:\n",
            "Validation:\n"
          ]
        },
        {
          "name": "stderr",
          "output_type": "stream",
          "text": [
            "Evaluating: 100%|██████████| 1000/1000 [00:03<00:00, 270.38it/s]\n"
          ]
        },
        {
          "name": "stdout",
          "output_type": "stream",
          "text": [
            "\n",
            "Top-K Evaluation Results\n",
            "K=  1 | Precision: 0.0060 | Recall: 0.0034\n",
            "K=  2 | Precision: 0.0075 | Recall: 0.0072\n",
            "K=  5 | Precision: 0.0074 | Recall: 0.0169\n",
            "K= 10 | Precision: 0.0057 | Recall: 0.0271\n",
            "K= 20 | Precision: 0.0050 | Recall: 0.0444\n",
            "\n",
            "Epoch 18\n"
          ]
        },
        {
          "name": "stderr",
          "output_type": "stream",
          "text": [
            "100%|██████████| 100/100 [01:01<00:00,  1.63it/s]\n"
          ]
        },
        {
          "name": "stdout",
          "output_type": "stream",
          "text": [
            "Train Loss - f: 2.0202, g: 2.0086\n",
            "Evaluating model_f:\n",
            "Validation:\n"
          ]
        },
        {
          "name": "stderr",
          "output_type": "stream",
          "text": [
            "Evaluating: 100%|██████████| 1000/1000 [00:03<00:00, 274.11it/s]\n"
          ]
        },
        {
          "name": "stdout",
          "output_type": "stream",
          "text": [
            "\n",
            "Top-K Evaluation Results\n",
            "K=  1 | Precision: 0.0110 | Recall: 0.0067\n",
            "K=  2 | Precision: 0.0115 | Recall: 0.0118\n",
            "K=  5 | Precision: 0.0102 | Recall: 0.0260\n",
            "K= 10 | Precision: 0.0081 | Recall: 0.0399\n",
            "K= 20 | Precision: 0.0066 | Recall: 0.0625\n",
            "\n",
            "Epoch 19\n"
          ]
        },
        {
          "name": "stderr",
          "output_type": "stream",
          "text": [
            "100%|██████████| 100/100 [01:01<00:00,  1.62it/s]\n"
          ]
        },
        {
          "name": "stdout",
          "output_type": "stream",
          "text": [
            "Train Loss - f: 2.0017, g: 1.9923\n",
            "Evaluating model_f:\n",
            "Validation:\n"
          ]
        },
        {
          "name": "stderr",
          "output_type": "stream",
          "text": [
            "Evaluating: 100%|██████████| 1000/1000 [00:03<00:00, 273.87it/s]\n"
          ]
        },
        {
          "name": "stdout",
          "output_type": "stream",
          "text": [
            "\n",
            "Top-K Evaluation Results\n",
            "K=  1 | Precision: 0.0140 | Recall: 0.0066\n",
            "K=  2 | Precision: 0.0125 | Recall: 0.0105\n",
            "K=  5 | Precision: 0.0116 | Recall: 0.0258\n",
            "K= 10 | Precision: 0.0100 | Recall: 0.0444\n",
            "K= 20 | Precision: 0.0087 | Recall: 0.0814\n",
            "\n",
            "Epoch 20\n"
          ]
        },
        {
          "name": "stderr",
          "output_type": "stream",
          "text": [
            "100%|██████████| 100/100 [01:01<00:00,  1.62it/s]\n"
          ]
        },
        {
          "name": "stdout",
          "output_type": "stream",
          "text": [
            "Train Loss - f: 1.9800, g: 1.9733\n",
            "Evaluating model_f:\n",
            "Validation:\n"
          ]
        },
        {
          "name": "stderr",
          "output_type": "stream",
          "text": [
            "Evaluating: 100%|██████████| 1000/1000 [00:03<00:00, 275.81it/s]\n"
          ]
        },
        {
          "name": "stdout",
          "output_type": "stream",
          "text": [
            "\n",
            "Top-K Evaluation Results\n",
            "K=  1 | Precision: 0.0170 | Recall: 0.0075\n",
            "K=  2 | Precision: 0.0180 | Recall: 0.0189\n",
            "K=  5 | Precision: 0.0160 | Recall: 0.0405\n",
            "K= 10 | Precision: 0.0127 | Recall: 0.0616\n",
            "K= 20 | Precision: 0.0114 | Recall: 0.1107\n",
            "\n",
            "Epoch 21\n"
          ]
        },
        {
          "name": "stderr",
          "output_type": "stream",
          "text": [
            "100%|██████████| 100/100 [01:01<00:00,  1.63it/s]\n"
          ]
        },
        {
          "name": "stdout",
          "output_type": "stream",
          "text": [
            "Train Loss - f: 1.9617, g: 1.9539\n",
            "Evaluating model_f:\n",
            "Validation:\n"
          ]
        },
        {
          "name": "stderr",
          "output_type": "stream",
          "text": [
            "Evaluating: 100%|██████████| 1000/1000 [00:03<00:00, 278.35it/s]\n"
          ]
        },
        {
          "name": "stdout",
          "output_type": "stream",
          "text": [
            "\n",
            "Top-K Evaluation Results\n",
            "K=  1 | Precision: 0.0260 | Recall: 0.0122\n",
            "K=  2 | Precision: 0.0205 | Recall: 0.0198\n",
            "K=  5 | Precision: 0.0182 | Recall: 0.0455\n",
            "K= 10 | Precision: 0.0155 | Recall: 0.0764\n",
            "K= 20 | Precision: 0.0121 | Recall: 0.1211\n",
            "\n",
            "Epoch 22\n"
          ]
        },
        {
          "name": "stderr",
          "output_type": "stream",
          "text": [
            "100%|██████████| 100/100 [01:01<00:00,  1.64it/s]\n"
          ]
        },
        {
          "name": "stdout",
          "output_type": "stream",
          "text": [
            "Train Loss - f: 1.9491, g: 1.9443\n",
            "Evaluating model_f:\n",
            "Validation:\n"
          ]
        },
        {
          "name": "stderr",
          "output_type": "stream",
          "text": [
            "Evaluating: 100%|██████████| 1000/1000 [00:03<00:00, 272.82it/s]\n"
          ]
        },
        {
          "name": "stdout",
          "output_type": "stream",
          "text": [
            "\n",
            "Top-K Evaluation Results\n",
            "K=  1 | Precision: 0.0190 | Recall: 0.0098\n",
            "K=  2 | Precision: 0.0145 | Recall: 0.0148\n",
            "K=  5 | Precision: 0.0156 | Recall: 0.0404\n",
            "K= 10 | Precision: 0.0155 | Recall: 0.0767\n",
            "K= 20 | Precision: 0.0127 | Recall: 0.1210\n",
            "\n",
            "Epoch 23\n"
          ]
        },
        {
          "name": "stderr",
          "output_type": "stream",
          "text": [
            "100%|██████████| 100/100 [01:01<00:00,  1.63it/s]\n"
          ]
        },
        {
          "name": "stdout",
          "output_type": "stream",
          "text": [
            "Train Loss - f: 1.9390, g: 1.9302\n",
            "Evaluating model_f:\n",
            "Validation:\n"
          ]
        },
        {
          "name": "stderr",
          "output_type": "stream",
          "text": [
            "Evaluating: 100%|██████████| 1000/1000 [00:03<00:00, 274.16it/s]\n"
          ]
        },
        {
          "name": "stdout",
          "output_type": "stream",
          "text": [
            "\n",
            "Top-K Evaluation Results\n",
            "K=  1 | Precision: 0.0230 | Recall: 0.0099\n",
            "K=  2 | Precision: 0.0225 | Recall: 0.0222\n",
            "K=  5 | Precision: 0.0210 | Recall: 0.0459\n",
            "K= 10 | Precision: 0.0188 | Recall: 0.0875\n",
            "K= 20 | Precision: 0.0145 | Recall: 0.1365\n",
            "\n",
            "Epoch 24\n"
          ]
        },
        {
          "name": "stderr",
          "output_type": "stream",
          "text": [
            "100%|██████████| 100/100 [01:01<00:00,  1.63it/s]\n"
          ]
        },
        {
          "name": "stdout",
          "output_type": "stream",
          "text": [
            "Train Loss - f: 1.9255, g: 1.9178\n",
            "Evaluating model_f:\n",
            "Validation:\n"
          ]
        },
        {
          "name": "stderr",
          "output_type": "stream",
          "text": [
            "Evaluating: 100%|██████████| 1000/1000 [00:03<00:00, 276.81it/s]\n"
          ]
        },
        {
          "name": "stdout",
          "output_type": "stream",
          "text": [
            "\n",
            "Top-K Evaluation Results\n",
            "K=  1 | Precision: 0.0250 | Recall: 0.0144\n",
            "K=  2 | Precision: 0.0240 | Recall: 0.0238\n",
            "K=  5 | Precision: 0.0228 | Recall: 0.0553\n",
            "K= 10 | Precision: 0.0187 | Recall: 0.0935\n",
            "K= 20 | Precision: 0.0149 | Recall: 0.1510\n",
            "\n",
            "Epoch 25\n"
          ]
        },
        {
          "name": "stderr",
          "output_type": "stream",
          "text": [
            "100%|██████████| 100/100 [01:01<00:00,  1.63it/s]\n"
          ]
        },
        {
          "name": "stdout",
          "output_type": "stream",
          "text": [
            "Train Loss - f: 1.9124, g: 1.9087\n",
            "Evaluating model_f:\n",
            "Validation:\n"
          ]
        },
        {
          "name": "stderr",
          "output_type": "stream",
          "text": [
            "Evaluating: 100%|██████████| 1000/1000 [00:03<00:00, 276.11it/s]\n"
          ]
        },
        {
          "name": "stdout",
          "output_type": "stream",
          "text": [
            "\n",
            "Top-K Evaluation Results\n",
            "K=  1 | Precision: 0.0260 | Recall: 0.0110\n",
            "K=  2 | Precision: 0.0275 | Recall: 0.0270\n",
            "K=  5 | Precision: 0.0238 | Recall: 0.0566\n",
            "K= 10 | Precision: 0.0203 | Recall: 0.0981\n",
            "K= 20 | Precision: 0.0161 | Recall: 0.1540\n",
            "\n",
            "Epoch 26\n"
          ]
        },
        {
          "name": "stderr",
          "output_type": "stream",
          "text": [
            "100%|██████████| 100/100 [01:01<00:00,  1.63it/s]\n"
          ]
        },
        {
          "name": "stdout",
          "output_type": "stream",
          "text": [
            "Train Loss - f: 1.9030, g: 1.8951\n",
            "Evaluating model_f:\n",
            "Validation:\n"
          ]
        },
        {
          "name": "stderr",
          "output_type": "stream",
          "text": [
            "Evaluating: 100%|██████████| 1000/1000 [00:03<00:00, 277.83it/s]\n"
          ]
        },
        {
          "name": "stdout",
          "output_type": "stream",
          "text": [
            "\n",
            "Top-K Evaluation Results\n",
            "K=  1 | Precision: 0.0240 | Recall: 0.0130\n",
            "K=  2 | Precision: 0.0235 | Recall: 0.0231\n",
            "K=  5 | Precision: 0.0248 | Recall: 0.0589\n",
            "K= 10 | Precision: 0.0214 | Recall: 0.1018\n",
            "K= 20 | Precision: 0.0169 | Recall: 0.1618\n",
            "\n",
            "Epoch 27\n"
          ]
        },
        {
          "name": "stderr",
          "output_type": "stream",
          "text": [
            "100%|██████████| 100/100 [01:01<00:00,  1.63it/s]\n"
          ]
        },
        {
          "name": "stdout",
          "output_type": "stream",
          "text": [
            "Train Loss - f: 1.8935, g: 1.8901\n",
            "Evaluating model_f:\n",
            "Validation:\n"
          ]
        },
        {
          "name": "stderr",
          "output_type": "stream",
          "text": [
            "Evaluating: 100%|██████████| 1000/1000 [00:03<00:00, 277.31it/s]\n"
          ]
        },
        {
          "name": "stdout",
          "output_type": "stream",
          "text": [
            "\n",
            "Top-K Evaluation Results\n",
            "K=  1 | Precision: 0.0230 | Recall: 0.0117\n",
            "K=  2 | Precision: 0.0250 | Recall: 0.0264\n",
            "K=  5 | Precision: 0.0218 | Recall: 0.0539\n",
            "K= 10 | Precision: 0.0195 | Recall: 0.0919\n",
            "K= 20 | Precision: 0.0168 | Recall: 0.1581\n",
            "\n",
            "Epoch 28\n"
          ]
        },
        {
          "name": "stderr",
          "output_type": "stream",
          "text": [
            "100%|██████████| 100/100 [01:01<00:00,  1.63it/s]\n"
          ]
        },
        {
          "name": "stdout",
          "output_type": "stream",
          "text": [
            "Train Loss - f: 1.8837, g: 1.8812\n",
            "Evaluating model_f:\n",
            "Validation:\n"
          ]
        },
        {
          "name": "stderr",
          "output_type": "stream",
          "text": [
            "Evaluating: 100%|██████████| 1000/1000 [00:03<00:00, 277.08it/s]\n"
          ]
        },
        {
          "name": "stdout",
          "output_type": "stream",
          "text": [
            "\n",
            "Top-K Evaluation Results\n",
            "K=  1 | Precision: 0.0160 | Recall: 0.0077\n",
            "K=  2 | Precision: 0.0225 | Recall: 0.0206\n",
            "K=  5 | Precision: 0.0208 | Recall: 0.0493\n",
            "K= 10 | Precision: 0.0184 | Recall: 0.0905\n",
            "K= 20 | Precision: 0.0152 | Recall: 0.1437\n",
            "\n",
            "Epoch 29\n"
          ]
        },
        {
          "name": "stderr",
          "output_type": "stream",
          "text": [
            "100%|██████████| 100/100 [01:01<00:00,  1.63it/s]\n"
          ]
        },
        {
          "name": "stdout",
          "output_type": "stream",
          "text": [
            "Train Loss - f: 1.8780, g: 1.8706\n",
            "Evaluating model_f:\n",
            "Validation:\n"
          ]
        },
        {
          "name": "stderr",
          "output_type": "stream",
          "text": [
            "Evaluating: 100%|██████████| 1000/1000 [00:03<00:00, 275.28it/s]\n"
          ]
        },
        {
          "name": "stdout",
          "output_type": "stream",
          "text": [
            "\n",
            "Top-K Evaluation Results\n",
            "K=  1 | Precision: 0.0250 | Recall: 0.0132\n",
            "K=  2 | Precision: 0.0265 | Recall: 0.0271\n",
            "K=  5 | Precision: 0.0252 | Recall: 0.0613\n",
            "K= 10 | Precision: 0.0234 | Recall: 0.1118\n",
            "K= 20 | Precision: 0.0185 | Recall: 0.1739\n",
            "\n",
            "Epoch 30\n"
          ]
        },
        {
          "name": "stderr",
          "output_type": "stream",
          "text": [
            "100%|██████████| 100/100 [01:01<00:00,  1.63it/s]\n"
          ]
        },
        {
          "name": "stdout",
          "output_type": "stream",
          "text": [
            "Train Loss - f: 1.8653, g: 1.8663\n",
            "Evaluating model_f:\n",
            "Validation:\n"
          ]
        },
        {
          "name": "stderr",
          "output_type": "stream",
          "text": [
            "Evaluating: 100%|██████████| 1000/1000 [00:03<00:00, 279.59it/s]\n"
          ]
        },
        {
          "name": "stdout",
          "output_type": "stream",
          "text": [
            "\n",
            "Top-K Evaluation Results\n",
            "K=  1 | Precision: 0.0260 | Recall: 0.0122\n",
            "K=  2 | Precision: 0.0240 | Recall: 0.0228\n",
            "K=  5 | Precision: 0.0228 | Recall: 0.0567\n",
            "K= 10 | Precision: 0.0225 | Recall: 0.1071\n",
            "K= 20 | Precision: 0.0183 | Recall: 0.1710\n",
            "\n",
            "Epoch 31\n"
          ]
        },
        {
          "name": "stderr",
          "output_type": "stream",
          "text": [
            "100%|██████████| 100/100 [01:01<00:00,  1.62it/s]\n"
          ]
        },
        {
          "name": "stdout",
          "output_type": "stream",
          "text": [
            "Train Loss - f: 1.8602, g: 1.8578\n",
            "Evaluating model_f:\n",
            "Validation:\n"
          ]
        },
        {
          "name": "stderr",
          "output_type": "stream",
          "text": [
            "Evaluating: 100%|██████████| 1000/1000 [00:03<00:00, 277.97it/s]\n"
          ]
        },
        {
          "name": "stdout",
          "output_type": "stream",
          "text": [
            "\n",
            "Top-K Evaluation Results\n",
            "K=  1 | Precision: 0.0250 | Recall: 0.0125\n",
            "K=  2 | Precision: 0.0235 | Recall: 0.0250\n",
            "K=  5 | Precision: 0.0208 | Recall: 0.0515\n",
            "K= 10 | Precision: 0.0196 | Recall: 0.0922\n",
            "K= 20 | Precision: 0.0161 | Recall: 0.1538\n",
            "\n",
            "Epoch 32\n"
          ]
        },
        {
          "name": "stderr",
          "output_type": "stream",
          "text": [
            "100%|██████████| 100/100 [01:01<00:00,  1.62it/s]\n"
          ]
        },
        {
          "name": "stdout",
          "output_type": "stream",
          "text": [
            "Train Loss - f: 1.8584, g: 1.8532\n",
            "Evaluating model_f:\n",
            "Validation:\n"
          ]
        },
        {
          "name": "stderr",
          "output_type": "stream",
          "text": [
            "Evaluating: 100%|██████████| 1000/1000 [00:03<00:00, 278.15it/s]\n"
          ]
        },
        {
          "name": "stdout",
          "output_type": "stream",
          "text": [
            "\n",
            "Top-K Evaluation Results\n",
            "K=  1 | Precision: 0.0230 | Recall: 0.0099\n",
            "K=  2 | Precision: 0.0255 | Recall: 0.0254\n",
            "K=  5 | Precision: 0.0246 | Recall: 0.0595\n",
            "K= 10 | Precision: 0.0205 | Recall: 0.0971\n",
            "K= 20 | Precision: 0.0170 | Recall: 0.1656\n",
            "\n",
            "Epoch 33\n"
          ]
        },
        {
          "name": "stderr",
          "output_type": "stream",
          "text": [
            "100%|██████████| 100/100 [01:01<00:00,  1.63it/s]\n"
          ]
        },
        {
          "name": "stdout",
          "output_type": "stream",
          "text": [
            "Train Loss - f: 1.8483, g: 1.8537\n",
            "Evaluating model_f:\n",
            "Validation:\n"
          ]
        },
        {
          "name": "stderr",
          "output_type": "stream",
          "text": [
            "Evaluating: 100%|██████████| 1000/1000 [00:03<00:00, 278.40it/s]\n"
          ]
        },
        {
          "name": "stdout",
          "output_type": "stream",
          "text": [
            "\n",
            "Top-K Evaluation Results\n",
            "K=  1 | Precision: 0.0200 | Recall: 0.0095\n",
            "K=  2 | Precision: 0.0230 | Recall: 0.0226\n",
            "K=  5 | Precision: 0.0216 | Recall: 0.0544\n",
            "K= 10 | Precision: 0.0196 | Recall: 0.0917\n",
            "K= 20 | Precision: 0.0163 | Recall: 0.1550\n",
            "\n",
            "Epoch 34\n"
          ]
        },
        {
          "name": "stderr",
          "output_type": "stream",
          "text": [
            "100%|██████████| 100/100 [01:01<00:00,  1.64it/s]\n"
          ]
        },
        {
          "name": "stdout",
          "output_type": "stream",
          "text": [
            "Train Loss - f: 1.8423, g: 1.8434\n",
            "Evaluating model_f:\n",
            "Validation:\n"
          ]
        },
        {
          "name": "stderr",
          "output_type": "stream",
          "text": [
            "Evaluating: 100%|██████████| 1000/1000 [00:03<00:00, 275.78it/s]\n"
          ]
        },
        {
          "name": "stdout",
          "output_type": "stream",
          "text": [
            "\n",
            "Top-K Evaluation Results\n",
            "K=  1 | Precision: 0.0250 | Recall: 0.0109\n",
            "K=  2 | Precision: 0.0255 | Recall: 0.0247\n",
            "K=  5 | Precision: 0.0236 | Recall: 0.0575\n",
            "K= 10 | Precision: 0.0198 | Recall: 0.0931\n",
            "K= 20 | Precision: 0.0167 | Recall: 0.1592\n",
            "\n",
            "Epoch 35\n"
          ]
        },
        {
          "name": "stderr",
          "output_type": "stream",
          "text": [
            "100%|██████████| 100/100 [01:01<00:00,  1.63it/s]\n"
          ]
        },
        {
          "name": "stdout",
          "output_type": "stream",
          "text": [
            "Train Loss - f: 1.8366, g: 1.8397\n",
            "Evaluating model_f:\n",
            "Validation:\n"
          ]
        },
        {
          "name": "stderr",
          "output_type": "stream",
          "text": [
            "Evaluating: 100%|██████████| 1000/1000 [00:03<00:00, 275.86it/s]\n"
          ]
        },
        {
          "name": "stdout",
          "output_type": "stream",
          "text": [
            "\n",
            "Top-K Evaluation Results\n",
            "K=  1 | Precision: 0.0220 | Recall: 0.0090\n",
            "K=  2 | Precision: 0.0225 | Recall: 0.0211\n",
            "K=  5 | Precision: 0.0222 | Recall: 0.0548\n",
            "K= 10 | Precision: 0.0217 | Recall: 0.1044\n",
            "K= 20 | Precision: 0.0163 | Recall: 0.1534\n",
            "\n",
            "Epoch 36\n"
          ]
        },
        {
          "name": "stderr",
          "output_type": "stream",
          "text": [
            "100%|██████████| 100/100 [01:01<00:00,  1.63it/s]\n"
          ]
        },
        {
          "name": "stdout",
          "output_type": "stream",
          "text": [
            "Train Loss - f: 1.8329, g: 1.8297\n",
            "Evaluating model_f:\n",
            "Validation:\n"
          ]
        },
        {
          "name": "stderr",
          "output_type": "stream",
          "text": [
            "Evaluating: 100%|██████████| 1000/1000 [00:03<00:00, 276.88it/s]\n"
          ]
        },
        {
          "name": "stdout",
          "output_type": "stream",
          "text": [
            "\n",
            "Top-K Evaluation Results\n",
            "K=  1 | Precision: 0.0260 | Recall: 0.0135\n",
            "K=  2 | Precision: 0.0255 | Recall: 0.0248\n",
            "K=  5 | Precision: 0.0248 | Recall: 0.0588\n",
            "K= 10 | Precision: 0.0228 | Recall: 0.1114\n",
            "K= 20 | Precision: 0.0185 | Recall: 0.1786\n",
            "\n",
            "Epoch 37\n"
          ]
        },
        {
          "name": "stderr",
          "output_type": "stream",
          "text": [
            "100%|██████████| 100/100 [01:01<00:00,  1.62it/s]\n"
          ]
        },
        {
          "name": "stdout",
          "output_type": "stream",
          "text": [
            "Train Loss - f: 1.8286, g: 1.8267\n",
            "Evaluating model_f:\n",
            "Validation:\n"
          ]
        },
        {
          "name": "stderr",
          "output_type": "stream",
          "text": [
            "Evaluating: 100%|██████████| 1000/1000 [00:03<00:00, 279.20it/s]\n"
          ]
        },
        {
          "name": "stdout",
          "output_type": "stream",
          "text": [
            "\n",
            "Top-K Evaluation Results\n",
            "K=  1 | Precision: 0.0280 | Recall: 0.0126\n",
            "K=  2 | Precision: 0.0275 | Recall: 0.0266\n",
            "K=  5 | Precision: 0.0236 | Recall: 0.0580\n",
            "K= 10 | Precision: 0.0212 | Recall: 0.0996\n",
            "K= 20 | Precision: 0.0174 | Recall: 0.1622\n",
            "\n",
            "Epoch 38\n"
          ]
        },
        {
          "name": "stderr",
          "output_type": "stream",
          "text": [
            "100%|██████████| 100/100 [01:01<00:00,  1.62it/s]\n"
          ]
        },
        {
          "name": "stdout",
          "output_type": "stream",
          "text": [
            "Train Loss - f: 1.8198, g: 1.8219\n",
            "Evaluating model_f:\n",
            "Validation:\n"
          ]
        },
        {
          "name": "stderr",
          "output_type": "stream",
          "text": [
            "Evaluating: 100%|██████████| 1000/1000 [00:03<00:00, 276.84it/s]\n"
          ]
        },
        {
          "name": "stdout",
          "output_type": "stream",
          "text": [
            "\n",
            "Top-K Evaluation Results\n",
            "K=  1 | Precision: 0.0270 | Recall: 0.0120\n",
            "K=  2 | Precision: 0.0235 | Recall: 0.0219\n",
            "K=  5 | Precision: 0.0244 | Recall: 0.0561\n",
            "K= 10 | Precision: 0.0205 | Recall: 0.0935\n",
            "K= 20 | Precision: 0.0161 | Recall: 0.1475\n",
            "\n",
            "Epoch 39\n"
          ]
        },
        {
          "name": "stderr",
          "output_type": "stream",
          "text": [
            "100%|██████████| 100/100 [01:01<00:00,  1.61it/s]\n"
          ]
        },
        {
          "name": "stdout",
          "output_type": "stream",
          "text": [
            "Train Loss - f: 1.8200, g: 1.8195\n",
            "Evaluating model_f:\n",
            "Validation:\n"
          ]
        },
        {
          "name": "stderr",
          "output_type": "stream",
          "text": [
            "Evaluating: 100%|██████████| 1000/1000 [00:03<00:00, 274.69it/s]\n"
          ]
        },
        {
          "name": "stdout",
          "output_type": "stream",
          "text": [
            "\n",
            "Top-K Evaluation Results\n",
            "K=  1 | Precision: 0.0250 | Recall: 0.0127\n",
            "K=  2 | Precision: 0.0245 | Recall: 0.0246\n",
            "K=  5 | Precision: 0.0238 | Recall: 0.0598\n",
            "K= 10 | Precision: 0.0204 | Recall: 0.1021\n",
            "K= 20 | Precision: 0.0161 | Recall: 0.1578\n",
            "\n",
            "Epoch 40\n"
          ]
        },
        {
          "name": "stderr",
          "output_type": "stream",
          "text": [
            "100%|██████████| 100/100 [01:01<00:00,  1.62it/s]\n"
          ]
        },
        {
          "name": "stdout",
          "output_type": "stream",
          "text": [
            "Train Loss - f: 1.8126, g: 1.8124\n",
            "Evaluating model_f:\n",
            "Validation:\n"
          ]
        },
        {
          "name": "stderr",
          "output_type": "stream",
          "text": [
            "Evaluating: 100%|██████████| 1000/1000 [00:03<00:00, 274.40it/s]"
          ]
        },
        {
          "name": "stdout",
          "output_type": "stream",
          "text": [
            "\n",
            "Top-K Evaluation Results\n",
            "K=  1 | Precision: 0.0370 | Recall: 0.0184\n",
            "K=  2 | Precision: 0.0330 | Recall: 0.0339\n",
            "K=  5 | Precision: 0.0264 | Recall: 0.0618\n",
            "K= 10 | Precision: 0.0205 | Recall: 0.0938\n",
            "K= 20 | Precision: 0.0166 | Recall: 0.1531\n"
          ]
        },
        {
          "name": "stderr",
          "output_type": "stream",
          "text": [
            "\n"
          ]
        }
      ],
      "source": [
        "results = run_cotrain(\n",
        "    model,\n",
        "    music.train_loader,\n",
        "    music.val_loader,\n",
        "    music.test_loader,\n",
        "    music.cfg,\n",
        "    'cuda',\n",
        "    num_epochs=40\n",
        ")"
      ]
    },
    {
      "cell_type": "code",
      "execution_count": null,
      "metadata": {
        "colab": {
          "background_save": true
        },
        "id": "UBl_GhrYuC6_",
        "outputId": "eaed1e97-2c85-4efc-c326-d61d8b6a8e30"
      },
      "outputs": [
        {
          "data": {
            "text/plain": [
              "Text(0.5, 1.0, 'Validation Recall of Model F')"
            ]
          },
          "execution_count": 12,
          "metadata": {},
          "output_type": "execute_result"
        },
        {
          "data": {
            "image/png": "[encoded data removed]",
            "text/plain": [
              "<Figure size 640x480 with 1 Axes>"
            ]
          },
          "metadata": {},
          "output_type": "display_data"
        }
      ],
      "source": [
        "sns.lineplot(results, x='Epoch', y='Validation Recall@5', label='Recall@5')\n",
        "sns.lineplot(results, x='Epoch', y='Validation Recall@10', label='Recall@10')\n",
        "sns.lineplot(results, x='Epoch', y='Validation Recall@20', label='Recall@20')\n",
        "plt.title('Validation Recall of Model F')"
      ]
    },
    {
      "cell_type": "code",
      "execution_count": null,
      "metadata": {
        "colab": {
          "background_save": true
        },
        "id": "HgkAAop0fB_m",
        "outputId": "5ffdd7e9-0c39-4282-a8ad-a57a451f4a2a"
      },
      "outputs": [
        {
          "data": {
            "text/plain": [
              "Text(0.5, 1.0, 'Train Loss of Model F')"
            ]
          },
          "execution_count": 13,
          "metadata": {},
          "output_type": "execute_result"
        },
        {
          "data": {
            "image/png": "[encoded data removed]",
            "text/plain": [
              "<Figure size 640x480 with 1 Axes>"
            ]
          },
          "metadata": {},
          "output_type": "display_data"
        }
      ],
      "source": [
        "sns.lineplot(results, x='Epoch', y='Train Loss F')\n",
        "plt.title('Train Loss of Model F')"
      ]
    },
    {
      "cell_type": "code",
      "execution_count": null,
      "metadata": {
        "colab": {
          "background_save": true
        },
        "id": "8aJ8qZ8-Nauf"
      },
      "outputs": [],
      "source": [
        "# Get unique values and their counts\n",
        "unique_users, counts = torch.unique(music.train_dataset.ratings[:,0], return_counts=True)"
      ]
    },
    {
      "cell_type": "code",
      "execution_count": null,
      "metadata": {
        "colab": {
          "background_save": true
        },
        "id": "G7w1kmx7G6cq",
        "outputId": "5ab0814f-741e-4be3-96d2-1b51e3732829"
      },
      "outputs": [
        {
          "name": "stdout",
          "output_type": "stream",
          "text": [
            "All Users: 1868 \n",
            "\n",
            "Cold Starters <= 1: 23\n"
          ]
        },
        {
          "name": "stderr",
          "output_type": "stream",
          "text": [
            "Evaluating: 100%|██████████| 18/18 [00:00<00:00, 283.42it/s]\n"
          ]
        },
        {
          "name": "stdout",
          "output_type": "stream",
          "text": [
            "\n",
            "Top-K Evaluation Results\n",
            "K=  1 | Precision: 0.0000 | Recall: 0.0000\n",
            "K=  2 | Precision: 0.0000 | Recall: 0.0000\n",
            "K=  5 | Precision: 0.0000 | Recall: 0.0000\n",
            "K= 10 | Precision: 0.0000 | Recall: 0.0000\n",
            "K= 20 | Precision: 0.0056 | Recall: 0.0833\n",
            "\n",
            "\n",
            "Cold Starters <= 2: 80\n"
          ]
        },
        {
          "name": "stderr",
          "output_type": "stream",
          "text": [
            "Evaluating: 100%|██████████| 61/61 [00:00<00:00, 281.72it/s]\n"
          ]
        },
        {
          "name": "stdout",
          "output_type": "stream",
          "text": [
            "\n",
            "Top-K Evaluation Results\n",
            "K=  1 | Precision: 0.0656 | Recall: 0.0230\n",
            "K=  2 | Precision: 0.0574 | Recall: 0.0434\n",
            "K=  5 | Precision: 0.0557 | Recall: 0.1046\n",
            "K= 10 | Precision: 0.0361 | Recall: 0.1311\n",
            "K= 20 | Precision: 0.0238 | Recall: 0.2033\n",
            "\n",
            "\n",
            "Cold Starters <= 3: 172\n"
          ]
        },
        {
          "name": "stderr",
          "output_type": "stream",
          "text": [
            "Evaluating: 100%|██████████| 141/141 [00:00<00:00, 282.85it/s]\n"
          ]
        },
        {
          "name": "stdout",
          "output_type": "stream",
          "text": [
            "\n",
            "Top-K Evaluation Results\n",
            "K=  1 | Precision: 0.0426 | Recall: 0.0170\n",
            "K=  2 | Precision: 0.0390 | Recall: 0.0330\n",
            "K=  5 | Precision: 0.0383 | Recall: 0.0717\n",
            "K= 10 | Precision: 0.0284 | Recall: 0.1128\n",
            "K= 20 | Precision: 0.0216 | Recall: 0.1966\n",
            "\n",
            "\n",
            "Cold Starters <= 4: 342\n"
          ]
        },
        {
          "name": "stderr",
          "output_type": "stream",
          "text": [
            "Evaluating: 100%|██████████| 294/294 [00:01<00:00, 274.75it/s]\n"
          ]
        },
        {
          "name": "stdout",
          "output_type": "stream",
          "text": [
            "\n",
            "Top-K Evaluation Results\n",
            "K=  1 | Precision: 0.0374 | Recall: 0.0144\n",
            "K=  2 | Precision: 0.0459 | Recall: 0.0457\n",
            "K=  5 | Precision: 0.0422 | Recall: 0.0902\n",
            "K= 10 | Precision: 0.0320 | Recall: 0.1389\n",
            "K= 20 | Precision: 0.0245 | Recall: 0.2185\n",
            "\n",
            "\n",
            "Cold Starters <= 5: 563\n"
          ]
        },
        {
          "name": "stderr",
          "output_type": "stream",
          "text": [
            "Evaluating: 100%|██████████| 493/493 [00:01<00:00, 285.71it/s]\n"
          ]
        },
        {
          "name": "stdout",
          "output_type": "stream",
          "text": [
            "\n",
            "Top-K Evaluation Results\n",
            "K=  1 | Precision: 0.0446 | Recall: 0.0172\n",
            "K=  2 | Precision: 0.0456 | Recall: 0.0415\n",
            "K=  5 | Precision: 0.0389 | Recall: 0.0787\n",
            "K= 10 | Precision: 0.0320 | Recall: 0.1296\n",
            "K= 20 | Precision: 0.0245 | Recall: 0.2046\n",
            "\n",
            "\n",
            "Cold Starters <= 6: 769\n"
          ]
        },
        {
          "name": "stderr",
          "output_type": "stream",
          "text": [
            "Evaluating: 100%|██████████| 684/684 [00:02<00:00, 287.12it/s]\n"
          ]
        },
        {
          "name": "stdout",
          "output_type": "stream",
          "text": [
            "\n",
            "Top-K Evaluation Results\n",
            "K=  1 | Precision: 0.0482 | Recall: 0.0207\n",
            "K=  2 | Precision: 0.0439 | Recall: 0.0411\n",
            "K=  5 | Precision: 0.0371 | Recall: 0.0764\n",
            "K= 10 | Precision: 0.0313 | Recall: 0.1281\n",
            "K= 20 | Precision: 0.0238 | Recall: 0.1965\n",
            "\n",
            "\n",
            "Cold Starters <= 7: 1034\n"
          ]
        },
        {
          "name": "stderr",
          "output_type": "stream",
          "text": [
            "Evaluating: 100%|██████████| 922/922 [00:03<00:00, 284.84it/s]\n"
          ]
        },
        {
          "name": "stdout",
          "output_type": "stream",
          "text": [
            "\n",
            "Top-K Evaluation Results\n",
            "K=  1 | Precision: 0.0531 | Recall: 0.0232\n",
            "K=  2 | Precision: 0.0456 | Recall: 0.0448\n",
            "K=  5 | Precision: 0.0388 | Recall: 0.0822\n",
            "K= 10 | Precision: 0.0311 | Recall: 0.1288\n",
            "K= 20 | Precision: 0.0238 | Recall: 0.1995\n",
            "\n",
            "\n",
            "Cold Starters <= 8: 1286\n"
          ]
        },
        {
          "name": "stderr",
          "output_type": "stream",
          "text": [
            "Evaluating: 100%|██████████| 1000/1000 [00:03<00:00, 287.92it/s]\n"
          ]
        },
        {
          "name": "stdout",
          "output_type": "stream",
          "text": [
            "\n",
            "Top-K Evaluation Results\n",
            "K=  1 | Precision: 0.0480 | Recall: 0.0211\n",
            "K=  2 | Precision: 0.0450 | Recall: 0.0441\n",
            "K=  5 | Precision: 0.0386 | Recall: 0.0831\n",
            "K= 10 | Precision: 0.0304 | Recall: 0.1290\n",
            "K= 20 | Precision: 0.0233 | Recall: 0.1958\n",
            "\n",
            "\n",
            "Cold Starters <= 9: 1471\n"
          ]
        },
        {
          "name": "stderr",
          "output_type": "stream",
          "text": [
            "Evaluating: 100%|██████████| 1000/1000 [00:03<00:00, 287.80it/s]\n"
          ]
        },
        {
          "name": "stdout",
          "output_type": "stream",
          "text": [
            "\n",
            "Top-K Evaluation Results\n",
            "K=  1 | Precision: 0.0510 | Recall: 0.0245\n",
            "K=  2 | Precision: 0.0450 | Recall: 0.0460\n",
            "K=  5 | Precision: 0.0372 | Recall: 0.0823\n",
            "K= 10 | Precision: 0.0302 | Recall: 0.1310\n",
            "K= 20 | Precision: 0.0226 | Recall: 0.1944\n",
            "\n",
            "\n",
            "Cold Starters <= 10: 1607\n"
          ]
        },
        {
          "name": "stderr",
          "output_type": "stream",
          "text": [
            "Evaluating: 100%|██████████| 1000/1000 [00:03<00:00, 284.35it/s]"
          ]
        },
        {
          "name": "stdout",
          "output_type": "stream",
          "text": [
            "\n",
            "Top-K Evaluation Results\n",
            "K=  1 | Precision: 0.0390 | Recall: 0.0191\n",
            "K=  2 | Precision: 0.0395 | Recall: 0.0413\n",
            "K=  5 | Precision: 0.0334 | Recall: 0.0767\n",
            "K= 10 | Precision: 0.0281 | Recall: 0.1265\n",
            "K= 20 | Precision: 0.0214 | Recall: 0.1886\n",
            "\n",
            "\n"
          ]
        },
        {
          "name": "stderr",
          "output_type": "stream",
          "text": [
            "\n"
          ]
        }
      ],
      "source": [
        "print('All Users:', len(unique_users), '\\n')\n",
        "\n",
        "cold_starts = pd.Series(range(1,11), name='Cold Start Values')\n",
        "\n",
        "cold_start_rows = []\n",
        "\n",
        "for i in cold_starts:\n",
        "  # Select values with count <= i\n",
        "  cold_start_rows.append(cold_start_eval(model, music, i, 'cuda'))\n",
        "  print('\\n')"
      ]
    },
    {
      "cell_type": "code",
      "execution_count": null,
      "metadata": {
        "colab": {
          "background_save": true
        },
        "id": "lRt46pB-lYvN",
        "outputId": "9d0424a8-4491-430f-e9be-1e7c26b47bda"
      },
      "outputs": [
        {
          "data": {
            "application/vnd.google.colaboratory.intrinsic+json": {
              "summary": "{\n  \"name\": \"cold_starts\",\n  \"rows\": 10,\n  \"fields\": [\n    {\n      \"column\": \"Cold Start Values\",\n      \"properties\": {\n        \"dtype\": \"number\",\n        \"std\": 3,\n        \"min\": 1,\n        \"max\": 10,\n        \"num_unique_values\": 10,\n        \"samples\": [\n          9,\n          2,\n          6\n        ],\n        \"semantic_type\": \"\",\n        \"description\": \"\"\n      }\n    },\n    {\n      \"column\": \"Precision@1\",\n      \"properties\": {\n        \"dtype\": \"number\",\n        \"std\": 0.01708811120882229,\n        \"min\": 0.0,\n        \"max\": 0.06557377049180328,\n        \"num_unique_values\": 10,\n        \"samples\": [\n          0.051,\n          0.06557377049180328,\n          0.04824561403508772\n        ],\n        \"semantic_type\": \"\",\n        \"description\": \"\"\n      }\n    },\n    {\n      \"column\": \"Recall@1\",\n      \"properties\": {\n        \"dtype\": \"number\",\n        \"std\": 0.007080133073832657,\n        \"min\": 0.0,\n        \"max\": 0.0245,\n        \"num_unique_values\": 10,\n        \"samples\": [\n          0.0245,\n          0.022950819672131147,\n          0.020687134502923976\n        ],\n        \"semantic_type\": \"\",\n        \"description\": \"\"\n      }\n    },\n    {\n      \"column\": \"Precision@2\",\n      \"properties\": {\n        \"dtype\": \"number\",\n        \"std\": 0.015132961529402538,\n        \"min\": 0.0,\n        \"max\": 0.05737704918032787,\n        \"num_unique_values\": 9,\n        \"samples\": [\n          0.045,\n          0.05737704918032787,\n          0.043859649122807015\n        ],\n        \"semantic_type\": \"\",\n        \"description\": \"\"\n      }\n    },\n    {\n      \"column\": \"Recall@2\",\n      \"properties\": {\n        \"dtype\": \"number\",\n        \"std\": 0.013896571445433248,\n        \"min\": 0.0,\n        \"max\": 0.04598333333333333,\n        \"num_unique_values\": 10,\n        \"samples\": [\n          0.04598333333333333,\n          0.04344262295081967,\n          0.041130604288499024\n        ],\n        \"semantic_type\": \"\",\n        \"description\": \"\"\n      }\n    },\n    {\n      \"column\": \"Precision@5\",\n      \"properties\": {\n        \"dtype\": \"number\",\n        \"std\": 0.013991756761232908,\n        \"min\": 0.0,\n        \"max\": 0.055737704918032795,\n        \"num_unique_values\": 10,\n        \"samples\": [\n          0.037200000000000004,\n          0.055737704918032795,\n          0.03713450292397662\n        ],\n        \"semantic_type\": \"\",\n        \"description\": \"\"\n      }\n    },\n    {\n      \"column\": \"Recall@5\",\n      \"properties\": {\n        \"dtype\": \"number\",\n        \"std\": 0.02775276943559194,\n        \"min\": 0.0,\n        \"max\": 0.10464480874316939,\n        \"num_unique_values\": 10,\n        \"samples\": [\n          0.08231071428571428,\n          0.10464480874316939,\n          0.076427179058758\n        ],\n        \"semantic_type\": \"\",\n        \"description\": \"\"\n      }\n    },\n    {\n      \"column\": \"Precision@10\",\n      \"properties\": {\n        \"dtype\": \"number\",\n        \"std\": 0.010069434450648842,\n        \"min\": 0.0,\n        \"max\": 0.036065573770491806,\n        \"num_unique_values\": 10,\n        \"samples\": [\n          0.030199999999999998,\n          0.036065573770491806,\n          0.031286549707602335\n        ],\n        \"semantic_type\": \"\",\n        \"description\": \"\"\n      }\n    },\n    {\n      \"column\": \"Recall@10\",\n      \"properties\": {\n        \"dtype\": \"number\",\n        \"std\": 0.041119465346322846,\n        \"min\": 0.0,\n        \"max\": 0.13888888888888887,\n        \"num_unique_values\": 10,\n        \"samples\": [\n          0.1310464285714286,\n          0.13114754098360654,\n          0.12811194653299915\n        ],\n        \"semantic_type\": \"\",\n        \"description\": \"\"\n      }\n    },\n    {\n      \"column\": \"Precision@20\",\n      \"properties\": {\n        \"dtype\": \"number\",\n        \"std\": 0.005699573301410535,\n        \"min\": 0.005555555555555556,\n        \"max\": 0.024543610547667342,\n        \"num_unique_values\": 10,\n        \"samples\": [\n          0.02255,\n          0.02377049180327869,\n          0.023757309941520467\n        ],\n        \"semantic_type\": \"\",\n        \"description\": \"\"\n      }\n    },\n    {\n      \"column\": \"Recall@20\",\n      \"properties\": {\n        \"dtype\": \"number\",\n        \"std\": 0.037674662713289245,\n        \"min\": 0.08333333333333333,\n        \"max\": 0.21848072562358278,\n        \"num_unique_values\": 10,\n        \"samples\": [\n          0.1944404761904762,\n          0.20327868852459016,\n          0.19647730437204122\n        ],\n        \"semantic_type\": \"\",\n        \"description\": \"\"\n      }\n    }\n  ]\n}",
              "type": "dataframe"
            },
            "text/html": [
              "\n",
              "  <div id=\"df-5fe9de59-354f-4d6c-b512-7af0e98d28ec\" class=\"colab-df-container\">\n",
              "    <div>\n",
              "<style scoped>\n",
              "    .dataframe tbody tr th:only-of-type {\n",
              "        vertical-align: middle;\n",
              "    }\n",
              "\n",
              "    .dataframe tbody tr th {\n",
              "        vertical-align: top;\n",
              "    }\n",
              "\n",
              "    .dataframe thead th {\n",
              "        text-align: right;\n",
              "    }\n",
              "</style>\n",
              "<table border=\"1\" class=\"dataframe\">\n",
              "  <thead>\n",
              "    <tr style=\"text-align: right;\">\n",
              "      <th></th>\n",
              "      <th>Cold Start Values</th>\n",
              "      <th>Precision@1</th>\n",
              "      <th>Recall@1</th>\n",
              "      <th>Precision@2</th>\n",
              "      <th>Recall@2</th>\n",
              "      <th>Precision@5</th>\n",
              "      <th>Recall@5</th>\n",
              "      <th>Precision@10</th>\n",
              "      <th>Recall@10</th>\n",
              "      <th>Precision@20</th>\n",
              "      <th>Recall@20</th>\n",
              "    </tr>\n",
              "  </thead>\n",
              "  <tbody>\n",
              "    <tr>\n",
              "      <th>0</th>\n",
              "      <td>1</td>\n",
              "      <td>0.000000</td>\n",
              "      <td>0.000000</td>\n",
              "      <td>0.000000</td>\n",
              "      <td>0.000000</td>\n",
              "      <td>0.000000</td>\n",
              "      <td>0.000000</td>\n",
              "      <td>0.000000</td>\n",
              "      <td>0.000000</td>\n",
              "      <td>0.005556</td>\n",
              "      <td>0.083333</td>\n",
              "    </tr>\n",
              "    <tr>\n",
              "      <th>1</th>\n",
              "      <td>2</td>\n",
              "      <td>0.065574</td>\n",
              "      <td>0.022951</td>\n",
              "      <td>0.057377</td>\n",
              "      <td>0.043443</td>\n",
              "      <td>0.055738</td>\n",
              "      <td>0.104645</td>\n",
              "      <td>0.036066</td>\n",
              "      <td>0.131148</td>\n",
              "      <td>0.023770</td>\n",
              "      <td>0.203279</td>\n",
              "    </tr>\n",
              "    <tr>\n",
              "      <th>2</th>\n",
              "      <td>3</td>\n",
              "      <td>0.042553</td>\n",
              "      <td>0.017021</td>\n",
              "      <td>0.039007</td>\n",
              "      <td>0.032979</td>\n",
              "      <td>0.038298</td>\n",
              "      <td>0.071749</td>\n",
              "      <td>0.028369</td>\n",
              "      <td>0.112766</td>\n",
              "      <td>0.021631</td>\n",
              "      <td>0.196572</td>\n",
              "    </tr>\n",
              "    <tr>\n",
              "      <th>3</th>\n",
              "      <td>4</td>\n",
              "      <td>0.037415</td>\n",
              "      <td>0.014399</td>\n",
              "      <td>0.045918</td>\n",
              "      <td>0.045692</td>\n",
              "      <td>0.042177</td>\n",
              "      <td>0.090193</td>\n",
              "      <td>0.031973</td>\n",
              "      <td>0.138889</td>\n",
              "      <td>0.024490</td>\n",
              "      <td>0.218481</td>\n",
              "    </tr>\n",
              "    <tr>\n",
              "      <th>4</th>\n",
              "      <td>5</td>\n",
              "      <td>0.044625</td>\n",
              "      <td>0.017208</td>\n",
              "      <td>0.045639</td>\n",
              "      <td>0.041515</td>\n",
              "      <td>0.038945</td>\n",
              "      <td>0.078654</td>\n",
              "      <td>0.032049</td>\n",
              "      <td>0.129552</td>\n",
              "      <td>0.024544</td>\n",
              "      <td>0.204622</td>\n",
              "    </tr>\n",
              "    <tr>\n",
              "      <th>5</th>\n",
              "      <td>6</td>\n",
              "      <td>0.048246</td>\n",
              "      <td>0.020687</td>\n",
              "      <td>0.043860</td>\n",
              "      <td>0.041131</td>\n",
              "      <td>0.037135</td>\n",
              "      <td>0.076427</td>\n",
              "      <td>0.031287</td>\n",
              "      <td>0.128112</td>\n",
              "      <td>0.023757</td>\n",
              "      <td>0.196477</td>\n",
              "    </tr>\n",
              "    <tr>\n",
              "      <th>6</th>\n",
              "      <td>7</td>\n",
              "      <td>0.053145</td>\n",
              "      <td>0.023247</td>\n",
              "      <td>0.045553</td>\n",
              "      <td>0.044830</td>\n",
              "      <td>0.038829</td>\n",
              "      <td>0.082161</td>\n",
              "      <td>0.031128</td>\n",
              "      <td>0.128778</td>\n",
              "      <td>0.023807</td>\n",
              "      <td>0.199484</td>\n",
              "    </tr>\n",
              "    <tr>\n",
              "      <th>7</th>\n",
              "      <td>8</td>\n",
              "      <td>0.048000</td>\n",
              "      <td>0.021133</td>\n",
              "      <td>0.045000</td>\n",
              "      <td>0.044067</td>\n",
              "      <td>0.038600</td>\n",
              "      <td>0.083093</td>\n",
              "      <td>0.030400</td>\n",
              "      <td>0.128981</td>\n",
              "      <td>0.023300</td>\n",
              "      <td>0.195845</td>\n",
              "    </tr>\n",
              "    <tr>\n",
              "      <th>8</th>\n",
              "      <td>9</td>\n",
              "      <td>0.051000</td>\n",
              "      <td>0.024500</td>\n",
              "      <td>0.045000</td>\n",
              "      <td>0.045983</td>\n",
              "      <td>0.037200</td>\n",
              "      <td>0.082311</td>\n",
              "      <td>0.030200</td>\n",
              "      <td>0.131046</td>\n",
              "      <td>0.022550</td>\n",
              "      <td>0.194440</td>\n",
              "    </tr>\n",
              "    <tr>\n",
              "      <th>9</th>\n",
              "      <td>10</td>\n",
              "      <td>0.039000</td>\n",
              "      <td>0.019133</td>\n",
              "      <td>0.039500</td>\n",
              "      <td>0.041283</td>\n",
              "      <td>0.033400</td>\n",
              "      <td>0.076677</td>\n",
              "      <td>0.028100</td>\n",
              "      <td>0.126523</td>\n",
              "      <td>0.021400</td>\n",
              "      <td>0.188636</td>\n",
              "    </tr>\n",
              "  </tbody>\n",
              "</table>\n",
              "</div>\n",
              "    <div class=\"colab-df-buttons\">\n",
              "\n",
              "  <div class=\"colab-df-container\">\n",
              "    <button class=\"colab-df-convert\" onclick=\"convertToInteractive('df-5fe9de59-354f-4d6c-b512-7af0e98d28ec')\"\n",
              "            title=\"Convert this dataframe to an interactive table.\"\n",
              "            style=\"display:none;\">\n",
              "\n",
              "  <svg xmlns=\"http://www.w3.org/2000/svg\" height=\"24px\" viewBox=\"0 -960 960 960\">\n",
              "    <path d=\"M120-120v-720h720v720H120Zm60-500h600v-160H180v160Zm220 220h160v-160H400v160Zm0 220h160v-160H400v160ZM180-400h160v-160H180v160Zm440 0h160v-160H620v160ZM180-180h160v-160H180v160Zm440 0h160v-160H620v160Z\"/>\n",
              "  </svg>\n",
              "    </button>\n",
              "\n",
              "  <style>\n",
              "    .colab-df-container {\n",
              "      display:flex;\n",
              "      gap: 12px;\n",
              "    }\n",
              "\n",
              "    .colab-df-convert {\n",
              "      background-color: #E8F0FE;\n",
              "      border: none;\n",
              "      border-radius: 50%;\n",
              "      cursor: pointer;\n",
              "      display: none;\n",
              "      fill: #1967D2;\n",
              "      height: 32px;\n",
              "      padding: 0 0 0 0;\n",
              "      width: 32px;\n",
              "    }\n",
              "\n",
              "    .colab-df-convert:hover {\n",
              "      background-color: #E2EBFA;\n",
              "      box-shadow: 0px 1px 2px rgba(60, 64, 67, 0.3), 0px 1px 3px 1px rgba(60, 64, 67, 0.15);\n",
              "      fill: #174EA6;\n",
              "    }\n",
              "\n",
              "    .colab-df-buttons div {\n",
              "      margin-bottom: 4px;\n",
              "    }\n",
              "\n",
              "    [theme=dark] .colab-df-convert {\n",
              "      background-color: #3B4455;\n",
              "      fill: #D2E3FC;\n",
              "    }\n",
              "\n",
              "    [theme=dark] .colab-df-convert:hover {\n",
              "      background-color: #434B5C;\n",
              "      box-shadow: 0px 1px 3px 1px rgba(0, 0, 0, 0.15);\n",
              "      filter: drop-shadow(0px 1px 2px rgba(0, 0, 0, 0.3));\n",
              "      fill: #FFFFFF;\n",
              "    }\n",
              "  </style>\n",
              "\n",
              "    <script>\n",
              "      const buttonEl =\n",
              "        document.querySelector('#df-5fe9de59-354f-4d6c-b512-7af0e98d28ec button.colab-df-convert');\n",
              "      buttonEl.style.display =\n",
              "        google.colab.kernel.accessAllowed ? 'block' : 'none';\n",
              "\n",
              "      async function convertToInteractive(key) {\n",
              "        const element = document.querySelector('#df-5fe9de59-354f-4d6c-b512-7af0e98d28ec');\n",
              "        const dataTable =\n",
              "          await google.colab.kernel.invokeFunction('convertToInteractive',\n",
              "                                                    [key], {});\n",
              "        if (!dataTable) return;\n",
              "\n",
              "        const docLinkHtml = 'Like what you see? Visit the ' +\n",
              "          '<a target=\"_blank\" href=https://colab.research.google.com/notebooks/data_table.ipynb>data table notebook</a>'\n",
              "          + ' to learn more about interactive tables.';\n",
              "        element.innerHTML = '';\n",
              "        dataTable['output_type'] = 'display_data';\n",
              "        await google.colab.output.renderOutput(dataTable, element);\n",
              "        const docLink = document.createElement('div');\n",
              "        docLink.innerHTML = docLinkHtml;\n",
              "        element.appendChild(docLink);\n",
              "      }\n",
              "    </script>\n",
              "  </div>\n",
              "\n",
              "\n",
              "    <div id=\"df-7e845b77-90c8-4ac9-bdbe-16714a009b18\">\n",
              "      <button class=\"colab-df-quickchart\" onclick=\"quickchart('df-7e845b77-90c8-4ac9-bdbe-16714a009b18')\"\n",
              "                title=\"Suggest charts\"\n",
              "                style=\"display:none;\">\n",
              "\n",
              "<svg xmlns=\"http://www.w3.org/2000/svg\" height=\"24px\"viewBox=\"0 0 24 24\"\n",
              "     width=\"24px\">\n",
              "    <g>\n",
              "        <path d=\"M19 3H5c-1.1 0-2 .9-2 2v14c0 1.1.9 2 2 2h14c1.1 0 2-.9 2-2V5c0-1.1-.9-2-2-2zM9 17H7v-7h2v7zm4 0h-2V7h2v10zm4 0h-2v-4h2v4z\"/>\n",
              "    </g>\n",
              "</svg>\n",
              "      </button>\n",
              "\n",
              "<style>\n",
              "  .colab-df-quickchart {\n",
              "      --bg-color: #E8F0FE;\n",
              "      --fill-color: #1967D2;\n",
              "      --hover-bg-color: #E2EBFA;\n",
              "      --hover-fill-color: #174EA6;\n",
              "      --disabled-fill-color: #AAA;\n",
              "      --disabled-bg-color: #DDD;\n",
              "  }\n",
              "\n",
              "  [theme=dark] .colab-df-quickchart {\n",
              "      --bg-color: #3B4455;\n",
              "      --fill-color: #D2E3FC;\n",
              "      --hover-bg-color: #434B5C;\n",
              "      --hover-fill-color: #FFFFFF;\n",
              "      --disabled-bg-color: #3B4455;\n",
              "      --disabled-fill-color: #666;\n",
              "  }\n",
              "\n",
              "  .colab-df-quickchart {\n",
              "    background-color: var(--bg-color);\n",
              "    border: none;\n",
              "    border-radius: 50%;\n",
              "    cursor: pointer;\n",
              "    display: none;\n",
              "    fill: var(--fill-color);\n",
              "    height: 32px;\n",
              "    padding: 0;\n",
              "    width: 32px;\n",
              "  }\n",
              "\n",
              "  .colab-df-quickchart:hover {\n",
              "    background-color: var(--hover-bg-color);\n",
              "    box-shadow: 0 1px 2px rgba(60, 64, 67, 0.3), 0 1px 3px 1px rgba(60, 64, 67, 0.15);\n",
              "    fill: var(--button-hover-fill-color);\n",
              "  }\n",
              "\n",
              "  .colab-df-quickchart-complete:disabled,\n",
              "  .colab-df-quickchart-complete:disabled:hover {\n",
              "    background-color: var(--disabled-bg-color);\n",
              "    fill: var(--disabled-fill-color);\n",
              "    box-shadow: none;\n",
              "  }\n",
              "\n",
              "  .colab-df-spinner {\n",
              "    border: 2px solid var(--fill-color);\n",
              "    border-color: transparent;\n",
              "    border-bottom-color: var(--fill-color);\n",
              "    animation:\n",
              "      spin 1s steps(1) infinite;\n",
              "  }\n",
              "\n",
              "  @keyframes spin {\n",
              "    0% {\n",
              "      border-color: transparent;\n",
              "      border-bottom-color: var(--fill-color);\n",
              "      border-left-color: var(--fill-color);\n",
              "    }\n",
              "    20% {\n",
              "      border-color: transparent;\n",
              "      border-left-color: var(--fill-color);\n",
              "      border-top-color: var(--fill-color);\n",
              "    }\n",
              "    30% {\n",
              "      border-color: transparent;\n",
              "      border-left-color: var(--fill-color);\n",
              "      border-top-color: var(--fill-color);\n",
              "      border-right-color: var(--fill-color);\n",
              "    }\n",
              "    40% {\n",
              "      border-color: transparent;\n",
              "      border-right-color: var(--fill-color);\n",
              "      border-top-color: var(--fill-color);\n",
              "    }\n",
              "    60% {\n",
              "      border-color: transparent;\n",
              "      border-right-color: var(--fill-color);\n",
              "    }\n",
              "    80% {\n",
              "      border-color: transparent;\n",
              "      border-right-color: var(--fill-color);\n",
              "      border-bottom-color: var(--fill-color);\n",
              "    }\n",
              "    90% {\n",
              "      border-color: transparent;\n",
              "      border-bottom-color: var(--fill-color);\n",
              "    }\n",
              "  }\n",
              "</style>\n",
              "\n",
              "      <script>\n",
              "        async function quickchart(key) {\n",
              "          const quickchartButtonEl =\n",
              "            document.querySelector('#' + key + ' button');\n",
              "          quickchartButtonEl.disabled = true;  // To prevent multiple clicks.\n",
              "          quickchartButtonEl.classList.add('colab-df-spinner');\n",
              "          try {\n",
              "            const charts = await google.colab.kernel.invokeFunction(\n",
              "                'suggestCharts', [key], {});\n",
              "          } catch (error) {\n",
              "            console.error('Error during call to suggestCharts:', error);\n",
              "          }\n",
              "          quickchartButtonEl.classList.remove('colab-df-spinner');\n",
              "          quickchartButtonEl.classList.add('colab-df-quickchart-complete');\n",
              "        }\n",
              "        (() => {\n",
              "          let quickchartButtonEl =\n",
              "            document.querySelector('#df-7e845b77-90c8-4ac9-bdbe-16714a009b18 button');\n",
              "          quickchartButtonEl.style.display =\n",
              "            google.colab.kernel.accessAllowed ? 'block' : 'none';\n",
              "        })();\n",
              "      </script>\n",
              "    </div>\n",
              "\n",
              "    </div>\n",
              "  </div>\n"
            ],
            "text/plain": [
              "   Cold Start Values  Precision@1  Recall@1  Precision@2  Recall@2  \\\n",
              "0                  1     0.000000  0.000000     0.000000  0.000000   \n",
              "1                  2     0.065574  0.022951     0.057377  0.043443   \n",
              "2                  3     0.042553  0.017021     0.039007  0.032979   \n",
              "3                  4     0.037415  0.014399     0.045918  0.045692   \n",
              "4                  5     0.044625  0.017208     0.045639  0.041515   \n",
              "5                  6     0.048246  0.020687     0.043860  0.041131   \n",
              "6                  7     0.053145  0.023247     0.045553  0.044830   \n",
              "7                  8     0.048000  0.021133     0.045000  0.044067   \n",
              "8                  9     0.051000  0.024500     0.045000  0.045983   \n",
              "9                 10     0.039000  0.019133     0.039500  0.041283   \n",
              "\n",
              "   Precision@5  Recall@5  Precision@10  Recall@10  Precision@20  Recall@20  \n",
              "0     0.000000  0.000000      0.000000   0.000000      0.005556   0.083333  \n",
              "1     0.055738  0.104645      0.036066   0.131148      0.023770   0.203279  \n",
              "2     0.038298  0.071749      0.028369   0.112766      0.021631   0.196572  \n",
              "3     0.042177  0.090193      0.031973   0.138889      0.024490   0.218481  \n",
              "4     0.038945  0.078654      0.032049   0.129552      0.024544   0.204622  \n",
              "5     0.037135  0.076427      0.031287   0.128112      0.023757   0.196477  \n",
              "6     0.038829  0.082161      0.031128   0.128778      0.023807   0.199484  \n",
              "7     0.038600  0.083093      0.030400   0.128981      0.023300   0.195845  \n",
              "8     0.037200  0.082311      0.030200   0.131046      0.022550   0.194440  \n",
              "9     0.033400  0.076677      0.028100   0.126523      0.021400   0.188636  "
            ]
          },
          "execution_count": 16,
          "metadata": {},
          "output_type": "execute_result"
        }
      ],
      "source": [
        "# Cold Start Test Set\n",
        "cold_starts.to_frame().join(pd.concat(cold_start_rows, ignore_index=True))"
      ]
    },
    {
      "cell_type": "code",
      "execution_count": null,
      "metadata": {
        "colab": {
          "background_save": true
        },
        "id": "AoWdmBMoGNIG",
        "outputId": "e9c07df6-9676-4f12-889a-be37d4c7f792"
      },
      "outputs": [
        {
          "name": "stderr",
          "output_type": "stream",
          "text": [
            "Evaluating: 100%|██████████| 1000/1000 [00:03<00:00, 287.00it/s]"
          ]
        },
        {
          "name": "stdout",
          "output_type": "stream",
          "text": [
            "\n",
            "Top-K Evaluation Results\n",
            "K=  1 | Precision: 0.0390 | Recall: 0.0191\n",
            "K=  2 | Precision: 0.0360 | Recall: 0.0363\n",
            "K=  5 | Precision: 0.0304 | Recall: 0.0707\n",
            "K= 10 | Precision: 0.0279 | Recall: 0.1236\n",
            "K= 20 | Precision: 0.0203 | Recall: 0.1762\n"
          ]
        },
        {
          "name": "stderr",
          "output_type": "stream",
          "text": [
            "\n"
          ]
        },
        {
          "data": {
            "application/vnd.google.colaboratory.intrinsic+json": {
              "summary": "{\n  \"name\": \"        )\",\n  \"rows\": 1,\n  \"fields\": [\n    {\n      \"column\": \"Precision@1\",\n      \"properties\": {\n        \"dtype\": \"number\",\n        \"std\": null,\n        \"min\": 0.039,\n        \"max\": 0.039,\n        \"num_unique_values\": 1,\n        \"samples\": [\n          0.039\n        ],\n        \"semantic_type\": \"\",\n        \"description\": \"\"\n      }\n    },\n    {\n      \"column\": \"Recall@1\",\n      \"properties\": {\n        \"dtype\": \"number\",\n        \"std\": null,\n        \"min\": 0.0191,\n        \"max\": 0.0191,\n        \"num_unique_values\": 1,\n        \"samples\": [\n          0.0191\n        ],\n        \"semantic_type\": \"\",\n        \"description\": \"\"\n      }\n    },\n    {\n      \"column\": \"Precision@2\",\n      \"properties\": {\n        \"dtype\": \"number\",\n        \"std\": null,\n        \"min\": 0.036,\n        \"max\": 0.036,\n        \"num_unique_values\": 1,\n        \"samples\": [\n          0.036\n        ],\n        \"semantic_type\": \"\",\n        \"description\": \"\"\n      }\n    },\n    {\n      \"column\": \"Recall@2\",\n      \"properties\": {\n        \"dtype\": \"number\",\n        \"std\": null,\n        \"min\": 0.036283333333333334,\n        \"max\": 0.036283333333333334,\n        \"num_unique_values\": 1,\n        \"samples\": [\n          0.036283333333333334\n        ],\n        \"semantic_type\": \"\",\n        \"description\": \"\"\n      }\n    },\n    {\n      \"column\": \"Precision@5\",\n      \"properties\": {\n        \"dtype\": \"number\",\n        \"std\": null,\n        \"min\": 0.030400000000000003,\n        \"max\": 0.030400000000000003,\n        \"num_unique_values\": 1,\n        \"samples\": [\n          0.030400000000000003\n        ],\n        \"semantic_type\": \"\",\n        \"description\": \"\"\n      }\n    },\n    {\n      \"column\": \"Recall@5\",\n      \"properties\": {\n        \"dtype\": \"number\",\n        \"std\": null,\n        \"min\": 0.07071190476190475,\n        \"max\": 0.07071190476190475,\n        \"num_unique_values\": 1,\n        \"samples\": [\n          0.07071190476190475\n        ],\n        \"semantic_type\": \"\",\n        \"description\": \"\"\n      }\n    },\n    {\n      \"column\": \"Precision@10\",\n      \"properties\": {\n        \"dtype\": \"number\",\n        \"std\": null,\n        \"min\": 0.0279,\n        \"max\": 0.0279,\n        \"num_unique_values\": 1,\n        \"samples\": [\n          0.0279\n        ],\n        \"semantic_type\": \"\",\n        \"description\": \"\"\n      }\n    },\n    {\n      \"column\": \"Recall@10\",\n      \"properties\": {\n        \"dtype\": \"number\",\n        \"std\": null,\n        \"min\": 0.12360952380952381,\n        \"max\": 0.12360952380952381,\n        \"num_unique_values\": 1,\n        \"samples\": [\n          0.12360952380952381\n        ],\n        \"semantic_type\": \"\",\n        \"description\": \"\"\n      }\n    },\n    {\n      \"column\": \"Precision@20\",\n      \"properties\": {\n        \"dtype\": \"number\",\n        \"std\": null,\n        \"min\": 0.02025,\n        \"max\": 0.02025,\n        \"num_unique_values\": 1,\n        \"samples\": [\n          0.02025\n        ],\n        \"semantic_type\": \"\",\n        \"description\": \"\"\n      }\n    },\n    {\n      \"column\": \"Recall@20\",\n      \"properties\": {\n        \"dtype\": \"number\",\n        \"std\": null,\n        \"min\": 0.176175,\n        \"max\": 0.176175,\n        \"num_unique_values\": 1,\n        \"samples\": [\n          0.176175\n        ],\n        \"semantic_type\": \"\",\n        \"description\": \"\"\n      }\n    }\n  ]\n}",
              "type": "dataframe"
            },
            "text/html": [
              "\n",
              "  <div id=\"df-75b6149e-d25a-4615-8f3f-f8fc39dc26d0\" class=\"colab-df-container\">\n",
              "    <div>\n",
              "<style scoped>\n",
              "    .dataframe tbody tr th:only-of-type {\n",
              "        vertical-align: middle;\n",
              "    }\n",
              "\n",
              "    .dataframe tbody tr th {\n",
              "        vertical-align: top;\n",
              "    }\n",
              "\n",
              "    .dataframe thead th {\n",
              "        text-align: right;\n",
              "    }\n",
              "</style>\n",
              "<table border=\"1\" class=\"dataframe\">\n",
              "  <thead>\n",
              "    <tr style=\"text-align: right;\">\n",
              "      <th></th>\n",
              "      <th>Precision@1</th>\n",
              "      <th>Recall@1</th>\n",
              "      <th>Precision@2</th>\n",
              "      <th>Recall@2</th>\n",
              "      <th>Precision@5</th>\n",
              "      <th>Recall@5</th>\n",
              "      <th>Precision@10</th>\n",
              "      <th>Recall@10</th>\n",
              "      <th>Precision@20</th>\n",
              "      <th>Recall@20</th>\n",
              "    </tr>\n",
              "  </thead>\n",
              "  <tbody>\n",
              "    <tr>\n",
              "      <th>0</th>\n",
              "      <td>0.039</td>\n",
              "      <td>0.0191</td>\n",
              "      <td>0.036</td>\n",
              "      <td>0.036283</td>\n",
              "      <td>0.0304</td>\n",
              "      <td>0.070712</td>\n",
              "      <td>0.0279</td>\n",
              "      <td>0.12361</td>\n",
              "      <td>0.02025</td>\n",
              "      <td>0.176175</td>\n",
              "    </tr>\n",
              "  </tbody>\n",
              "</table>\n",
              "</div>\n",
              "    <div class=\"colab-df-buttons\">\n",
              "\n",
              "  <div class=\"colab-df-container\">\n",
              "    <button class=\"colab-df-convert\" onclick=\"convertToInteractive('df-75b6149e-d25a-4615-8f3f-f8fc39dc26d0')\"\n",
              "            title=\"Convert this dataframe to an interactive table.\"\n",
              "            style=\"display:none;\">\n",
              "\n",
              "  <svg xmlns=\"http://www.w3.org/2000/svg\" height=\"24px\" viewBox=\"0 -960 960 960\">\n",
              "    <path d=\"M120-120v-720h720v720H120Zm60-500h600v-160H180v160Zm220 220h160v-160H400v160Zm0 220h160v-160H400v160ZM180-400h160v-160H180v160Zm440 0h160v-160H620v160ZM180-180h160v-160H180v160Zm440 0h160v-160H620v160Z\"/>\n",
              "  </svg>\n",
              "    </button>\n",
              "\n",
              "  <style>\n",
              "    .colab-df-container {\n",
              "      display:flex;\n",
              "      gap: 12px;\n",
              "    }\n",
              "\n",
              "    .colab-df-convert {\n",
              "      background-color: #E8F0FE;\n",
              "      border: none;\n",
              "      border-radius: 50%;\n",
              "      cursor: pointer;\n",
              "      display: none;\n",
              "      fill: #1967D2;\n",
              "      height: 32px;\n",
              "      padding: 0 0 0 0;\n",
              "      width: 32px;\n",
              "    }\n",
              "\n",
              "    .colab-df-convert:hover {\n",
              "      background-color: #E2EBFA;\n",
              "      box-shadow: 0px 1px 2px rgba(60, 64, 67, 0.3), 0px 1px 3px 1px rgba(60, 64, 67, 0.15);\n",
              "      fill: #174EA6;\n",
              "    }\n",
              "\n",
              "    .colab-df-buttons div {\n",
              "      margin-bottom: 4px;\n",
              "    }\n",
              "\n",
              "    [theme=dark] .colab-df-convert {\n",
              "      background-color: #3B4455;\n",
              "      fill: #D2E3FC;\n",
              "    }\n",
              "\n",
              "    [theme=dark] .colab-df-convert:hover {\n",
              "      background-color: #434B5C;\n",
              "      box-shadow: 0px 1px 3px 1px rgba(0, 0, 0, 0.15);\n",
              "      filter: drop-shadow(0px 1px 2px rgba(0, 0, 0, 0.3));\n",
              "      fill: #FFFFFF;\n",
              "    }\n",
              "  </style>\n",
              "\n",
              "    <script>\n",
              "      const buttonEl =\n",
              "        document.querySelector('#df-75b6149e-d25a-4615-8f3f-f8fc39dc26d0 button.colab-df-convert');\n",
              "      buttonEl.style.display =\n",
              "        google.colab.kernel.accessAllowed ? 'block' : 'none';\n",
              "\n",
              "      async function convertToInteractive(key) {\n",
              "        const element = document.querySelector('#df-75b6149e-d25a-4615-8f3f-f8fc39dc26d0');\n",
              "        const dataTable =\n",
              "          await google.colab.kernel.invokeFunction('convertToInteractive',\n",
              "                                                    [key], {});\n",
              "        if (!dataTable) return;\n",
              "\n",
              "        const docLinkHtml = 'Like what you see? Visit the ' +\n",
              "          '<a target=\"_blank\" href=https://colab.research.google.com/notebooks/data_table.ipynb>data table notebook</a>'\n",
              "          + ' to learn more about interactive tables.';\n",
              "        element.innerHTML = '';\n",
              "        dataTable['output_type'] = 'display_data';\n",
              "        await google.colab.output.renderOutput(dataTable, element);\n",
              "        const docLink = document.createElement('div');\n",
              "        docLink.innerHTML = docLinkHtml;\n",
              "        element.appendChild(docLink);\n",
              "      }\n",
              "    </script>\n",
              "  </div>\n",
              "\n",
              "\n",
              "    </div>\n",
              "  </div>\n"
            ],
            "text/plain": [
              "   Precision@1  Recall@1  Precision@2  Recall@2  Precision@5  Recall@5  \\\n",
              "0        0.039    0.0191        0.036  0.036283       0.0304  0.070712   \n",
              "\n",
              "   Precision@10  Recall@10  Precision@20  Recall@20  \n",
              "0        0.0279    0.12361       0.02025   0.176175  "
            ]
          },
          "execution_count": 17,
          "metadata": {},
          "output_type": "execute_result"
        }
      ],
      "source": [
        "# Overall Test Set Evaluation\n",
        "run_topk_eval(\n",
        "          model=model,\n",
        "          cfg = music.cfg,\n",
        "          train_data=music.train_dataset.ratings.numpy(),\n",
        "          eval_data=music.val_dataset.ratings.numpy(),\n",
        "          test_data=music.test_dataset.ratings.numpy(),\n",
        "          n_items=music.n_item,\n",
        "          device='cuda',\n",
        "          test_mode=True  # or True for test set\n",
        "        )"
      ]
    }
  ],
  "metadata": {
    "accelerator": "GPU",
    "colab": {
      "gpuType": "T4",
      "machine_shape": "hm",
      "provenance": []
    },
    "kernelspec": {
      "display_name": "Python 3",
      "name": "python3"
    },
    "language_info": {
      "name": "python"
    }
  },
  "nbformat": 4,
  "nbformat_minor": 0
}