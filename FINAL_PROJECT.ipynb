{
  "nbformat": 4,
  "nbformat_minor": 0,
  "metadata": {
    "colab": {
      "provenance": []
    },
    "kernelspec": {
      "name": "python3",
      "display_name": "Python 3"
    },
    "language_info": {
      "name": "python"
    }
  },
  "cells": [
    {
      "cell_type": "code",
      "source": [
        "import torch\n",
        "from torch.utils.data import Dataset\n",
        "import numpy as np\n",
        "import pandas as pd"
      ],
      "metadata": {
        "id": "-2fdXCTbWj2l"
      },
      "execution_count": 1,
      "outputs": []
    },
    {
      "cell_type": "code",
      "execution_count": 2,
      "metadata": {
        "colab": {
          "base_uri": "https://localhost:8080/"
        },
        "id": "_wfnXVLgSZG8",
        "outputId": "3ade0b47-c64d-45ed-8e41-237a387ac3ab"
      },
      "outputs": [
        {
          "output_type": "stream",
          "name": "stdout",
          "text": [
            "fatal: destination path 'KGPL' already exists and is not an empty directory.\n"
          ]
        }
      ],
      "source": [
        "!git clone https://github.com/riktor/KGPL/"
      ]
    },
    {
      "cell_type": "code",
      "source": [
        "!cd KGPL &&\\\n",
        "python preprocess/preprocess.py -d \"movie\" &&\\\n",
        "python preprocess/make_path_list.py lp_depth=6 dataset=music kg_path=data/music/kg_final.npy rating_path=data/music/ratings_final.npy num_neighbor_samples=32\n",
        "\n",
        "!cd KGPL &&\\\n",
        "python preprocess/preprocess.py -d \"music\" &&\\\n",
        "python preprocess/make_path_list.py lp_depth=6 dataset=music kg_path=data/music/kg_final.npy rating_path=data/music/ratings_final.npy num_neighbor_samples=32\n",
        "\n",
        "!cd KGPL &&\\\n",
        "python preprocess/preprocess.py -d \"book\" &&\\\n",
        "python preprocess/make_path_list.py lp_depth=6 dataset=book kg_path=data/book/kg_final.npy rating_path=data/book/ratings_final.npy num_neighbor_samples=8"
      ],
      "metadata": {
        "colab": {
          "base_uri": "https://localhost:8080/"
        },
        "id": "CyX4r9AgU1Md",
        "outputId": "89a7dfdd-ef22-4d52-e25d-de8edfaf049b"
      },
      "execution_count": 3,
      "outputs": [
        {
          "output_type": "stream",
          "name": "stdout",
          "text": [
            "reading item index to entity id file: data/movie/item_index2entity_id.txt ...\n",
            "reading rating file ...\n",
            "converting rating file ...\n",
            "number of users: 6040\n",
            "number of items: 2347\n",
            "converting kg file ...\n",
            "number of entities (containing items): 7008\n",
            "number of relations: 7\n",
            "done\n",
            "Traceback (most recent call last):\n",
            "  File \"/content/KGPL/preprocess/make_path_list.py\", line 4, in <module>\n",
            "    import hydra\n",
            "ModuleNotFoundError: No module named 'hydra'\n",
            "reading item index to entity id file: data/music/item_index2entity_id.txt ...\n",
            "reading rating file ...\n",
            "converting rating file ...\n",
            "number of users: 1872\n",
            "number of items: 3846\n",
            "converting kg file ...\n",
            "number of entities (containing items): 9366\n",
            "number of relations: 60\n",
            "done\n",
            "Traceback (most recent call last):\n",
            "  File \"/content/KGPL/preprocess/make_path_list.py\", line 4, in <module>\n",
            "    import hydra\n",
            "ModuleNotFoundError: No module named 'hydra'\n",
            "reading item index to entity id file: data/book/item_index2entity_id.txt ...\n",
            "reading rating file ...\n",
            "converting rating file ...\n",
            "number of users: 17860\n",
            "number of items: 14967\n",
            "converting kg file ...\n",
            "number of entities (containing items): 77903\n",
            "number of relations: 25\n",
            "done\n",
            "Traceback (most recent call last):\n",
            "  File \"/content/KGPL/preprocess/make_path_list.py\", line 4, in <module>\n",
            "    import hydra\n",
            "ModuleNotFoundError: No module named 'hydra'\n"
          ]
        }
      ]
    },
    {
      "cell_type": "code",
      "source": [
        "class KGPLCOT():\n",
        "  '''\n",
        "  KGPL model configuration for each dataset.\n",
        "  '''\n",
        "  def __init__(self, dataset_name:str):\n",
        "    self.dataset_name = dataset_name\n",
        "\n",
        "class KGPLDataset(Dataset):\n",
        "  '''\n",
        "  Custom dataset class which includes all datasets and parameters per model.\n",
        "  Specified under \"data\" directory\n",
        "  '''\n",
        "\n",
        "  # We may have to expand this quite a bit.\n",
        "\n",
        "  def __init__(self,dataset_name:str):\n",
        "    self.raw_data = pd.DataFrame() #raw dataframe\n",
        "    self.ratings = np.Array() #rating matrix\n",
        "    self.kg = np.Array() #kg adjacency matrix\n",
        "  def __len__(self,):\n",
        "    return len(self.ratings)\n",
        "  def __getitem__(self,idx):\n",
        "    return self.ratings[idx]"
      ],
      "metadata": {
        "id": "kb4mI82_TQZ3"
      },
      "execution_count": 4,
      "outputs": []
    },
    {
      "cell_type": "markdown",
      "source": [
        "## Next: Refactor split_data.py\n",
        "Split data uses the ratings npy files, which is why I've coded it into the custom dataset object.\n",
        "\n",
        "It does not use TensorFlow, but we'll need to do this to make it more pytorchy and more usable in the next stage."
      ],
      "metadata": {
        "id": "2vxCqc86ayUc"
      }
    },
    {
      "cell_type": "code",
      "source": [],
      "metadata": {
        "id": "PN82fkFCaxzc"
      },
      "execution_count": null,
      "outputs": []
    },
    {
      "cell_type": "code",
      "source": [],
      "metadata": {
        "id": "1LNn4UQ9auEv"
      },
      "execution_count": null,
      "outputs": []
    },
    {
      "cell_type": "code",
      "source": [],
      "metadata": {
        "id": "aFIn1R3DXRds"
      },
      "execution_count": 4,
      "outputs": []
    }
  ]
}